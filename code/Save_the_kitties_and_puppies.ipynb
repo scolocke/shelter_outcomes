{
 "cells": [
  {
   "cell_type": "markdown",
   "id": "cecf8624",
   "metadata": {},
   "source": [
    "# Save the Dogs and Cats\n",
    "Seeing how well we can predict the outcome for animals in Austin Shelter"
   ]
  },
  {
   "cell_type": "code",
   "execution_count": 16,
   "id": "699592f6",
   "metadata": {},
   "outputs": [],
   "source": [
    "#imports\n",
    "import pandas as pd\n",
    "import numpy as np\n",
    "import datetime as dt\n",
    "import time\n",
    "import requests\n",
    "import matplotlib.pyplot as plt\n",
    "import string\n",
    "import seaborn as sns\n",
    "\n",
    "from sklearn.model_selection import train_test_split, GridSearchCV, RandomizedSearchCV\n",
    "from sklearn.pipeline import Pipeline\n",
    "from sklearn.naive_bayes import MultinomialNB\n",
    "from sklearn.linear_model import LogisticRegression,LogisticRegressionCV\n",
    "from sklearn.metrics import confusion_matrix, plot_confusion_matrix\n",
    "from sklearn import metrics\n",
    "\n",
    "from sklearn.tree import DecisionTreeClassifier\n",
    "from sklearn.ensemble import RandomForestClassifier, ExtraTreesClassifier\n",
    "\n",
    "from sklearn.preprocessing import StandardScaler\n",
    "from skopt.space import Integer, Real, Categorical\n",
    "from skopt import BayesSearchCV\n",
    "from scipy.stats import uniform, loguniform\n",
    "from sklearn.neighbors import KNeighborsClassifier\n",
    "\n",
    "# Import CountVectorizer and TFIDFVectorizer from feature_extraction.text.\n",
    "from sklearn.feature_extraction.text import CountVectorizer, TfidfVectorizer\n",
    "from sklearn.svm import SVC\n",
    "\n"
   ]
  },
  {
   "cell_type": "code",
   "execution_count": 17,
   "id": "c868eff4",
   "metadata": {},
   "outputs": [],
   "source": [
    "#Load in data\n",
    "anim = pd.read_csv('../shelter-animal-outcomes/train.csv')"
   ]
  },
  {
   "cell_type": "code",
   "execution_count": 18,
   "id": "fd7bb000",
   "metadata": {},
   "outputs": [
    {
     "data": {
      "text/html": [
       "<div>\n",
       "<style scoped>\n",
       "    .dataframe tbody tr th:only-of-type {\n",
       "        vertical-align: middle;\n",
       "    }\n",
       "\n",
       "    .dataframe tbody tr th {\n",
       "        vertical-align: top;\n",
       "    }\n",
       "\n",
       "    .dataframe thead th {\n",
       "        text-align: right;\n",
       "    }\n",
       "</style>\n",
       "<table border=\"1\" class=\"dataframe\">\n",
       "  <thead>\n",
       "    <tr style=\"text-align: right;\">\n",
       "      <th></th>\n",
       "      <th>AnimalID</th>\n",
       "      <th>Name</th>\n",
       "      <th>DateTime</th>\n",
       "      <th>OutcomeType</th>\n",
       "      <th>OutcomeSubtype</th>\n",
       "      <th>AnimalType</th>\n",
       "      <th>SexuponOutcome</th>\n",
       "      <th>AgeuponOutcome</th>\n",
       "      <th>Breed</th>\n",
       "      <th>Color</th>\n",
       "    </tr>\n",
       "  </thead>\n",
       "  <tbody>\n",
       "    <tr>\n",
       "      <th>0</th>\n",
       "      <td>A671945</td>\n",
       "      <td>Hambone</td>\n",
       "      <td>2014-02-12 18:22:00</td>\n",
       "      <td>Return_to_owner</td>\n",
       "      <td>NaN</td>\n",
       "      <td>Dog</td>\n",
       "      <td>Neutered Male</td>\n",
       "      <td>1 year</td>\n",
       "      <td>Shetland Sheepdog Mix</td>\n",
       "      <td>Brown/White</td>\n",
       "    </tr>\n",
       "    <tr>\n",
       "      <th>1</th>\n",
       "      <td>A656520</td>\n",
       "      <td>Emily</td>\n",
       "      <td>2013-10-13 12:44:00</td>\n",
       "      <td>Euthanasia</td>\n",
       "      <td>Suffering</td>\n",
       "      <td>Cat</td>\n",
       "      <td>Spayed Female</td>\n",
       "      <td>1 year</td>\n",
       "      <td>Domestic Shorthair Mix</td>\n",
       "      <td>Cream Tabby</td>\n",
       "    </tr>\n",
       "    <tr>\n",
       "      <th>2</th>\n",
       "      <td>A686464</td>\n",
       "      <td>Pearce</td>\n",
       "      <td>2015-01-31 12:28:00</td>\n",
       "      <td>Adoption</td>\n",
       "      <td>Foster</td>\n",
       "      <td>Dog</td>\n",
       "      <td>Neutered Male</td>\n",
       "      <td>2 years</td>\n",
       "      <td>Pit Bull Mix</td>\n",
       "      <td>Blue/White</td>\n",
       "    </tr>\n",
       "    <tr>\n",
       "      <th>3</th>\n",
       "      <td>A683430</td>\n",
       "      <td>NaN</td>\n",
       "      <td>2014-07-11 19:09:00</td>\n",
       "      <td>Transfer</td>\n",
       "      <td>Partner</td>\n",
       "      <td>Cat</td>\n",
       "      <td>Intact Male</td>\n",
       "      <td>3 weeks</td>\n",
       "      <td>Domestic Shorthair Mix</td>\n",
       "      <td>Blue Cream</td>\n",
       "    </tr>\n",
       "    <tr>\n",
       "      <th>4</th>\n",
       "      <td>A667013</td>\n",
       "      <td>NaN</td>\n",
       "      <td>2013-11-15 12:52:00</td>\n",
       "      <td>Transfer</td>\n",
       "      <td>Partner</td>\n",
       "      <td>Dog</td>\n",
       "      <td>Neutered Male</td>\n",
       "      <td>2 years</td>\n",
       "      <td>Lhasa Apso/Miniature Poodle</td>\n",
       "      <td>Tan</td>\n",
       "    </tr>\n",
       "  </tbody>\n",
       "</table>\n",
       "</div>"
      ],
      "text/plain": [
       "  AnimalID     Name             DateTime      OutcomeType OutcomeSubtype  \\\n",
       "0  A671945  Hambone  2014-02-12 18:22:00  Return_to_owner            NaN   \n",
       "1  A656520    Emily  2013-10-13 12:44:00       Euthanasia      Suffering   \n",
       "2  A686464   Pearce  2015-01-31 12:28:00         Adoption         Foster   \n",
       "3  A683430      NaN  2014-07-11 19:09:00         Transfer        Partner   \n",
       "4  A667013      NaN  2013-11-15 12:52:00         Transfer        Partner   \n",
       "\n",
       "  AnimalType SexuponOutcome AgeuponOutcome                        Breed  \\\n",
       "0        Dog  Neutered Male         1 year        Shetland Sheepdog Mix   \n",
       "1        Cat  Spayed Female         1 year       Domestic Shorthair Mix   \n",
       "2        Dog  Neutered Male        2 years                 Pit Bull Mix   \n",
       "3        Cat    Intact Male        3 weeks       Domestic Shorthair Mix   \n",
       "4        Dog  Neutered Male        2 years  Lhasa Apso/Miniature Poodle   \n",
       "\n",
       "         Color  \n",
       "0  Brown/White  \n",
       "1  Cream Tabby  \n",
       "2   Blue/White  \n",
       "3   Blue Cream  \n",
       "4          Tan  "
      ]
     },
     "execution_count": 18,
     "metadata": {},
     "output_type": "execute_result"
    }
   ],
   "source": [
    "anim.head()"
   ]
  },
  {
   "cell_type": "code",
   "execution_count": 19,
   "id": "0f29f410",
   "metadata": {},
   "outputs": [
    {
     "name": "stdout",
     "output_type": "stream",
     "text": [
      "<class 'pandas.core.frame.DataFrame'>\n",
      "RangeIndex: 26729 entries, 0 to 26728\n",
      "Data columns (total 10 columns):\n",
      " #   Column          Non-Null Count  Dtype \n",
      "---  ------          --------------  ----- \n",
      " 0   AnimalID        26729 non-null  object\n",
      " 1   Name            19038 non-null  object\n",
      " 2   DateTime        26729 non-null  object\n",
      " 3   OutcomeType     26729 non-null  object\n",
      " 4   OutcomeSubtype  13117 non-null  object\n",
      " 5   AnimalType      26729 non-null  object\n",
      " 6   SexuponOutcome  26728 non-null  object\n",
      " 7   AgeuponOutcome  26711 non-null  object\n",
      " 8   Breed           26729 non-null  object\n",
      " 9   Color           26729 non-null  object\n",
      "dtypes: object(10)\n",
      "memory usage: 2.0+ MB\n"
     ]
    }
   ],
   "source": [
    "anim.info()"
   ]
  },
  {
   "cell_type": "code",
   "execution_count": 20,
   "id": "91edc92f",
   "metadata": {},
   "outputs": [],
   "source": [
    "#this gives away the ending\n",
    "anim.drop(columns='OutcomeSubtype',inplace = True)"
   ]
  },
  {
   "cell_type": "code",
   "execution_count": 21,
   "id": "0423efd1",
   "metadata": {},
   "outputs": [
    {
     "data": {
      "text/plain": [
       "Max            136\n",
       "Bella          135\n",
       "Charlie        107\n",
       "Daisy          106\n",
       "Lucy            94\n",
       "              ... \n",
       "Topher           1\n",
       "Bilby            1\n",
       "Cota             1\n",
       "Blue Meadow      1\n",
       "Green Bean       1\n",
       "Name: Name, Length: 6374, dtype: int64"
      ]
     },
     "execution_count": 21,
     "metadata": {},
     "output_type": "execute_result"
    }
   ],
   "source": [
    "anim['Name'].value_counts()"
   ]
  },
  {
   "cell_type": "code",
   "execution_count": 27,
   "id": "4eb9a018",
   "metadata": {},
   "outputs": [
    {
     "data": {
      "text/plain": [
       "1    19038\n",
       "0     7691\n",
       "Name: has_name, dtype: int64"
      ]
     },
     "execution_count": 27,
     "metadata": {},
     "output_type": "execute_result"
    }
   ],
   "source": [
    "anim['has_name'] = anim['Name'].isnull()\n",
    "anim['has_name'] = anim['has_name'].map(lambda x: 0 if x else 1)\n",
    "anim['has_name'].value_counts()"
   ]
  },
  {
   "cell_type": "code",
   "execution_count": 28,
   "id": "0bb79743",
   "metadata": {},
   "outputs": [],
   "source": [
    "anim.drop(columns='Name',inplace = True)"
   ]
  },
  {
   "cell_type": "code",
   "execution_count": 29,
   "id": "e248b484",
   "metadata": {},
   "outputs": [],
   "source": [
    "#Change Dog/Cat to 0/1\n",
    "anim['AnimalType'] = anim['AnimalType'].map(lambda x: 1 if x == 'Dog' else 0)"
   ]
  },
  {
   "cell_type": "code",
   "execution_count": 30,
   "id": "1bb9a0d8",
   "metadata": {},
   "outputs": [
    {
     "data": {
      "text/html": [
       "<div>\n",
       "<style scoped>\n",
       "    .dataframe tbody tr th:only-of-type {\n",
       "        vertical-align: middle;\n",
       "    }\n",
       "\n",
       "    .dataframe tbody tr th {\n",
       "        vertical-align: top;\n",
       "    }\n",
       "\n",
       "    .dataframe thead th {\n",
       "        text-align: right;\n",
       "    }\n",
       "</style>\n",
       "<table border=\"1\" class=\"dataframe\">\n",
       "  <thead>\n",
       "    <tr style=\"text-align: right;\">\n",
       "      <th></th>\n",
       "      <th>AnimalID</th>\n",
       "      <th>DateTime</th>\n",
       "      <th>OutcomeType</th>\n",
       "      <th>AnimalType</th>\n",
       "      <th>SexuponOutcome</th>\n",
       "      <th>AgeuponOutcome</th>\n",
       "      <th>Breed</th>\n",
       "      <th>Color</th>\n",
       "      <th>has_name</th>\n",
       "    </tr>\n",
       "  </thead>\n",
       "  <tbody>\n",
       "    <tr>\n",
       "      <th>0</th>\n",
       "      <td>A671945</td>\n",
       "      <td>2014-02-12 18:22:00</td>\n",
       "      <td>Return_to_owner</td>\n",
       "      <td>1</td>\n",
       "      <td>Neutered Male</td>\n",
       "      <td>1 year</td>\n",
       "      <td>Shetland Sheepdog Mix</td>\n",
       "      <td>Brown/White</td>\n",
       "      <td>1</td>\n",
       "    </tr>\n",
       "    <tr>\n",
       "      <th>1</th>\n",
       "      <td>A656520</td>\n",
       "      <td>2013-10-13 12:44:00</td>\n",
       "      <td>Euthanasia</td>\n",
       "      <td>0</td>\n",
       "      <td>Spayed Female</td>\n",
       "      <td>1 year</td>\n",
       "      <td>Domestic Shorthair Mix</td>\n",
       "      <td>Cream Tabby</td>\n",
       "      <td>1</td>\n",
       "    </tr>\n",
       "    <tr>\n",
       "      <th>2</th>\n",
       "      <td>A686464</td>\n",
       "      <td>2015-01-31 12:28:00</td>\n",
       "      <td>Adoption</td>\n",
       "      <td>1</td>\n",
       "      <td>Neutered Male</td>\n",
       "      <td>2 years</td>\n",
       "      <td>Pit Bull Mix</td>\n",
       "      <td>Blue/White</td>\n",
       "      <td>1</td>\n",
       "    </tr>\n",
       "    <tr>\n",
       "      <th>3</th>\n",
       "      <td>A683430</td>\n",
       "      <td>2014-07-11 19:09:00</td>\n",
       "      <td>Transfer</td>\n",
       "      <td>0</td>\n",
       "      <td>Intact Male</td>\n",
       "      <td>3 weeks</td>\n",
       "      <td>Domestic Shorthair Mix</td>\n",
       "      <td>Blue Cream</td>\n",
       "      <td>0</td>\n",
       "    </tr>\n",
       "    <tr>\n",
       "      <th>4</th>\n",
       "      <td>A667013</td>\n",
       "      <td>2013-11-15 12:52:00</td>\n",
       "      <td>Transfer</td>\n",
       "      <td>1</td>\n",
       "      <td>Neutered Male</td>\n",
       "      <td>2 years</td>\n",
       "      <td>Lhasa Apso/Miniature Poodle</td>\n",
       "      <td>Tan</td>\n",
       "      <td>0</td>\n",
       "    </tr>\n",
       "  </tbody>\n",
       "</table>\n",
       "</div>"
      ],
      "text/plain": [
       "  AnimalID             DateTime      OutcomeType  AnimalType SexuponOutcome  \\\n",
       "0  A671945  2014-02-12 18:22:00  Return_to_owner           1  Neutered Male   \n",
       "1  A656520  2013-10-13 12:44:00       Euthanasia           0  Spayed Female   \n",
       "2  A686464  2015-01-31 12:28:00         Adoption           1  Neutered Male   \n",
       "3  A683430  2014-07-11 19:09:00         Transfer           0    Intact Male   \n",
       "4  A667013  2013-11-15 12:52:00         Transfer           1  Neutered Male   \n",
       "\n",
       "  AgeuponOutcome                        Breed        Color  has_name  \n",
       "0         1 year        Shetland Sheepdog Mix  Brown/White         1  \n",
       "1         1 year       Domestic Shorthair Mix  Cream Tabby         1  \n",
       "2        2 years                 Pit Bull Mix   Blue/White         1  \n",
       "3        3 weeks       Domestic Shorthair Mix   Blue Cream         0  \n",
       "4        2 years  Lhasa Apso/Miniature Poodle          Tan         0  "
      ]
     },
     "execution_count": 30,
     "metadata": {},
     "output_type": "execute_result"
    }
   ],
   "source": [
    "anim.head()"
   ]
  },
  {
   "cell_type": "code",
   "execution_count": 31,
   "id": "6488afa5",
   "metadata": {},
   "outputs": [],
   "source": [
    "#Fill empties with the Unknown Category\n",
    "anim['SexuponOutcome'].fillna('Unknown',inplace=True)"
   ]
  },
  {
   "cell_type": "code",
   "execution_count": 32,
   "id": "9605887c",
   "metadata": {},
   "outputs": [],
   "source": [
    "#Split the first part into whether is spayed or neutered\n",
    "anim['spay'] = anim['SexuponOutcome'].map(lambda x: x.split()[0])"
   ]
  },
  {
   "cell_type": "code",
   "execution_count": 33,
   "id": "28a8d7af",
   "metadata": {},
   "outputs": [
    {
     "data": {
      "text/plain": [
       "Neutered    9779\n",
       "Spayed      8820\n",
       "Intact      7036\n",
       "Unknown     1094\n",
       "Name: spay, dtype: int64"
      ]
     },
     "execution_count": 33,
     "metadata": {},
     "output_type": "execute_result"
    }
   ],
   "source": [
    "anim['spay'].value_counts()"
   ]
  },
  {
   "cell_type": "code",
   "execution_count": 34,
   "id": "774c6014",
   "metadata": {},
   "outputs": [],
   "source": [
    "#Combine spay/neuter difference since its redundant with gender\n",
    "anim['spay'] = anim['spay'].map(lambda x: 'fixed' if x == 'Neutered' or x == 'Spayed' else x)"
   ]
  },
  {
   "cell_type": "code",
   "execution_count": 35,
   "id": "0ebe3fbd",
   "metadata": {},
   "outputs": [
    {
     "data": {
      "text/plain": [
       "fixed      18599\n",
       "Intact      7036\n",
       "Unknown     1094\n",
       "Name: spay, dtype: int64"
      ]
     },
     "execution_count": 35,
     "metadata": {},
     "output_type": "execute_result"
    }
   ],
   "source": [
    "anim['spay'].value_counts()"
   ]
  },
  {
   "cell_type": "code",
   "execution_count": 36,
   "id": "9e773df0",
   "metadata": {},
   "outputs": [],
   "source": [
    "#dummify, want to drop unknown\n",
    "anim = pd.get_dummies(anim,columns = ['spay'])"
   ]
  },
  {
   "cell_type": "code",
   "execution_count": 37,
   "id": "ff851880",
   "metadata": {},
   "outputs": [
    {
     "data": {
      "text/html": [
       "<div>\n",
       "<style scoped>\n",
       "    .dataframe tbody tr th:only-of-type {\n",
       "        vertical-align: middle;\n",
       "    }\n",
       "\n",
       "    .dataframe tbody tr th {\n",
       "        vertical-align: top;\n",
       "    }\n",
       "\n",
       "    .dataframe thead th {\n",
       "        text-align: right;\n",
       "    }\n",
       "</style>\n",
       "<table border=\"1\" class=\"dataframe\">\n",
       "  <thead>\n",
       "    <tr style=\"text-align: right;\">\n",
       "      <th></th>\n",
       "      <th>AnimalID</th>\n",
       "      <th>DateTime</th>\n",
       "      <th>OutcomeType</th>\n",
       "      <th>AnimalType</th>\n",
       "      <th>SexuponOutcome</th>\n",
       "      <th>AgeuponOutcome</th>\n",
       "      <th>Breed</th>\n",
       "      <th>Color</th>\n",
       "      <th>has_name</th>\n",
       "      <th>spay_Intact</th>\n",
       "      <th>spay_fixed</th>\n",
       "    </tr>\n",
       "  </thead>\n",
       "  <tbody>\n",
       "    <tr>\n",
       "      <th>0</th>\n",
       "      <td>A671945</td>\n",
       "      <td>2014-02-12 18:22:00</td>\n",
       "      <td>Return_to_owner</td>\n",
       "      <td>1</td>\n",
       "      <td>Neutered Male</td>\n",
       "      <td>1 year</td>\n",
       "      <td>Shetland Sheepdog Mix</td>\n",
       "      <td>Brown/White</td>\n",
       "      <td>1</td>\n",
       "      <td>0</td>\n",
       "      <td>1</td>\n",
       "    </tr>\n",
       "    <tr>\n",
       "      <th>1</th>\n",
       "      <td>A656520</td>\n",
       "      <td>2013-10-13 12:44:00</td>\n",
       "      <td>Euthanasia</td>\n",
       "      <td>0</td>\n",
       "      <td>Spayed Female</td>\n",
       "      <td>1 year</td>\n",
       "      <td>Domestic Shorthair Mix</td>\n",
       "      <td>Cream Tabby</td>\n",
       "      <td>1</td>\n",
       "      <td>0</td>\n",
       "      <td>1</td>\n",
       "    </tr>\n",
       "    <tr>\n",
       "      <th>2</th>\n",
       "      <td>A686464</td>\n",
       "      <td>2015-01-31 12:28:00</td>\n",
       "      <td>Adoption</td>\n",
       "      <td>1</td>\n",
       "      <td>Neutered Male</td>\n",
       "      <td>2 years</td>\n",
       "      <td>Pit Bull Mix</td>\n",
       "      <td>Blue/White</td>\n",
       "      <td>1</td>\n",
       "      <td>0</td>\n",
       "      <td>1</td>\n",
       "    </tr>\n",
       "    <tr>\n",
       "      <th>3</th>\n",
       "      <td>A683430</td>\n",
       "      <td>2014-07-11 19:09:00</td>\n",
       "      <td>Transfer</td>\n",
       "      <td>0</td>\n",
       "      <td>Intact Male</td>\n",
       "      <td>3 weeks</td>\n",
       "      <td>Domestic Shorthair Mix</td>\n",
       "      <td>Blue Cream</td>\n",
       "      <td>0</td>\n",
       "      <td>1</td>\n",
       "      <td>0</td>\n",
       "    </tr>\n",
       "    <tr>\n",
       "      <th>4</th>\n",
       "      <td>A667013</td>\n",
       "      <td>2013-11-15 12:52:00</td>\n",
       "      <td>Transfer</td>\n",
       "      <td>1</td>\n",
       "      <td>Neutered Male</td>\n",
       "      <td>2 years</td>\n",
       "      <td>Lhasa Apso/Miniature Poodle</td>\n",
       "      <td>Tan</td>\n",
       "      <td>0</td>\n",
       "      <td>0</td>\n",
       "      <td>1</td>\n",
       "    </tr>\n",
       "    <tr>\n",
       "      <th>...</th>\n",
       "      <td>...</td>\n",
       "      <td>...</td>\n",
       "      <td>...</td>\n",
       "      <td>...</td>\n",
       "      <td>...</td>\n",
       "      <td>...</td>\n",
       "      <td>...</td>\n",
       "      <td>...</td>\n",
       "      <td>...</td>\n",
       "      <td>...</td>\n",
       "      <td>...</td>\n",
       "    </tr>\n",
       "    <tr>\n",
       "      <th>26724</th>\n",
       "      <td>A702446</td>\n",
       "      <td>2015-05-14 11:56:00</td>\n",
       "      <td>Transfer</td>\n",
       "      <td>0</td>\n",
       "      <td>Intact Male</td>\n",
       "      <td>1 month</td>\n",
       "      <td>Domestic Shorthair Mix</td>\n",
       "      <td>Brown Tabby/White</td>\n",
       "      <td>0</td>\n",
       "      <td>1</td>\n",
       "      <td>0</td>\n",
       "    </tr>\n",
       "    <tr>\n",
       "      <th>26725</th>\n",
       "      <td>A718934</td>\n",
       "      <td>2016-01-20 18:59:00</td>\n",
       "      <td>Transfer</td>\n",
       "      <td>0</td>\n",
       "      <td>Spayed Female</td>\n",
       "      <td>3 months</td>\n",
       "      <td>Domestic Shorthair Mix</td>\n",
       "      <td>Brown Tabby</td>\n",
       "      <td>0</td>\n",
       "      <td>0</td>\n",
       "      <td>1</td>\n",
       "    </tr>\n",
       "    <tr>\n",
       "      <th>26726</th>\n",
       "      <td>A698128</td>\n",
       "      <td>2015-03-09 13:33:00</td>\n",
       "      <td>Adoption</td>\n",
       "      <td>1</td>\n",
       "      <td>Neutered Male</td>\n",
       "      <td>4 years</td>\n",
       "      <td>Old English Bulldog Mix</td>\n",
       "      <td>White/Tan</td>\n",
       "      <td>1</td>\n",
       "      <td>0</td>\n",
       "      <td>1</td>\n",
       "    </tr>\n",
       "    <tr>\n",
       "      <th>26727</th>\n",
       "      <td>A677478</td>\n",
       "      <td>2014-04-27 12:22:00</td>\n",
       "      <td>Transfer</td>\n",
       "      <td>0</td>\n",
       "      <td>Intact Male</td>\n",
       "      <td>4 weeks</td>\n",
       "      <td>Domestic Shorthair Mix</td>\n",
       "      <td>Black</td>\n",
       "      <td>0</td>\n",
       "      <td>1</td>\n",
       "      <td>0</td>\n",
       "    </tr>\n",
       "    <tr>\n",
       "      <th>26728</th>\n",
       "      <td>A706629</td>\n",
       "      <td>2015-07-02 09:00:00</td>\n",
       "      <td>Transfer</td>\n",
       "      <td>0</td>\n",
       "      <td>Intact Male</td>\n",
       "      <td>1 year</td>\n",
       "      <td>Domestic Shorthair Mix</td>\n",
       "      <td>Brown Tabby/White</td>\n",
       "      <td>0</td>\n",
       "      <td>1</td>\n",
       "      <td>0</td>\n",
       "    </tr>\n",
       "  </tbody>\n",
       "</table>\n",
       "<p>26729 rows × 11 columns</p>\n",
       "</div>"
      ],
      "text/plain": [
       "      AnimalID             DateTime      OutcomeType  AnimalType  \\\n",
       "0      A671945  2014-02-12 18:22:00  Return_to_owner           1   \n",
       "1      A656520  2013-10-13 12:44:00       Euthanasia           0   \n",
       "2      A686464  2015-01-31 12:28:00         Adoption           1   \n",
       "3      A683430  2014-07-11 19:09:00         Transfer           0   \n",
       "4      A667013  2013-11-15 12:52:00         Transfer           1   \n",
       "...        ...                  ...              ...         ...   \n",
       "26724  A702446  2015-05-14 11:56:00         Transfer           0   \n",
       "26725  A718934  2016-01-20 18:59:00         Transfer           0   \n",
       "26726  A698128  2015-03-09 13:33:00         Adoption           1   \n",
       "26727  A677478  2014-04-27 12:22:00         Transfer           0   \n",
       "26728  A706629  2015-07-02 09:00:00         Transfer           0   \n",
       "\n",
       "      SexuponOutcome AgeuponOutcome                        Breed  \\\n",
       "0      Neutered Male         1 year        Shetland Sheepdog Mix   \n",
       "1      Spayed Female         1 year       Domestic Shorthair Mix   \n",
       "2      Neutered Male        2 years                 Pit Bull Mix   \n",
       "3        Intact Male        3 weeks       Domestic Shorthair Mix   \n",
       "4      Neutered Male        2 years  Lhasa Apso/Miniature Poodle   \n",
       "...              ...            ...                          ...   \n",
       "26724    Intact Male        1 month       Domestic Shorthair Mix   \n",
       "26725  Spayed Female       3 months       Domestic Shorthair Mix   \n",
       "26726  Neutered Male        4 years      Old English Bulldog Mix   \n",
       "26727    Intact Male        4 weeks       Domestic Shorthair Mix   \n",
       "26728    Intact Male         1 year       Domestic Shorthair Mix   \n",
       "\n",
       "                   Color  has_name  spay_Intact  spay_fixed  \n",
       "0            Brown/White         1            0           1  \n",
       "1            Cream Tabby         1            0           1  \n",
       "2             Blue/White         1            0           1  \n",
       "3             Blue Cream         0            1           0  \n",
       "4                    Tan         0            0           1  \n",
       "...                  ...       ...          ...         ...  \n",
       "26724  Brown Tabby/White         0            1           0  \n",
       "26725        Brown Tabby         0            0           1  \n",
       "26726          White/Tan         1            0           1  \n",
       "26727              Black         0            1           0  \n",
       "26728  Brown Tabby/White         0            1           0  \n",
       "\n",
       "[26729 rows x 11 columns]"
      ]
     },
     "execution_count": 37,
     "metadata": {},
     "output_type": "execute_result"
    }
   ],
   "source": [
    "anim.drop(columns = 'spay_Unknown')"
   ]
  },
  {
   "cell_type": "code",
   "execution_count": 38,
   "id": "75fee692",
   "metadata": {},
   "outputs": [],
   "source": [
    "#This time doing the gender half, dummify and drop\n",
    "anim['gender'] = anim['SexuponOutcome'].map(lambda x: x if x == 'Unknown' else x.split()[1])"
   ]
  },
  {
   "cell_type": "code",
   "execution_count": 39,
   "id": "a343dc2e",
   "metadata": {},
   "outputs": [
    {
     "data": {
      "text/plain": [
       "Male       13304\n",
       "Female     12331\n",
       "Unknown     1094\n",
       "Name: gender, dtype: int64"
      ]
     },
     "execution_count": 39,
     "metadata": {},
     "output_type": "execute_result"
    }
   ],
   "source": [
    "anim['gender'].value_counts()"
   ]
  },
  {
   "cell_type": "code",
   "execution_count": 40,
   "id": "0f81b121",
   "metadata": {},
   "outputs": [],
   "source": [
    "anim.drop(columns='SexuponOutcome',inplace = True)"
   ]
  },
  {
   "cell_type": "code",
   "execution_count": 41,
   "id": "f362aa6e",
   "metadata": {},
   "outputs": [
    {
     "data": {
      "text/html": [
       "<div>\n",
       "<style scoped>\n",
       "    .dataframe tbody tr th:only-of-type {\n",
       "        vertical-align: middle;\n",
       "    }\n",
       "\n",
       "    .dataframe tbody tr th {\n",
       "        vertical-align: top;\n",
       "    }\n",
       "\n",
       "    .dataframe thead th {\n",
       "        text-align: right;\n",
       "    }\n",
       "</style>\n",
       "<table border=\"1\" class=\"dataframe\">\n",
       "  <thead>\n",
       "    <tr style=\"text-align: right;\">\n",
       "      <th></th>\n",
       "      <th>AnimalID</th>\n",
       "      <th>DateTime</th>\n",
       "      <th>OutcomeType</th>\n",
       "      <th>AnimalType</th>\n",
       "      <th>AgeuponOutcome</th>\n",
       "      <th>Breed</th>\n",
       "      <th>Color</th>\n",
       "      <th>has_name</th>\n",
       "      <th>spay_Intact</th>\n",
       "      <th>spay_Unknown</th>\n",
       "      <th>spay_fixed</th>\n",
       "      <th>gender</th>\n",
       "    </tr>\n",
       "  </thead>\n",
       "  <tbody>\n",
       "    <tr>\n",
       "      <th>0</th>\n",
       "      <td>A671945</td>\n",
       "      <td>2014-02-12 18:22:00</td>\n",
       "      <td>Return_to_owner</td>\n",
       "      <td>1</td>\n",
       "      <td>1 year</td>\n",
       "      <td>Shetland Sheepdog Mix</td>\n",
       "      <td>Brown/White</td>\n",
       "      <td>1</td>\n",
       "      <td>0</td>\n",
       "      <td>0</td>\n",
       "      <td>1</td>\n",
       "      <td>Male</td>\n",
       "    </tr>\n",
       "    <tr>\n",
       "      <th>1</th>\n",
       "      <td>A656520</td>\n",
       "      <td>2013-10-13 12:44:00</td>\n",
       "      <td>Euthanasia</td>\n",
       "      <td>0</td>\n",
       "      <td>1 year</td>\n",
       "      <td>Domestic Shorthair Mix</td>\n",
       "      <td>Cream Tabby</td>\n",
       "      <td>1</td>\n",
       "      <td>0</td>\n",
       "      <td>0</td>\n",
       "      <td>1</td>\n",
       "      <td>Female</td>\n",
       "    </tr>\n",
       "    <tr>\n",
       "      <th>2</th>\n",
       "      <td>A686464</td>\n",
       "      <td>2015-01-31 12:28:00</td>\n",
       "      <td>Adoption</td>\n",
       "      <td>1</td>\n",
       "      <td>2 years</td>\n",
       "      <td>Pit Bull Mix</td>\n",
       "      <td>Blue/White</td>\n",
       "      <td>1</td>\n",
       "      <td>0</td>\n",
       "      <td>0</td>\n",
       "      <td>1</td>\n",
       "      <td>Male</td>\n",
       "    </tr>\n",
       "    <tr>\n",
       "      <th>3</th>\n",
       "      <td>A683430</td>\n",
       "      <td>2014-07-11 19:09:00</td>\n",
       "      <td>Transfer</td>\n",
       "      <td>0</td>\n",
       "      <td>3 weeks</td>\n",
       "      <td>Domestic Shorthair Mix</td>\n",
       "      <td>Blue Cream</td>\n",
       "      <td>0</td>\n",
       "      <td>1</td>\n",
       "      <td>0</td>\n",
       "      <td>0</td>\n",
       "      <td>Male</td>\n",
       "    </tr>\n",
       "    <tr>\n",
       "      <th>4</th>\n",
       "      <td>A667013</td>\n",
       "      <td>2013-11-15 12:52:00</td>\n",
       "      <td>Transfer</td>\n",
       "      <td>1</td>\n",
       "      <td>2 years</td>\n",
       "      <td>Lhasa Apso/Miniature Poodle</td>\n",
       "      <td>Tan</td>\n",
       "      <td>0</td>\n",
       "      <td>0</td>\n",
       "      <td>0</td>\n",
       "      <td>1</td>\n",
       "      <td>Male</td>\n",
       "    </tr>\n",
       "  </tbody>\n",
       "</table>\n",
       "</div>"
      ],
      "text/plain": [
       "  AnimalID             DateTime      OutcomeType  AnimalType AgeuponOutcome  \\\n",
       "0  A671945  2014-02-12 18:22:00  Return_to_owner           1         1 year   \n",
       "1  A656520  2013-10-13 12:44:00       Euthanasia           0         1 year   \n",
       "2  A686464  2015-01-31 12:28:00         Adoption           1        2 years   \n",
       "3  A683430  2014-07-11 19:09:00         Transfer           0        3 weeks   \n",
       "4  A667013  2013-11-15 12:52:00         Transfer           1        2 years   \n",
       "\n",
       "                         Breed        Color  has_name  spay_Intact  \\\n",
       "0        Shetland Sheepdog Mix  Brown/White         1            0   \n",
       "1       Domestic Shorthair Mix  Cream Tabby         1            0   \n",
       "2                 Pit Bull Mix   Blue/White         1            0   \n",
       "3       Domestic Shorthair Mix   Blue Cream         0            1   \n",
       "4  Lhasa Apso/Miniature Poodle          Tan         0            0   \n",
       "\n",
       "   spay_Unknown  spay_fixed  gender  \n",
       "0             0           1    Male  \n",
       "1             0           1  Female  \n",
       "2             0           1    Male  \n",
       "3             0           0    Male  \n",
       "4             0           1    Male  "
      ]
     },
     "execution_count": 41,
     "metadata": {},
     "output_type": "execute_result"
    }
   ],
   "source": [
    "anim.head()"
   ]
  },
  {
   "cell_type": "code",
   "execution_count": 42,
   "id": "5c5ed485",
   "metadata": {},
   "outputs": [],
   "source": [
    "anim = pd.get_dummies(anim,columns = ['gender'])"
   ]
  },
  {
   "cell_type": "code",
   "execution_count": 43,
   "id": "27f3c4ba",
   "metadata": {},
   "outputs": [],
   "source": [
    "anim.drop(columns = 'gender_Unknown',inplace = True)"
   ]
  },
  {
   "cell_type": "code",
   "execution_count": 44,
   "id": "d2c79f79",
   "metadata": {},
   "outputs": [],
   "source": [
    "anim.drop(columns = 'spay_Unknown',inplace = True)"
   ]
  },
  {
   "cell_type": "code",
   "execution_count": 45,
   "id": "1cecc28c",
   "metadata": {},
   "outputs": [
    {
     "data": {
      "text/html": [
       "<div>\n",
       "<style scoped>\n",
       "    .dataframe tbody tr th:only-of-type {\n",
       "        vertical-align: middle;\n",
       "    }\n",
       "\n",
       "    .dataframe tbody tr th {\n",
       "        vertical-align: top;\n",
       "    }\n",
       "\n",
       "    .dataframe thead th {\n",
       "        text-align: right;\n",
       "    }\n",
       "</style>\n",
       "<table border=\"1\" class=\"dataframe\">\n",
       "  <thead>\n",
       "    <tr style=\"text-align: right;\">\n",
       "      <th></th>\n",
       "      <th>AnimalID</th>\n",
       "      <th>DateTime</th>\n",
       "      <th>OutcomeType</th>\n",
       "      <th>AnimalType</th>\n",
       "      <th>AgeuponOutcome</th>\n",
       "      <th>Breed</th>\n",
       "      <th>Color</th>\n",
       "      <th>has_name</th>\n",
       "      <th>spay_Intact</th>\n",
       "      <th>spay_fixed</th>\n",
       "      <th>gender_Female</th>\n",
       "      <th>gender_Male</th>\n",
       "    </tr>\n",
       "  </thead>\n",
       "  <tbody>\n",
       "    <tr>\n",
       "      <th>0</th>\n",
       "      <td>A671945</td>\n",
       "      <td>2014-02-12 18:22:00</td>\n",
       "      <td>Return_to_owner</td>\n",
       "      <td>1</td>\n",
       "      <td>1 year</td>\n",
       "      <td>Shetland Sheepdog Mix</td>\n",
       "      <td>Brown/White</td>\n",
       "      <td>1</td>\n",
       "      <td>0</td>\n",
       "      <td>1</td>\n",
       "      <td>0</td>\n",
       "      <td>1</td>\n",
       "    </tr>\n",
       "    <tr>\n",
       "      <th>1</th>\n",
       "      <td>A656520</td>\n",
       "      <td>2013-10-13 12:44:00</td>\n",
       "      <td>Euthanasia</td>\n",
       "      <td>0</td>\n",
       "      <td>1 year</td>\n",
       "      <td>Domestic Shorthair Mix</td>\n",
       "      <td>Cream Tabby</td>\n",
       "      <td>1</td>\n",
       "      <td>0</td>\n",
       "      <td>1</td>\n",
       "      <td>1</td>\n",
       "      <td>0</td>\n",
       "    </tr>\n",
       "    <tr>\n",
       "      <th>2</th>\n",
       "      <td>A686464</td>\n",
       "      <td>2015-01-31 12:28:00</td>\n",
       "      <td>Adoption</td>\n",
       "      <td>1</td>\n",
       "      <td>2 years</td>\n",
       "      <td>Pit Bull Mix</td>\n",
       "      <td>Blue/White</td>\n",
       "      <td>1</td>\n",
       "      <td>0</td>\n",
       "      <td>1</td>\n",
       "      <td>0</td>\n",
       "      <td>1</td>\n",
       "    </tr>\n",
       "    <tr>\n",
       "      <th>3</th>\n",
       "      <td>A683430</td>\n",
       "      <td>2014-07-11 19:09:00</td>\n",
       "      <td>Transfer</td>\n",
       "      <td>0</td>\n",
       "      <td>3 weeks</td>\n",
       "      <td>Domestic Shorthair Mix</td>\n",
       "      <td>Blue Cream</td>\n",
       "      <td>0</td>\n",
       "      <td>1</td>\n",
       "      <td>0</td>\n",
       "      <td>0</td>\n",
       "      <td>1</td>\n",
       "    </tr>\n",
       "    <tr>\n",
       "      <th>4</th>\n",
       "      <td>A667013</td>\n",
       "      <td>2013-11-15 12:52:00</td>\n",
       "      <td>Transfer</td>\n",
       "      <td>1</td>\n",
       "      <td>2 years</td>\n",
       "      <td>Lhasa Apso/Miniature Poodle</td>\n",
       "      <td>Tan</td>\n",
       "      <td>0</td>\n",
       "      <td>0</td>\n",
       "      <td>1</td>\n",
       "      <td>0</td>\n",
       "      <td>1</td>\n",
       "    </tr>\n",
       "  </tbody>\n",
       "</table>\n",
       "</div>"
      ],
      "text/plain": [
       "  AnimalID             DateTime      OutcomeType  AnimalType AgeuponOutcome  \\\n",
       "0  A671945  2014-02-12 18:22:00  Return_to_owner           1         1 year   \n",
       "1  A656520  2013-10-13 12:44:00       Euthanasia           0         1 year   \n",
       "2  A686464  2015-01-31 12:28:00         Adoption           1        2 years   \n",
       "3  A683430  2014-07-11 19:09:00         Transfer           0        3 weeks   \n",
       "4  A667013  2013-11-15 12:52:00         Transfer           1        2 years   \n",
       "\n",
       "                         Breed        Color  has_name  spay_Intact  \\\n",
       "0        Shetland Sheepdog Mix  Brown/White         1            0   \n",
       "1       Domestic Shorthair Mix  Cream Tabby         1            0   \n",
       "2                 Pit Bull Mix   Blue/White         1            0   \n",
       "3       Domestic Shorthair Mix   Blue Cream         0            1   \n",
       "4  Lhasa Apso/Miniature Poodle          Tan         0            0   \n",
       "\n",
       "   spay_fixed  gender_Female  gender_Male  \n",
       "0           1              0            1  \n",
       "1           1              1            0  \n",
       "2           1              0            1  \n",
       "3           0              0            1  \n",
       "4           1              0            1  "
      ]
     },
     "execution_count": 45,
     "metadata": {},
     "output_type": "execute_result"
    }
   ],
   "source": [
    "anim.head()"
   ]
  },
  {
   "cell_type": "code",
   "execution_count": 46,
   "id": "9e669065",
   "metadata": {},
   "outputs": [
    {
     "data": {
      "text/html": [
       "<div>\n",
       "<style scoped>\n",
       "    .dataframe tbody tr th:only-of-type {\n",
       "        vertical-align: middle;\n",
       "    }\n",
       "\n",
       "    .dataframe tbody tr th {\n",
       "        vertical-align: top;\n",
       "    }\n",
       "\n",
       "    .dataframe thead th {\n",
       "        text-align: right;\n",
       "    }\n",
       "</style>\n",
       "<table border=\"1\" class=\"dataframe\">\n",
       "  <thead>\n",
       "    <tr style=\"text-align: right;\">\n",
       "      <th></th>\n",
       "      <th>AnimalID</th>\n",
       "      <th>OutcomeType</th>\n",
       "      <th>AnimalType</th>\n",
       "      <th>AgeuponOutcome</th>\n",
       "      <th>Breed</th>\n",
       "      <th>Color</th>\n",
       "      <th>has_name</th>\n",
       "      <th>spay_Intact</th>\n",
       "      <th>spay_fixed</th>\n",
       "      <th>gender_Female</th>\n",
       "      <th>gender_Male</th>\n",
       "      <th>year</th>\n",
       "      <th>month</th>\n",
       "      <th>day</th>\n",
       "      <th>hour</th>\n",
       "    </tr>\n",
       "  </thead>\n",
       "  <tbody>\n",
       "    <tr>\n",
       "      <th>0</th>\n",
       "      <td>A671945</td>\n",
       "      <td>Return_to_owner</td>\n",
       "      <td>1</td>\n",
       "      <td>1 year</td>\n",
       "      <td>Shetland Sheepdog Mix</td>\n",
       "      <td>Brown/White</td>\n",
       "      <td>1</td>\n",
       "      <td>0</td>\n",
       "      <td>1</td>\n",
       "      <td>0</td>\n",
       "      <td>1</td>\n",
       "      <td>2014</td>\n",
       "      <td>2</td>\n",
       "      <td>12</td>\n",
       "      <td>18</td>\n",
       "    </tr>\n",
       "    <tr>\n",
       "      <th>1</th>\n",
       "      <td>A656520</td>\n",
       "      <td>Euthanasia</td>\n",
       "      <td>0</td>\n",
       "      <td>1 year</td>\n",
       "      <td>Domestic Shorthair Mix</td>\n",
       "      <td>Cream Tabby</td>\n",
       "      <td>1</td>\n",
       "      <td>0</td>\n",
       "      <td>1</td>\n",
       "      <td>1</td>\n",
       "      <td>0</td>\n",
       "      <td>2013</td>\n",
       "      <td>10</td>\n",
       "      <td>13</td>\n",
       "      <td>12</td>\n",
       "    </tr>\n",
       "    <tr>\n",
       "      <th>2</th>\n",
       "      <td>A686464</td>\n",
       "      <td>Adoption</td>\n",
       "      <td>1</td>\n",
       "      <td>2 years</td>\n",
       "      <td>Pit Bull Mix</td>\n",
       "      <td>Blue/White</td>\n",
       "      <td>1</td>\n",
       "      <td>0</td>\n",
       "      <td>1</td>\n",
       "      <td>0</td>\n",
       "      <td>1</td>\n",
       "      <td>2015</td>\n",
       "      <td>1</td>\n",
       "      <td>31</td>\n",
       "      <td>12</td>\n",
       "    </tr>\n",
       "    <tr>\n",
       "      <th>3</th>\n",
       "      <td>A683430</td>\n",
       "      <td>Transfer</td>\n",
       "      <td>0</td>\n",
       "      <td>3 weeks</td>\n",
       "      <td>Domestic Shorthair Mix</td>\n",
       "      <td>Blue Cream</td>\n",
       "      <td>0</td>\n",
       "      <td>1</td>\n",
       "      <td>0</td>\n",
       "      <td>0</td>\n",
       "      <td>1</td>\n",
       "      <td>2014</td>\n",
       "      <td>7</td>\n",
       "      <td>11</td>\n",
       "      <td>19</td>\n",
       "    </tr>\n",
       "    <tr>\n",
       "      <th>4</th>\n",
       "      <td>A667013</td>\n",
       "      <td>Transfer</td>\n",
       "      <td>1</td>\n",
       "      <td>2 years</td>\n",
       "      <td>Lhasa Apso/Miniature Poodle</td>\n",
       "      <td>Tan</td>\n",
       "      <td>0</td>\n",
       "      <td>0</td>\n",
       "      <td>1</td>\n",
       "      <td>0</td>\n",
       "      <td>1</td>\n",
       "      <td>2013</td>\n",
       "      <td>11</td>\n",
       "      <td>15</td>\n",
       "      <td>12</td>\n",
       "    </tr>\n",
       "  </tbody>\n",
       "</table>\n",
       "</div>"
      ],
      "text/plain": [
       "  AnimalID      OutcomeType  AnimalType AgeuponOutcome  \\\n",
       "0  A671945  Return_to_owner           1         1 year   \n",
       "1  A656520       Euthanasia           0         1 year   \n",
       "2  A686464         Adoption           1        2 years   \n",
       "3  A683430         Transfer           0        3 weeks   \n",
       "4  A667013         Transfer           1        2 years   \n",
       "\n",
       "                         Breed        Color  has_name  spay_Intact  \\\n",
       "0        Shetland Sheepdog Mix  Brown/White         1            0   \n",
       "1       Domestic Shorthair Mix  Cream Tabby         1            0   \n",
       "2                 Pit Bull Mix   Blue/White         1            0   \n",
       "3       Domestic Shorthair Mix   Blue Cream         0            1   \n",
       "4  Lhasa Apso/Miniature Poodle          Tan         0            0   \n",
       "\n",
       "   spay_fixed  gender_Female  gender_Male  year  month  day  hour  \n",
       "0           1              0            1  2014      2   12    18  \n",
       "1           1              1            0  2013     10   13    12  \n",
       "2           1              0            1  2015      1   31    12  \n",
       "3           0              0            1  2014      7   11    19  \n",
       "4           1              0            1  2013     11   15    12  "
      ]
     },
     "execution_count": 46,
     "metadata": {},
     "output_type": "execute_result"
    }
   ],
   "source": [
    "#make date time to year, month, day, hour\n",
    "anim['DateTime'] = pd.to_datetime(anim['DateTime'])\n",
    "anim['year'] = pd.DatetimeIndex(anim['DateTime']).year\n",
    "anim['month'] = pd.DatetimeIndex(anim['DateTime']).month\n",
    "anim['day'] = pd.DatetimeIndex(anim['DateTime']).day\n",
    "anim['hour'] = pd.DatetimeIndex(anim['DateTime']).hour\n",
    "anim.drop(columns = 'DateTime',inplace = True)\n",
    "anim.head()"
   ]
  },
  {
   "cell_type": "code",
   "execution_count": 47,
   "id": "bb2b2144",
   "metadata": {},
   "outputs": [],
   "source": [
    "#convert age to years, make take halfway between it and next interval (eg. 1 year = 365 + 180)\n",
    "def agemath(x):\n",
    "    try:\n",
    "        if x.split()[1].startswith('day'):\n",
    "            return int(x.split()[0])\n",
    "        if x.split()[1].startswith('wee'):\n",
    "            return int(x.split()[0])*7 + 3\n",
    "        if x.split()[1].startswith('mont'):\n",
    "            return int(x.split()[0])*30 + 15\n",
    "        if x.split()[1].startswith('yea'):\n",
    "            return int(x.split()[0])*365 + 180\n",
    "    except:\n",
    "        return np.nan\n",
    "anim['Agedays'] = anim['AgeuponOutcome'].map(agemath)"
   ]
  },
  {
   "cell_type": "code",
   "execution_count": 48,
   "id": "a09e3e69",
   "metadata": {},
   "outputs": [
    {
     "data": {
      "text/plain": [
       "545.0     3969\n",
       "910.0     3742\n",
       "75.0      3397\n",
       "1275.0    1823\n",
       "45.0      1281\n",
       "105.0     1277\n",
       "1640.0    1071\n",
       "2005.0     992\n",
       "135.0      888\n",
       "2370.0     670\n",
       "24.0       659\n",
       "165.0      652\n",
       "195.0      588\n",
       "3100.0     536\n",
       "2735.0     531\n",
       "17.0       529\n",
       "315.0      457\n",
       "3830.0     446\n",
       "255.0      402\n",
       "31.0       334\n",
       "10.0       317\n",
       "225.0      288\n",
       "3465.0     288\n",
       "4560.0     234\n",
       "285.0      224\n",
       "345.0      166\n",
       "4925.0     143\n",
       "4195.0     126\n",
       "3.0        109\n",
       "2.0         99\n",
       "5290.0      97\n",
       "5655.0      85\n",
       "1.0         66\n",
       "6.0         50\n",
       "4.0         50\n",
       "6020.0      36\n",
       "5.0         24\n",
       "180.0       22\n",
       "6385.0      17\n",
       "38.0        11\n",
       "6750.0      10\n",
       "7115.0       3\n",
       "7480.0       2\n",
       "Name: Agedays, dtype: int64"
      ]
     },
     "execution_count": 48,
     "metadata": {},
     "output_type": "execute_result"
    }
   ],
   "source": [
    "anim['Agedays'].value_counts()"
   ]
  },
  {
   "cell_type": "code",
   "execution_count": 49,
   "id": "6b14933a",
   "metadata": {},
   "outputs": [],
   "source": [
    "#fill with average\n",
    "anim['Agedays'].fillna(anim['Agedays'].mean(),inplace = True)"
   ]
  },
  {
   "cell_type": "code",
   "execution_count": 50,
   "id": "4889094b",
   "metadata": {},
   "outputs": [
    {
     "data": {
      "text/plain": [
       "1 year       3969\n",
       "2 years      3742\n",
       "2 months     3397\n",
       "3 years      1823\n",
       "1 month      1281\n",
       "3 months     1277\n",
       "4 years      1071\n",
       "5 years       992\n",
       "4 months      888\n",
       "6 years       670\n",
       "3 weeks       659\n",
       "5 months      652\n",
       "6 months      588\n",
       "8 years       536\n",
       "7 years       531\n",
       "2 weeks       529\n",
       "10 months     457\n",
       "10 years      446\n",
       "8 months      402\n",
       "4 weeks       334\n",
       "9 years       288\n",
       "7 months      288\n",
       "12 years      234\n",
       "9 months      224\n",
       "1 weeks       171\n",
       "11 months     166\n",
       "1 week        146\n",
       "13 years      143\n",
       "11 years      126\n",
       "3 days        109\n",
       "2 days         99\n",
       "14 years       97\n",
       "15 years       85\n",
       "1 day          66\n",
       "6 days         50\n",
       "4 days         50\n",
       "16 years       36\n",
       "5 days         24\n",
       "0 years        22\n",
       "17 years       17\n",
       "5 weeks        11\n",
       "18 years       10\n",
       "19 years        3\n",
       "20 years        2\n",
       "Name: AgeuponOutcome, dtype: int64"
      ]
     },
     "execution_count": 50,
     "metadata": {},
     "output_type": "execute_result"
    }
   ],
   "source": [
    "anim['AgeuponOutcome'].value_counts()"
   ]
  },
  {
   "cell_type": "code",
   "execution_count": 51,
   "id": "5e89f8d7",
   "metadata": {},
   "outputs": [
    {
     "data": {
      "text/html": [
       "<div>\n",
       "<style scoped>\n",
       "    .dataframe tbody tr th:only-of-type {\n",
       "        vertical-align: middle;\n",
       "    }\n",
       "\n",
       "    .dataframe tbody tr th {\n",
       "        vertical-align: top;\n",
       "    }\n",
       "\n",
       "    .dataframe thead th {\n",
       "        text-align: right;\n",
       "    }\n",
       "</style>\n",
       "<table border=\"1\" class=\"dataframe\">\n",
       "  <thead>\n",
       "    <tr style=\"text-align: right;\">\n",
       "      <th></th>\n",
       "      <th>AnimalID</th>\n",
       "      <th>OutcomeType</th>\n",
       "      <th>AnimalType</th>\n",
       "      <th>AgeuponOutcome</th>\n",
       "      <th>Breed</th>\n",
       "      <th>Color</th>\n",
       "      <th>has_name</th>\n",
       "      <th>spay_Intact</th>\n",
       "      <th>spay_fixed</th>\n",
       "      <th>gender_Female</th>\n",
       "      <th>gender_Male</th>\n",
       "      <th>year</th>\n",
       "      <th>month</th>\n",
       "      <th>day</th>\n",
       "      <th>hour</th>\n",
       "      <th>Agedays</th>\n",
       "    </tr>\n",
       "  </thead>\n",
       "  <tbody>\n",
       "    <tr>\n",
       "      <th>0</th>\n",
       "      <td>A671945</td>\n",
       "      <td>Return_to_owner</td>\n",
       "      <td>1</td>\n",
       "      <td>1 year</td>\n",
       "      <td>Shetland Sheepdog Mix</td>\n",
       "      <td>Brown/White</td>\n",
       "      <td>1</td>\n",
       "      <td>0</td>\n",
       "      <td>1</td>\n",
       "      <td>0</td>\n",
       "      <td>1</td>\n",
       "      <td>2014</td>\n",
       "      <td>2</td>\n",
       "      <td>12</td>\n",
       "      <td>18</td>\n",
       "      <td>545.0</td>\n",
       "    </tr>\n",
       "    <tr>\n",
       "      <th>1</th>\n",
       "      <td>A656520</td>\n",
       "      <td>Euthanasia</td>\n",
       "      <td>0</td>\n",
       "      <td>1 year</td>\n",
       "      <td>Domestic Shorthair Mix</td>\n",
       "      <td>Cream Tabby</td>\n",
       "      <td>1</td>\n",
       "      <td>0</td>\n",
       "      <td>1</td>\n",
       "      <td>1</td>\n",
       "      <td>0</td>\n",
       "      <td>2013</td>\n",
       "      <td>10</td>\n",
       "      <td>13</td>\n",
       "      <td>12</td>\n",
       "      <td>545.0</td>\n",
       "    </tr>\n",
       "    <tr>\n",
       "      <th>2</th>\n",
       "      <td>A686464</td>\n",
       "      <td>Adoption</td>\n",
       "      <td>1</td>\n",
       "      <td>2 years</td>\n",
       "      <td>Pit Bull Mix</td>\n",
       "      <td>Blue/White</td>\n",
       "      <td>1</td>\n",
       "      <td>0</td>\n",
       "      <td>1</td>\n",
       "      <td>0</td>\n",
       "      <td>1</td>\n",
       "      <td>2015</td>\n",
       "      <td>1</td>\n",
       "      <td>31</td>\n",
       "      <td>12</td>\n",
       "      <td>910.0</td>\n",
       "    </tr>\n",
       "    <tr>\n",
       "      <th>3</th>\n",
       "      <td>A683430</td>\n",
       "      <td>Transfer</td>\n",
       "      <td>0</td>\n",
       "      <td>3 weeks</td>\n",
       "      <td>Domestic Shorthair Mix</td>\n",
       "      <td>Blue Cream</td>\n",
       "      <td>0</td>\n",
       "      <td>1</td>\n",
       "      <td>0</td>\n",
       "      <td>0</td>\n",
       "      <td>1</td>\n",
       "      <td>2014</td>\n",
       "      <td>7</td>\n",
       "      <td>11</td>\n",
       "      <td>19</td>\n",
       "      <td>24.0</td>\n",
       "    </tr>\n",
       "    <tr>\n",
       "      <th>4</th>\n",
       "      <td>A667013</td>\n",
       "      <td>Transfer</td>\n",
       "      <td>1</td>\n",
       "      <td>2 years</td>\n",
       "      <td>Lhasa Apso/Miniature Poodle</td>\n",
       "      <td>Tan</td>\n",
       "      <td>0</td>\n",
       "      <td>0</td>\n",
       "      <td>1</td>\n",
       "      <td>0</td>\n",
       "      <td>1</td>\n",
       "      <td>2013</td>\n",
       "      <td>11</td>\n",
       "      <td>15</td>\n",
       "      <td>12</td>\n",
       "      <td>910.0</td>\n",
       "    </tr>\n",
       "  </tbody>\n",
       "</table>\n",
       "</div>"
      ],
      "text/plain": [
       "  AnimalID      OutcomeType  AnimalType AgeuponOutcome  \\\n",
       "0  A671945  Return_to_owner           1         1 year   \n",
       "1  A656520       Euthanasia           0         1 year   \n",
       "2  A686464         Adoption           1        2 years   \n",
       "3  A683430         Transfer           0        3 weeks   \n",
       "4  A667013         Transfer           1        2 years   \n",
       "\n",
       "                         Breed        Color  has_name  spay_Intact  \\\n",
       "0        Shetland Sheepdog Mix  Brown/White         1            0   \n",
       "1       Domestic Shorthair Mix  Cream Tabby         1            0   \n",
       "2                 Pit Bull Mix   Blue/White         1            0   \n",
       "3       Domestic Shorthair Mix   Blue Cream         0            1   \n",
       "4  Lhasa Apso/Miniature Poodle          Tan         0            0   \n",
       "\n",
       "   spay_fixed  gender_Female  gender_Male  year  month  day  hour  Agedays  \n",
       "0           1              0            1  2014      2   12    18    545.0  \n",
       "1           1              1            0  2013     10   13    12    545.0  \n",
       "2           1              0            1  2015      1   31    12    910.0  \n",
       "3           0              0            1  2014      7   11    19     24.0  \n",
       "4           1              0            1  2013     11   15    12    910.0  "
      ]
     },
     "execution_count": 51,
     "metadata": {},
     "output_type": "execute_result"
    }
   ],
   "source": [
    "anim.head()"
   ]
  },
  {
   "cell_type": "code",
   "execution_count": 52,
   "id": "6d03230a",
   "metadata": {},
   "outputs": [],
   "source": [
    "#take primary animal color\n",
    "anim['primary_col'] = anim['Color'].map(lambda x: x.split('/')[0].split()[0])"
   ]
  },
  {
   "cell_type": "code",
   "execution_count": 53,
   "id": "1ab03fa1",
   "metadata": {},
   "outputs": [
    {
     "data": {
      "text/plain": [
       "Black        6646\n",
       "Brown        5318\n",
       "White        3344\n",
       "Blue         2149\n",
       "Tan          1674\n",
       "Orange       1343\n",
       "Red           871\n",
       "Tricolor      800\n",
       "Tortie        614\n",
       "Calico        579\n",
       "Cream         498\n",
       "Chocolate     469\n",
       "Torbie        398\n",
       "Sable         324\n",
       "Gray          278\n",
       "Buff          267\n",
       "Yellow        261\n",
       "Fawn          209\n",
       "Lynx          183\n",
       "Seal          158\n",
       "Silver         96\n",
       "Flame          85\n",
       "Gold           77\n",
       "Lilac          39\n",
       "Apricot        26\n",
       "Liver          19\n",
       "Agouti          2\n",
       "Pink            1\n",
       "Ruddy           1\n",
       "Name: primary_col, dtype: int64"
      ]
     },
     "execution_count": 53,
     "metadata": {},
     "output_type": "execute_result"
    }
   ],
   "source": [
    "anim['primary_col'].value_counts()"
   ]
  },
  {
   "cell_type": "code",
   "execution_count": 54,
   "id": "e22144f6",
   "metadata": {},
   "outputs": [],
   "source": [
    "#make secondary color\n",
    "def seccol(x):\n",
    "    try:\n",
    "        return x.split('/')[1].split()[0]\n",
    "    except:\n",
    "        return 'none'\n",
    "\n",
    "anim['sec_col'] = anim['Color'].map(seccol)"
   ]
  },
  {
   "cell_type": "code",
   "execution_count": 55,
   "id": "0506ce34",
   "metadata": {},
   "outputs": [
    {
     "data": {
      "text/plain": [
       "none         12805\n",
       "White         8854\n",
       "Black         1392\n",
       "Brown         1381\n",
       "Tan           1357\n",
       "Blue           209\n",
       "Gray           129\n",
       "Red            120\n",
       "Tricolor       112\n",
       "Orange          97\n",
       "Cream           80\n",
       "Buff            61\n",
       "Chocolate       50\n",
       "Silver          26\n",
       "Yellow          15\n",
       "Liver           12\n",
       "Gold             9\n",
       "Calico           4\n",
       "Apricot          4\n",
       "Tortie           4\n",
       "Lynx             3\n",
       "Pink             3\n",
       "Flame            1\n",
       "Seal             1\n",
       "Name: sec_col, dtype: int64"
      ]
     },
     "execution_count": 55,
     "metadata": {},
     "output_type": "execute_result"
    }
   ],
   "source": [
    "anim['sec_col'].value_counts()"
   ]
  },
  {
   "cell_type": "code",
   "execution_count": 56,
   "id": "a711e4c9",
   "metadata": {},
   "outputs": [],
   "source": [
    "#make map of different pattern types\n",
    "\n",
    "anim['tabby'] = anim['Color'].map(lambda x: 1 if 'Tabby' in x else 0)\n",
    "anim['brindle'] = anim['Color'].map(lambda x: 1 if 'Brindle' in x else 0)\n",
    "anim['point'] = anim['Color'].map(lambda x: 1 if 'Point' in x else 0)\n",
    "anim['smoke'] = anim['Color'].map(lambda x: 1 if 'Smoke' in x else 0)\n",
    "anim['tiger'] = anim['Color'].map(lambda x: 1 if 'Tiger' in x else 0)\n",
    "anim['tick'] = anim['Color'].map(lambda x: 1 if 'Tick' in x else 0)\n",
    "anim['merle'] = anim['Color'].map(lambda x: 1 if 'Merle' in x else 0)\n",
    "anim['cream'] = anim['Color'].map(lambda x: 1 if 'Cream' in x else 0)\n"
   ]
  },
  {
   "cell_type": "code",
   "execution_count": null,
   "id": "3071edd4",
   "metadata": {},
   "outputs": [],
   "source": []
  },
  {
   "cell_type": "code",
   "execution_count": 57,
   "id": "a70a683f",
   "metadata": {},
   "outputs": [],
   "source": [
    "#mark mix breeds, list primary breed\n",
    "anim['mix'] = anim['Breed'].map(lambda x: 1 if 'Mix' in x else 0)\n",
    "anim['prim_breed'] = anim['Breed'].map(lambda x: x.split('/')[0].split(' Mix')[0])"
   ]
  },
  {
   "cell_type": "code",
   "execution_count": 58,
   "id": "05e4bac3",
   "metadata": {},
   "outputs": [
    {
     "data": {
      "text/plain": [
       "['Burmese',\n",
       " 'Otterhound',\n",
       " 'Ocicat',\n",
       " 'Spinone Italiano',\n",
       " 'Norwegian Forest Cat',\n",
       " 'Norwegian Elkhound',\n",
       " 'Swiss Hound',\n",
       " 'Munchkin Longhair',\n",
       " 'Mexican Hairless',\n",
       " 'Cornish Rex',\n",
       " 'Sealyham Terr',\n",
       " 'Kuvasz',\n",
       " 'Lowchen',\n",
       " 'Spanish Mastiff',\n",
       " 'English Cocker Spaniel',\n",
       " 'Treeing Tennesse Brindle',\n",
       " 'Havana Brown',\n",
       " 'Entlebucher',\n",
       " 'Afghan Hound',\n",
       " 'Hovawart',\n",
       " 'Port Water Dog',\n",
       " 'Old English Sheepdog',\n",
       " 'Wirehaired Pointing Griffon',\n",
       " 'Devon Rex',\n",
       " 'Javanese',\n",
       " 'Field Spaniel',\n",
       " 'Exotic Shorthair',\n",
       " 'English Setter',\n",
       " 'Cymric',\n",
       " 'German Pinscher',\n",
       " 'Neapolitan Mastiff',\n",
       " 'Abyssinian',\n",
       " 'Welsh Springer Spaniel',\n",
       " 'Belgian Tervuren',\n",
       " 'Unknown',\n",
       " 'Turkish Van',\n",
       " 'Bearded Collie',\n",
       " 'Sphynx',\n",
       " 'Belgian Sheepdog',\n",
       " 'Nova Scotia Duck Tolling Retriever',\n",
       " 'Bull Terrier Miniature',\n",
       " 'Presa Canario',\n",
       " 'Samoyed',\n",
       " 'Picardy Sheepdog',\n",
       " 'Jindo',\n",
       " 'Bedlington Terr',\n",
       " 'Japanese Chin',\n",
       " 'English Foxhound',\n",
       " 'English Shepherd',\n",
       " 'Irish Setter',\n",
       " 'Ibizan Hound',\n",
       " 'Old English Bulldog',\n",
       " 'Pixiebob Shorthair',\n",
       " 'Australian Terrier',\n",
       " 'Treeing Cur',\n",
       " 'Tonkinese',\n",
       " 'Tibetan Spaniel',\n",
       " 'Greater Swiss Mountain Dog',\n",
       " 'Boerboel',\n",
       " 'Skye Terrier',\n",
       " 'Boykin Span',\n",
       " 'Schnauzer Giant',\n",
       " 'British Shorthair',\n",
       " 'Glen Of Imaal',\n",
       " 'Saluki',\n",
       " 'Dogue De Bordeaux',\n",
       " 'Canaan Dog',\n",
       " 'Bombay',\n",
       " 'Chinese Crested',\n",
       " 'Welsh Terrier',\n",
       " 'Podengo Pequeno',\n",
       " 'Balinese',\n",
       " 'American Foxhound',\n",
       " 'German Wirehaired Pointer',\n",
       " 'Bengal',\n",
       " 'Scottish Terrier',\n",
       " 'Irish Terrier',\n",
       " 'Feist',\n",
       " 'Irish Wolfhound',\n",
       " 'Patterdale Terr',\n",
       " 'Japanese Bobtail',\n",
       " 'Keeshond',\n",
       " 'Landseer',\n",
       " 'Affenpinscher',\n",
       " 'Swedish Vallhund',\n",
       " 'Bluetick Hound',\n",
       " 'Angora',\n",
       " 'Silky Terrier',\n",
       " 'Airedale Terrier',\n",
       " 'Bloodhound',\n",
       " 'Cane Corso',\n",
       " 'English Springer Spaniel',\n",
       " 'English Coonhound',\n",
       " 'Toy Fox Terrier',\n",
       " 'Tibetan Terrier',\n",
       " 'American Shorthair',\n",
       " 'Dutch Shepherd',\n",
       " 'Schipperke',\n",
       " 'Leonberger',\n",
       " 'Bernese Mountain Dog',\n",
       " 'Treeing Walker Coonhound',\n",
       " 'St. Bernard Rough Coat',\n",
       " 'Smooth Fox Terrier',\n",
       " 'Havanese',\n",
       " 'Brittany',\n",
       " 'French Bulldog',\n",
       " 'Finnish Spitz',\n",
       " 'Bullmastiff',\n",
       " 'Alaskan Malamute',\n",
       " 'Cavalier Span',\n",
       " 'Beauceron',\n",
       " 'St. Bernard Smooth Coat',\n",
       " 'Newfoundland',\n",
       " 'Ragdoll',\n",
       " 'Chesa Bay Retr',\n",
       " 'Pharaoh Hound',\n",
       " 'Pbgv',\n",
       " 'American Eskimo',\n",
       " 'Bulldog',\n",
       " 'Persian',\n",
       " 'Italian Greyhound',\n",
       " 'English Pointer',\n",
       " 'Alaskan Husky',\n",
       " 'Dogo Argentino',\n",
       " 'Dalmatian',\n",
       " 'Standard Schnauzer',\n",
       " 'Vizsla',\n",
       " 'Basenji',\n",
       " 'Norwich Terrier',\n",
       " 'Belgian Malinois',\n",
       " 'Himalayan',\n",
       " 'Greyhound',\n",
       " 'Papillon',\n",
       " 'Collie Rough',\n",
       " 'Standard Poodle',\n",
       " 'Bichon Frise',\n",
       " 'Shiba Inu',\n",
       " 'Harrier',\n",
       " 'Wire Hair Fox Terrier',\n",
       " 'Akita',\n",
       " 'West Highland',\n",
       " 'Parson Russell Terrier',\n",
       " 'German Shorthair Pointer',\n",
       " 'Black',\n",
       " 'Redbone Hound',\n",
       " 'Bruss Griffon',\n",
       " 'Weimaraner',\n",
       " 'Soft Coated Wheaten Terrier',\n",
       " 'Pembroke Welsh Corgi',\n",
       " 'Norfolk Terrier',\n",
       " 'Whippet',\n",
       " 'Russian Blue',\n",
       " 'Mastiff',\n",
       " 'Shetland Sheepdog',\n",
       " 'Rhod Ridgeback',\n",
       " 'Bull Terrier',\n",
       " 'Pekingese',\n",
       " 'Collie Smooth',\n",
       " 'English Bulldog',\n",
       " 'Great Dane',\n",
       " 'Chinese Sharpei',\n",
       " 'Toy Poodle',\n",
       " 'Maine Coon',\n",
       " 'Flat Coat Retriever',\n",
       " 'Carolina Dog',\n",
       " 'Manx']"
      ]
     },
     "execution_count": 58,
     "metadata": {},
     "output_type": "execute_result"
    }
   ],
   "source": [
    "#look to mark low multiplicity breeds as other\n",
    "lowmult_breed = []\n",
    "for i in range(len(anim.groupby('prim_breed').size())):\n",
    "    if anim.groupby('prim_breed').size().sort_values()[i] < 50:\n",
    "        lowmult_breed.append(anim.groupby('prim_breed').size().sort_values().index[i])\n",
    "lowmult_breed"
   ]
  },
  {
   "cell_type": "code",
   "execution_count": 59,
   "id": "34b3c4e5",
   "metadata": {},
   "outputs": [],
   "source": [
    "anim['red_breeds'] = anim['Breed'].map(lambda x: x.split(' Mix')[0] if x not in lowmult_breed else 'other')"
   ]
  },
  {
   "cell_type": "code",
   "execution_count": 60,
   "id": "f847e10f",
   "metadata": {},
   "outputs": [
    {
     "name": "stdout",
     "output_type": "stream",
     "text": [
      "<class 'pandas.core.frame.DataFrame'>\n",
      "RangeIndex: 26729 entries, 0 to 26728\n",
      "Data columns (total 29 columns):\n",
      " #   Column          Non-Null Count  Dtype  \n",
      "---  ------          --------------  -----  \n",
      " 0   AnimalID        26729 non-null  object \n",
      " 1   OutcomeType     26729 non-null  object \n",
      " 2   AnimalType      26729 non-null  int64  \n",
      " 3   AgeuponOutcome  26711 non-null  object \n",
      " 4   Breed           26729 non-null  object \n",
      " 5   Color           26729 non-null  object \n",
      " 6   has_name        26729 non-null  int64  \n",
      " 7   spay_Intact     26729 non-null  uint8  \n",
      " 8   spay_fixed      26729 non-null  uint8  \n",
      " 9   gender_Female   26729 non-null  uint8  \n",
      " 10  gender_Male     26729 non-null  uint8  \n",
      " 11  year            26729 non-null  int64  \n",
      " 12  month           26729 non-null  int64  \n",
      " 13  day             26729 non-null  int64  \n",
      " 14  hour            26729 non-null  int64  \n",
      " 15  Agedays         26729 non-null  float64\n",
      " 16  primary_col     26729 non-null  object \n",
      " 17  sec_col         26729 non-null  object \n",
      " 18  tabby           26729 non-null  int64  \n",
      " 19  brindle         26729 non-null  int64  \n",
      " 20  point           26729 non-null  int64  \n",
      " 21  smoke           26729 non-null  int64  \n",
      " 22  tiger           26729 non-null  int64  \n",
      " 23  tick            26729 non-null  int64  \n",
      " 24  merle           26729 non-null  int64  \n",
      " 25  cream           26729 non-null  int64  \n",
      " 26  mix             26729 non-null  int64  \n",
      " 27  prim_breed      26729 non-null  object \n",
      " 28  red_breeds      26729 non-null  object \n",
      "dtypes: float64(1), int64(15), object(9), uint8(4)\n",
      "memory usage: 5.2+ MB\n"
     ]
    }
   ],
   "source": [
    "anim.info()"
   ]
  },
  {
   "cell_type": "code",
   "execution_count": 61,
   "id": "c5e63494",
   "metadata": {},
   "outputs": [],
   "source": [
    "#dummify a lot\n",
    "anim = pd.get_dummies(anim,columns=['prim_breed'],drop_first = True)"
   ]
  },
  {
   "cell_type": "code",
   "execution_count": 62,
   "id": "c20b7c8e",
   "metadata": {},
   "outputs": [],
   "source": [
    "anim = pd.get_dummies(anim,columns=['red_breeds'],drop_first = True)"
   ]
  },
  {
   "cell_type": "code",
   "execution_count": 63,
   "id": "d91bea4b",
   "metadata": {},
   "outputs": [],
   "source": [
    "anim = pd.get_dummies(anim,columns=['primary_col'],drop_first = True)"
   ]
  },
  {
   "cell_type": "code",
   "execution_count": 64,
   "id": "4fff78d7",
   "metadata": {},
   "outputs": [],
   "source": [
    "anim = pd.get_dummies(anim,columns=['sec_col'],drop_first = True)"
   ]
  },
  {
   "cell_type": "code",
   "execution_count": 65,
   "id": "17c52945",
   "metadata": {},
   "outputs": [],
   "source": [
    "#make possible lists to change X in fits\n",
    "patterns = ['tabby','brindle','point','smoke','tiger','tick','merle','cream']\n",
    "prim_breed_list = []\n",
    "red_breed_list = []\n",
    "for i in anim.columns:\n",
    "    if i.startswith('prim_breed'):\n",
    "        prim_breed_list.append(i)\n",
    "    if i.startswith('red_breeds'):\n",
    "        red_breed_list.append(i)\n",
    "    \n"
   ]
  },
  {
   "cell_type": "code",
   "execution_count": 66,
   "id": "98fbf967",
   "metadata": {},
   "outputs": [],
   "source": [
    "#save\n",
    "anim.to_csv('../data_out/animals_somewhatcleaned.csv')"
   ]
  },
  {
   "cell_type": "code",
   "execution_count": 67,
   "id": "3f0214d5",
   "metadata": {},
   "outputs": [
    {
     "data": {
      "image/png": "[encoded data removed]",
      "text/plain": [
       "<Figure size 576x576 with 1 Axes>"
      ]
     },
     "metadata": {
      "needs_background": "light"
     },
     "output_type": "display_data"
    }
   ],
   "source": [
    "x = anim['spay_Intact'].value_counts().plot(kind='bar',\n",
    "                                    figsize=(8,8),\n",
    "                                    title=\"Number for each Owner Name\")"
   ]
  },
  {
   "cell_type": "code",
   "execution_count": 68,
   "id": "94b78d6e",
   "metadata": {},
   "outputs": [
    {
     "data": {
      "text/plain": [
       "<AxesSubplot:title={'center':'Number for each Owner Name'}>"
      ]
     },
     "execution_count": 68,
     "metadata": {},
     "output_type": "execute_result"
    },
    {
     "data": {
      "image/png": "[encoded data removed]",
      "text/plain": [
       "<Figure size 576x576 with 1 Axes>"
      ]
     },
     "metadata": {
      "needs_background": "light"
     },
     "output_type": "display_data"
    }
   ],
   "source": [
    "x = anim[anim['OutcomeType']=='Adoption']['spay_Intact'].value_counts().plot(kind='bar',\n",
    "                                    figsize=(8,8),\n",
    "                                    title=\"Number for each Owner Name\")\n",
    "x"
   ]
  },
  {
   "cell_type": "code",
   "execution_count": 69,
   "id": "680de0f5",
   "metadata": {},
   "outputs": [
    {
     "data": {
      "text/plain": [
       "<AxesSubplot:title={'center':'Number for each Owner Name'}>"
      ]
     },
     "execution_count": 69,
     "metadata": {},
     "output_type": "execute_result"
    },
    {
     "data": {
      "image/png": "[encoded data removed]",
      "text/plain": [
       "<Figure size 576x576 with 1 Axes>"
      ]
     },
     "metadata": {
      "needs_background": "light"
     },
     "output_type": "display_data"
    }
   ],
   "source": [
    "x = anim[anim['OutcomeType']=='Transfer']['spay_Intact'].value_counts().plot(kind='bar',\n",
    "                                    figsize=(8,8),\n",
    "                                    title=\"Number for each Owner Name\")\n",
    "x"
   ]
  },
  {
   "cell_type": "code",
   "execution_count": null,
   "id": "f45efe86",
   "metadata": {},
   "outputs": [],
   "source": []
  },
  {
   "cell_type": "code",
   "execution_count": 70,
   "id": "a4b9997e",
   "metadata": {},
   "outputs": [
    {
     "data": {
      "text/plain": [
       "<AxesSubplot:title={'center':'Number for each Owner Name'}>"
      ]
     },
     "execution_count": 70,
     "metadata": {},
     "output_type": "execute_result"
    },
    {
     "data": {
      "image/png": "[encoded data removed]",
      "text/plain": [
       "<Figure size 576x576 with 1 Axes>"
      ]
     },
     "metadata": {
      "needs_background": "light"
     },
     "output_type": "display_data"
    }
   ],
   "source": [
    "x = anim[anim['OutcomeType']=='Euthanasia']['spay_Intact'].value_counts().plot(kind='bar',\n",
    "                                    figsize=(8,8),\n",
    "                                    title=\"Number for each Owner Name\")\n",
    "x"
   ]
  },
  {
   "cell_type": "code",
   "execution_count": null,
   "id": "1d44bb84",
   "metadata": {},
   "outputs": [],
   "source": []
  },
  {
   "cell_type": "code",
   "execution_count": 71,
   "id": "6fbcc464",
   "metadata": {},
   "outputs": [],
   "source": [
    "#train test split, removing red_breed_list did well\n",
    "X = anim.drop(columns=['AnimalID','OutcomeType','AgeuponOutcome','Breed','Color']+red_breed_list)\n",
    "y = anim['OutcomeType']\n",
    "X_train, X_test, y_train, y_test = train_test_split(X,y,test_size=0.20,random_state=42)"
   ]
  },
  {
   "cell_type": "code",
   "execution_count": 72,
   "id": "368747a4",
   "metadata": {},
   "outputs": [],
   "source": [
    "#make something to just out put what we want to see\n",
    "def metrics_output(model,xtrain,ytrain,xtest,ytest):\n",
    "    print(f'Train Accuracy: %0.4f\\tTest Accuracy: %0.4f' %(model.score(xtrain,ytrain),model.score(xtest,ytest)))\n",
    "    model_probs = model.predict_proba(X_test)\n",
    "    print(f'Multiclass Loss: %0.4f' % (metrics.log_loss(ytest,model_probs)))\n",
    "    try:\n",
    "        print('Params ',model.best_params_)\n",
    "    except:\n",
    "        pass"
   ]
  },
  {
   "cell_type": "code",
   "execution_count": 73,
   "id": "f456222d",
   "metadata": {},
   "outputs": [],
   "source": [
    "def metrics_loss(model,xtrain,ytrain,xtest,ytest):\n",
    "    model_probs = model.predict_proba(X_test)\n",
    "    print(f'Train Accuracy: %0.4f\\tTest Accuracy: %0.4f' %(metrics.accuracy_score(y_train,model.predict(X_train)),metrics.accuracy_score(y_test,model.predict(X_test))))\n",
    "    print(f'Multiclass Loss: %0.4f' % (metrics.log_loss(y_test,model_probs)))\n",
    "    try:\n",
    "        print('Params ',model.best_params_)\n",
    "    except:\n",
    "        pass"
   ]
  },
  {
   "cell_type": "code",
   "execution_count": 74,
   "id": "073fe2b2",
   "metadata": {},
   "outputs": [],
   "source": [
    "# lr = LogisticRegression(random_state=42,penalty = 'none',max_iter = 100000,\n",
    "#                               solver = 'sag')\n",
    "# lr.fit(X_train,y_train)"
   ]
  },
  {
   "cell_type": "code",
   "execution_count": 75,
   "id": "81df5311",
   "metadata": {},
   "outputs": [],
   "source": [
    "# lr.score(X_train,y_train),lr.score(X_test,y_test)"
   ]
  },
  {
   "cell_type": "code",
   "execution_count": 76,
   "id": "3f8dfdc4",
   "metadata": {},
   "outputs": [],
   "source": [
    "# clf_probs = lr.predict_proba(X_test)\n",
    "# metrics.log_loss(y_test,clf_probs)"
   ]
  },
  {
   "cell_type": "code",
   "execution_count": 77,
   "id": "76f36b3f",
   "metadata": {},
   "outputs": [
    {
     "data": {
      "text/plain": [
       "Adoption           0.402896\n",
       "Transfer           0.352501\n",
       "Return_to_owner    0.179056\n",
       "Euthanasia         0.058177\n",
       "Died               0.007370\n",
       "Name: OutcomeType, dtype: float64"
      ]
     },
     "execution_count": 77,
     "metadata": {},
     "output_type": "execute_result"
    }
   ],
   "source": [
    "y.value_counts(normalize = True)"
   ]
  },
  {
   "cell_type": "code",
   "execution_count": null,
   "id": "0d0cdedb",
   "metadata": {},
   "outputs": [],
   "source": []
  },
  {
   "cell_type": "code",
   "execution_count": null,
   "id": "0f00abba",
   "metadata": {},
   "outputs": [],
   "source": []
  },
  {
   "cell_type": "code",
   "execution_count": null,
   "id": "3fdddb3d",
   "metadata": {},
   "outputs": [],
   "source": []
  },
  {
   "cell_type": "code",
   "execution_count": 78,
   "id": "bd9d6b93",
   "metadata": {},
   "outputs": [],
   "source": [
    "#random forest\n",
    "gsrf_pipe = Pipeline([\n",
    "    ('rf', RandomForestClassifier(random_state=42))\n",
    "])\n",
    "gsrf_params={'rf__n_estimators': [300],\n",
    "             'rf__max_depth': [20,30,40],\n",
    "             'rf__min_samples_split': [2,3,4,5],\n",
    "             'rf__min_samples_leaf': [1,2,3],\n",
    "             'rf__max_features': ['auto']\n",
    "            }"
   ]
  },
  {
   "cell_type": "code",
   "execution_count": 79,
   "id": "0452760f",
   "metadata": {},
   "outputs": [
    {
     "name": "stdout",
     "output_type": "stream",
     "text": [
      "Fitting 5 folds for each of 36 candidates, totalling 180 fits\n"
     ]
    },
    {
     "name": "stderr",
     "output_type": "stream",
     "text": [
      "[Parallel(n_jobs=-1)]: Using backend LokyBackend with 12 concurrent workers.\n",
      "[Parallel(n_jobs=-1)]: Done   1 tasks      | elapsed:   21.3s\n",
      "[Parallel(n_jobs=-1)]: Done   8 tasks      | elapsed:   21.7s\n",
      "[Parallel(n_jobs=-1)]: Done  17 tasks      | elapsed:   41.1s\n",
      "[Parallel(n_jobs=-1)]: Done  26 tasks      | elapsed:   55.4s\n",
      "[Parallel(n_jobs=-1)]: Done  37 tasks      | elapsed:  1.2min\n",
      "[Parallel(n_jobs=-1)]: Done  48 tasks      | elapsed:  1.2min\n",
      "[Parallel(n_jobs=-1)]: Done  61 tasks      | elapsed:  1.9min\n",
      "[Parallel(n_jobs=-1)]: Done  74 tasks      | elapsed:  2.2min\n",
      "[Parallel(n_jobs=-1)]: Done  89 tasks      | elapsed:  2.6min\n",
      "[Parallel(n_jobs=-1)]: Done 104 tasks      | elapsed:  2.9min\n",
      "[Parallel(n_jobs=-1)]: Done 121 tasks      | elapsed:  3.6min\n",
      "[Parallel(n_jobs=-1)]: Done 138 tasks      | elapsed:  4.0min\n",
      "[Parallel(n_jobs=-1)]: Done 157 tasks      | elapsed:  4.6min\n",
      "[Parallel(n_jobs=-1)]: Done 176 out of 180 | elapsed:  4.9min remaining:    6.6s\n",
      "[Parallel(n_jobs=-1)]: Done 180 out of 180 | elapsed:  4.9min finished\n"
     ]
    },
    {
     "data": {
      "text/plain": [
       "GridSearchCV(cv=5,\n",
       "             estimator=Pipeline(steps=[('rf',\n",
       "                                        RandomForestClassifier(random_state=42))]),\n",
       "             n_jobs=-1,\n",
       "             param_grid={'rf__max_depth': [20, 30, 40],\n",
       "                         'rf__max_features': ['auto'],\n",
       "                         'rf__min_samples_leaf': [1, 2, 3],\n",
       "                         'rf__min_samples_split': [2, 3, 4, 5],\n",
       "                         'rf__n_estimators': [300]},\n",
       "             verbose=10)"
      ]
     },
     "execution_count": 79,
     "metadata": {},
     "output_type": "execute_result"
    }
   ],
   "source": [
    "gsrf = GridSearchCV(gsrf_pipe,gsrf_params,cv =5,n_jobs = -1,verbose =10)\n",
    "gsrf.fit(X_train,y_train)"
   ]
  },
  {
   "cell_type": "code",
   "execution_count": 80,
   "id": "a59163ac",
   "metadata": {},
   "outputs": [
    {
     "name": "stdout",
     "output_type": "stream",
     "text": [
      "Train Accuracy: 0.9254\tTest Accuracy: 0.6627\n",
      "Multiclass Loss: 0.8226\n",
      "Params  {'rf__max_depth': 40, 'rf__max_features': 'auto', 'rf__min_samples_leaf': 1, 'rf__min_samples_split': 5, 'rf__n_estimators': 300}\n"
     ]
    }
   ],
   "source": [
    "metrics_output(gsrf,X_train,y_train,X_test,y_test)"
   ]
  },
  {
   "cell_type": "code",
   "execution_count": 55,
   "id": "13672083",
   "metadata": {},
   "outputs": [
    {
     "name": "stdout",
     "output_type": "stream",
     "text": [
      "Fitting 5 folds for each of 140 candidates, totalling 700 fits\n"
     ]
    },
    {
     "name": "stderr",
     "output_type": "stream",
     "text": [
      "[Parallel(n_jobs=-1)]: Using backend LokyBackend with 12 concurrent workers.\n",
      "[Parallel(n_jobs=-1)]: Done   1 tasks      | elapsed:    1.0s\n",
      "[Parallel(n_jobs=-1)]: Done   8 tasks      | elapsed:    1.1s\n",
      "[Parallel(n_jobs=-1)]: Done  17 tasks      | elapsed:    2.1s\n",
      "[Parallel(n_jobs=-1)]: Done  26 tasks      | elapsed:    3.2s\n",
      "[Parallel(n_jobs=-1)]: Done  37 tasks      | elapsed:    4.1s\n",
      "[Parallel(n_jobs=-1)]: Done  48 tasks      | elapsed:    4.6s\n",
      "[Parallel(n_jobs=-1)]: Done  61 tasks      | elapsed:    6.6s\n",
      "[Parallel(n_jobs=-1)]: Done  74 tasks      | elapsed:    7.6s\n",
      "[Parallel(n_jobs=-1)]: Done  89 tasks      | elapsed:    9.0s\n",
      "[Parallel(n_jobs=-1)]: Done 104 tasks      | elapsed:   10.4s\n",
      "[Parallel(n_jobs=-1)]: Done 121 tasks      | elapsed:   12.0s\n",
      "[Parallel(n_jobs=-1)]: Done 138 tasks      | elapsed:   13.8s\n",
      "[Parallel(n_jobs=-1)]: Done 157 tasks      | elapsed:   15.7s\n",
      "[Parallel(n_jobs=-1)]: Done 176 tasks      | elapsed:   17.4s\n",
      "[Parallel(n_jobs=-1)]: Done 197 tasks      | elapsed:   19.5s\n",
      "[Parallel(n_jobs=-1)]: Done 218 tasks      | elapsed:   21.7s\n",
      "[Parallel(n_jobs=-1)]: Done 241 tasks      | elapsed:   24.0s\n",
      "[Parallel(n_jobs=-1)]: Done 264 tasks      | elapsed:   26.3s\n",
      "[Parallel(n_jobs=-1)]: Done 289 tasks      | elapsed:   28.7s\n",
      "[Parallel(n_jobs=-1)]: Done 314 tasks      | elapsed:   31.3s\n",
      "[Parallel(n_jobs=-1)]: Done 341 tasks      | elapsed:   33.9s\n",
      "[Parallel(n_jobs=-1)]: Done 368 tasks      | elapsed:   36.5s\n",
      "[Parallel(n_jobs=-1)]: Done 397 tasks      | elapsed:   39.4s\n",
      "[Parallel(n_jobs=-1)]: Done 426 tasks      | elapsed:   42.4s\n",
      "[Parallel(n_jobs=-1)]: Done 457 tasks      | elapsed:   45.7s\n",
      "[Parallel(n_jobs=-1)]: Done 488 tasks      | elapsed:   48.8s\n",
      "[Parallel(n_jobs=-1)]: Done 521 tasks      | elapsed:   52.2s\n",
      "[Parallel(n_jobs=-1)]: Done 554 tasks      | elapsed:   55.8s\n",
      "[Parallel(n_jobs=-1)]: Done 589 tasks      | elapsed:   59.3s\n",
      "[Parallel(n_jobs=-1)]: Done 624 tasks      | elapsed:  1.0min\n",
      "[Parallel(n_jobs=-1)]: Done 661 tasks      | elapsed:  1.1min\n",
      "[Parallel(n_jobs=-1)]: Done 700 out of 700 | elapsed:  1.2min finished\n"
     ]
    },
    {
     "data": {
      "text/plain": [
       "GridSearchCV(cv=5,\n",
       "             estimator=Pipeline(steps=[('dt',\n",
       "                                        DecisionTreeClassifier(random_state=42))]),\n",
       "             n_jobs=-1,\n",
       "             param_grid={'dt__max_depth': [20, 25, 30, 35, 40, 45, 60],\n",
       "                         'dt__min_samples_leaf': [1, 2],\n",
       "                         'dt__min_samples_split': [5, 10, 15, 20, 25, 30, 35,\n",
       "                                                   40, 45, 50]},\n",
       "             verbose=10)"
      ]
     },
     "execution_count": 55,
     "metadata": {},
     "output_type": "execute_result"
    }
   ],
   "source": [
    "#decision tree\n",
    "gsdt_pipe = Pipeline([\n",
    "    ('dt', DecisionTreeClassifier(random_state=42))\n",
    "])\n",
    "gsdt_params = {\n",
    "             'dt__max_depth': [20,25,30,35,40,45,60],\n",
    "             'dt__min_samples_split': [5, 10, 15, 20, 25, 30, 35,40,45,50],\n",
    "             'dt__min_samples_leaf': [1,2],\n",
    "}\n",
    "gsdt = GridSearchCV(gsdt_pipe,gsdt_params,cv =5,verbose = 10,n_jobs = -1)\n",
    "gsdt.fit(X_train,y_train)\n",
    "\n"
   ]
  },
  {
   "cell_type": "code",
   "execution_count": 56,
   "id": "32a76599",
   "metadata": {
    "scrolled": true
   },
   "outputs": [
    {
     "name": "stdout",
     "output_type": "stream",
     "text": [
      "Train Accuracy: 0.7140\tTest Accuracy: 0.6337\n",
      "Multiclass Loss: 2.1177\n",
      "Params  {'dt__max_depth': 20, 'dt__min_samples_leaf': 2, 'dt__min_samples_split': 50}\n"
     ]
    }
   ],
   "source": [
    "metrics_output(gsdt,X_train,y_train,X_test,y_test)"
   ]
  },
  {
   "cell_type": "code",
   "execution_count": 57,
   "id": "3460c660",
   "metadata": {},
   "outputs": [],
   "source": [
    "# nb = MultinomialNB()\n",
    "# nb.fit(X_train,y_train)"
   ]
  },
  {
   "cell_type": "code",
   "execution_count": null,
   "id": "d3c2b584",
   "metadata": {},
   "outputs": [],
   "source": []
  },
  {
   "cell_type": "code",
   "execution_count": 58,
   "id": "cfac920b",
   "metadata": {},
   "outputs": [],
   "source": [
    "#try with red_breed instead o\n",
    "X = anim.drop(columns=['AnimalID','OutcomeType','AgeuponOutcome','Breed','Color']+prim_breed_list)\n",
    "y = anim['OutcomeType']\n",
    "X_train, X_test, y_train, y_test = train_test_split(X,y,test_size=0.20,random_state=42)"
   ]
  },
  {
   "cell_type": "code",
   "execution_count": 152,
   "id": "476e7c84",
   "metadata": {},
   "outputs": [
    {
     "data": {
      "text/plain": [
       "(21383, 290)"
      ]
     },
     "execution_count": 152,
     "metadata": {},
     "output_type": "execute_result"
    }
   ],
   "source": [
    "X_train.shape"
   ]
  },
  {
   "cell_type": "code",
   "execution_count": 59,
   "id": "392851eb",
   "metadata": {},
   "outputs": [],
   "source": [
    "gsrf_pipe = Pipeline([\n",
    "    ('rf', RandomForestClassifier(random_state=42))\n",
    "])\n",
    "gsrf_params={'rf__n_estimators': [300],\n",
    "             'rf__max_depth': [20,30,40],\n",
    "             'rf__min_samples_split': [2,3,4,5],\n",
    "             'rf__min_samples_leaf': [1,2,3],\n",
    "             'rf__max_features': ['auto']\n",
    "            }"
   ]
  },
  {
   "cell_type": "code",
   "execution_count": 60,
   "id": "c46ee271",
   "metadata": {},
   "outputs": [
    {
     "name": "stdout",
     "output_type": "stream",
     "text": [
      "Fitting 5 folds for each of 36 candidates, totalling 180 fits\n"
     ]
    },
    {
     "name": "stderr",
     "output_type": "stream",
     "text": [
      "[Parallel(n_jobs=-1)]: Using backend LokyBackend with 12 concurrent workers.\n",
      "[Parallel(n_jobs=-1)]: Done   1 tasks      | elapsed:  1.0min\n",
      "[Parallel(n_jobs=-1)]: Done   8 tasks      | elapsed:  1.1min\n",
      "[Parallel(n_jobs=-1)]: Done  17 tasks      | elapsed:  2.1min\n",
      "[Parallel(n_jobs=-1)]: Done  26 tasks      | elapsed:  2.5min\n",
      "[Parallel(n_jobs=-1)]: Done  37 tasks      | elapsed:  3.2min\n",
      "[Parallel(n_jobs=-1)]: Done  48 tasks      | elapsed:  3.3min\n",
      "[Parallel(n_jobs=-1)]: Done  61 tasks      | elapsed:  5.3min\n",
      "[Parallel(n_jobs=-1)]: Done  74 tasks      | elapsed:  6.3min\n",
      "[Parallel(n_jobs=-1)]: Done  89 tasks      | elapsed:  7.7min\n",
      "[Parallel(n_jobs=-1)]: Done 104 tasks      | elapsed:  8.4min\n",
      "[Parallel(n_jobs=-1)]: Done 121 tasks      | elapsed: 10.7min\n",
      "[Parallel(n_jobs=-1)]: Done 138 tasks      | elapsed: 12.6min\n",
      "[Parallel(n_jobs=-1)]: Done 157 tasks      | elapsed: 13.8min\n",
      "[Parallel(n_jobs=-1)]: Done 176 out of 180 | elapsed: 14.8min remaining:   20.1s\n",
      "[Parallel(n_jobs=-1)]: Done 180 out of 180 | elapsed: 14.9min finished\n"
     ]
    },
    {
     "data": {
      "text/plain": [
       "GridSearchCV(cv=5,\n",
       "             estimator=Pipeline(steps=[('rf',\n",
       "                                        RandomForestClassifier(random_state=42))]),\n",
       "             n_jobs=-1,\n",
       "             param_grid={'rf__max_depth': [20, 30, 40],\n",
       "                         'rf__max_features': ['auto'],\n",
       "                         'rf__min_samples_leaf': [1, 2, 3],\n",
       "                         'rf__min_samples_split': [2, 3, 4, 5],\n",
       "                         'rf__n_estimators': [300]},\n",
       "             verbose=10)"
      ]
     },
     "execution_count": 60,
     "metadata": {},
     "output_type": "execute_result"
    }
   ],
   "source": [
    "gsrf = GridSearchCV(gsrf_pipe,gsrf_params,cv =5,n_jobs = -1,verbose =10)\n",
    "gsrf.fit(X_train,y_train)"
   ]
  },
  {
   "cell_type": "code",
   "execution_count": 61,
   "id": "cf808089",
   "metadata": {},
   "outputs": [
    {
     "name": "stdout",
     "output_type": "stream",
     "text": [
      "Train Accuracy: 0.9091\tTest Accuracy: 0.6427\n",
      "Multiclass Loss: 0.8669\n",
      "Params  {'rf__max_depth': 40, 'rf__max_features': 'auto', 'rf__min_samples_leaf': 1, 'rf__min_samples_split': 3, 'rf__n_estimators': 300}\n"
     ]
    }
   ],
   "source": [
    "metrics_output(gsrf,X_train,y_train,X_test,y_test)"
   ]
  },
  {
   "cell_type": "code",
   "execution_count": 62,
   "id": "1960742b",
   "metadata": {},
   "outputs": [
    {
     "name": "stdout",
     "output_type": "stream",
     "text": [
      "Fitting 5 folds for each of 140 candidates, totalling 700 fits\n"
     ]
    },
    {
     "name": "stderr",
     "output_type": "stream",
     "text": [
      "[Parallel(n_jobs=-1)]: Using backend LokyBackend with 12 concurrent workers.\n",
      "[Parallel(n_jobs=-1)]: Done   1 tasks      | elapsed:    2.5s\n",
      "[Parallel(n_jobs=-1)]: Done   8 tasks      | elapsed:    2.8s\n",
      "[Parallel(n_jobs=-1)]: Done  17 tasks      | elapsed:    5.6s\n",
      "[Parallel(n_jobs=-1)]: Done  26 tasks      | elapsed:    7.8s\n",
      "[Parallel(n_jobs=-1)]: Done  37 tasks      | elapsed:   10.3s\n",
      "[Parallel(n_jobs=-1)]: Done  48 tasks      | elapsed:   11.2s\n",
      "[Parallel(n_jobs=-1)]: Done  61 tasks      | elapsed:   15.3s\n",
      "[Parallel(n_jobs=-1)]: Done  74 tasks      | elapsed:   17.9s\n",
      "[Parallel(n_jobs=-1)]: Done  89 tasks      | elapsed:   20.8s\n",
      "[Parallel(n_jobs=-1)]: Done 104 tasks      | elapsed:   23.9s\n",
      "[Parallel(n_jobs=-1)]: Done 121 tasks      | elapsed:   27.5s\n",
      "[Parallel(n_jobs=-1)]: Done 138 tasks      | elapsed:   31.5s\n",
      "[Parallel(n_jobs=-1)]: Done 157 tasks      | elapsed:   35.7s\n",
      "[Parallel(n_jobs=-1)]: Done 176 tasks      | elapsed:   40.2s\n",
      "[Parallel(n_jobs=-1)]: Done 197 tasks      | elapsed:   44.8s\n",
      "[Parallel(n_jobs=-1)]: Done 218 tasks      | elapsed:   49.3s\n",
      "[Parallel(n_jobs=-1)]: Done 241 tasks      | elapsed:   55.1s\n",
      "[Parallel(n_jobs=-1)]: Done 264 tasks      | elapsed:   59.7s\n",
      "[Parallel(n_jobs=-1)]: Done 289 tasks      | elapsed:  1.1min\n",
      "[Parallel(n_jobs=-1)]: Done 314 tasks      | elapsed:  1.2min\n",
      "[Parallel(n_jobs=-1)]: Done 341 tasks      | elapsed:  1.3min\n",
      "[Parallel(n_jobs=-1)]: Done 368 tasks      | elapsed:  1.4min\n",
      "[Parallel(n_jobs=-1)]: Done 397 tasks      | elapsed:  1.5min\n",
      "[Parallel(n_jobs=-1)]: Done 426 tasks      | elapsed:  1.6min\n",
      "[Parallel(n_jobs=-1)]: Done 457 tasks      | elapsed:  1.8min\n",
      "[Parallel(n_jobs=-1)]: Done 488 tasks      | elapsed:  1.9min\n",
      "[Parallel(n_jobs=-1)]: Done 521 tasks      | elapsed:  2.0min\n",
      "[Parallel(n_jobs=-1)]: Done 554 tasks      | elapsed:  2.1min\n",
      "[Parallel(n_jobs=-1)]: Done 589 tasks      | elapsed:  2.3min\n",
      "[Parallel(n_jobs=-1)]: Done 624 tasks      | elapsed:  2.4min\n",
      "[Parallel(n_jobs=-1)]: Done 661 tasks      | elapsed:  2.6min\n",
      "[Parallel(n_jobs=-1)]: Done 700 out of 700 | elapsed:  2.7min finished\n"
     ]
    },
    {
     "data": {
      "text/plain": [
       "GridSearchCV(cv=5,\n",
       "             estimator=Pipeline(steps=[('dt',\n",
       "                                        DecisionTreeClassifier(random_state=42))]),\n",
       "             n_jobs=-1,\n",
       "             param_grid={'dt__max_depth': [20, 25, 30, 35, 40, 45, 60],\n",
       "                         'dt__min_samples_leaf': [1, 2],\n",
       "                         'dt__min_samples_split': [5, 10, 15, 20, 25, 30, 35,\n",
       "                                                   40, 45, 50]},\n",
       "             verbose=10)"
      ]
     },
     "execution_count": 62,
     "metadata": {},
     "output_type": "execute_result"
    }
   ],
   "source": [
    "gsdt_pipe = Pipeline([\n",
    "    ('dt', DecisionTreeClassifier(random_state=42))\n",
    "])\n",
    "gsdt_params = {\n",
    "             'dt__max_depth': [20,25,30,35,40,45,60],\n",
    "             'dt__min_samples_split': [5, 10, 15, 20, 25, 30, 35,40,45,50],\n",
    "             'dt__min_samples_leaf': [1,2],\n",
    "}\n",
    "gsdt = GridSearchCV(gsdt_pipe,gsdt_params,cv =5,verbose = 10,n_jobs = -1)\n",
    "gsdt.fit(X_train,y_train)\n",
    "\n"
   ]
  },
  {
   "cell_type": "code",
   "execution_count": 63,
   "id": "542669ea",
   "metadata": {
    "scrolled": true
   },
   "outputs": [
    {
     "name": "stdout",
     "output_type": "stream",
     "text": [
      "Train Accuracy: 0.7138\tTest Accuracy: 0.6388\n",
      "Multiclass Loss: 2.1228\n",
      "Params  {'dt__max_depth': 20, 'dt__min_samples_leaf': 2, 'dt__min_samples_split': 50}\n"
     ]
    }
   ],
   "source": [
    "metrics_output(gsdt,X_train,y_train,X_test,y_test)"
   ]
  },
  {
   "cell_type": "code",
   "execution_count": 54,
   "id": "c6018928",
   "metadata": {},
   "outputs": [],
   "source": [
    "X = anim.drop(columns=['AnimalID','OutcomeType','AgeuponOutcome','Breed','Color']+red_breed_list)\n",
    "y = anim['OutcomeType']\n",
    "X_train, X_test, y_train, y_test = train_test_split(X,y,test_size=0.20,random_state=42)"
   ]
  },
  {
   "cell_type": "code",
   "execution_count": null,
   "id": "d6c9981d",
   "metadata": {},
   "outputs": [],
   "source": []
  },
  {
   "cell_type": "code",
   "execution_count": 55,
   "id": "d19eb42f",
   "metadata": {},
   "outputs": [],
   "source": [
    "ss = StandardScaler()\n",
    "Ztrain = ss.fit_transform(X_train,y_train)\n",
    "Ztest = ss.transform(X_test)"
   ]
  },
  {
   "cell_type": "code",
   "execution_count": 58,
   "id": "0ca5e1c9",
   "metadata": {},
   "outputs": [],
   "source": [
    "lr = LogisticRegressionCV(random_state=42,penalty = 'l1',max_iter = 100000,\n",
    "                              solver = 'liblinear',Cs=np.logspace(-5,5,21), \n",
    "                              cv = 5,n_jobs = -1,verbose = 10,scoring = 'neg_log_loss')"
   ]
  },
  {
   "cell_type": "code",
   "execution_count": null,
   "id": "3d410e3b",
   "metadata": {},
   "outputs": [
    {
     "name": "stderr",
     "output_type": "stream",
     "text": [
      "[Parallel(n_jobs=-1)]: Using backend LokyBackend with 12 concurrent workers.\n"
     ]
    }
   ],
   "source": [
    "lr.fit(Ztrain,y_train)\n",
    "metrics_output(lr,Ztrain,y_train,Ztest,y_test)"
   ]
  },
  {
   "cell_type": "code",
   "execution_count": 49,
   "id": "07abdd72",
   "metadata": {},
   "outputs": [
    {
     "name": "stdout",
     "output_type": "stream",
     "text": [
      "Train Accuracy: 0.6125\tTest Accuracy: 0.6128\n",
      "Multiclass Loss: 0.9825\n"
     ]
    },
    {
     "ename": "AttributeError",
     "evalue": "'LogisticRegression' object has no attribute 'best_params_'",
     "output_type": "error",
     "traceback": [
      "\u001b[1;31m---------------------------------------------------------------------------\u001b[0m",
      "\u001b[1;31mAttributeError\u001b[0m                            Traceback (most recent call last)",
      "\u001b[1;32m<ipython-input-49-1cab8a5586ae>\u001b[0m in \u001b[0;36m<module>\u001b[1;34m\u001b[0m\n\u001b[0;32m      2\u001b[0m                               solver = 'sag')\n\u001b[0;32m      3\u001b[0m \u001b[0mlr\u001b[0m\u001b[1;33m.\u001b[0m\u001b[0mfit\u001b[0m\u001b[1;33m(\u001b[0m\u001b[0mX_train\u001b[0m\u001b[1;33m,\u001b[0m\u001b[0my_train\u001b[0m\u001b[1;33m)\u001b[0m\u001b[1;33m\u001b[0m\u001b[1;33m\u001b[0m\u001b[0m\n\u001b[1;32m----> 4\u001b[1;33m \u001b[0mmetrics_output\u001b[0m\u001b[1;33m(\u001b[0m\u001b[0mlr\u001b[0m\u001b[1;33m,\u001b[0m\u001b[0mX_train\u001b[0m\u001b[1;33m,\u001b[0m\u001b[0my_train\u001b[0m\u001b[1;33m,\u001b[0m\u001b[0mX_test\u001b[0m\u001b[1;33m,\u001b[0m\u001b[0my_test\u001b[0m\u001b[1;33m)\u001b[0m\u001b[1;33m\u001b[0m\u001b[1;33m\u001b[0m\u001b[0m\n\u001b[0m",
      "\u001b[1;32m<ipython-input-45-81aed28c2fce>\u001b[0m in \u001b[0;36mmetrics_output\u001b[1;34m(model, xtrain, ytrain, xtest, ytest)\u001b[0m\n\u001b[0;32m      3\u001b[0m     \u001b[0mmodel_probs\u001b[0m \u001b[1;33m=\u001b[0m \u001b[0mmodel\u001b[0m\u001b[1;33m.\u001b[0m\u001b[0mpredict_proba\u001b[0m\u001b[1;33m(\u001b[0m\u001b[0mX_test\u001b[0m\u001b[1;33m)\u001b[0m\u001b[1;33m\u001b[0m\u001b[1;33m\u001b[0m\u001b[0m\n\u001b[0;32m      4\u001b[0m     \u001b[0mprint\u001b[0m\u001b[1;33m(\u001b[0m\u001b[1;34mf'Multiclass Loss: %0.4f'\u001b[0m \u001b[1;33m%\u001b[0m \u001b[1;33m(\u001b[0m\u001b[0mmetrics\u001b[0m\u001b[1;33m.\u001b[0m\u001b[0mlog_loss\u001b[0m\u001b[1;33m(\u001b[0m\u001b[0mytest\u001b[0m\u001b[1;33m,\u001b[0m\u001b[0mmodel_probs\u001b[0m\u001b[1;33m)\u001b[0m\u001b[1;33m)\u001b[0m\u001b[1;33m)\u001b[0m\u001b[1;33m\u001b[0m\u001b[1;33m\u001b[0m\u001b[0m\n\u001b[1;32m----> 5\u001b[1;33m     \u001b[0mprint\u001b[0m\u001b[1;33m(\u001b[0m\u001b[1;34m'Params '\u001b[0m\u001b[1;33m,\u001b[0m\u001b[0mmodel\u001b[0m\u001b[1;33m.\u001b[0m\u001b[0mbest_params_\u001b[0m\u001b[1;33m)\u001b[0m\u001b[1;33m\u001b[0m\u001b[1;33m\u001b[0m\u001b[0m\n\u001b[0m",
      "\u001b[1;31mAttributeError\u001b[0m: 'LogisticRegression' object has no attribute 'best_params_'"
     ]
    }
   ],
   "source": [
    "lr = LogisticRegression(random_state=42,penalty = 'none',max_iter = 100000,\n",
    "                              solver = 'sag',n_jobs = -1)\n",
    "lr.fit(X_train,y_train)\n",
    "metrics_output(lr,X_train,y_train,X_test,y_test)"
   ]
  },
  {
   "cell_type": "code",
   "execution_count": 54,
   "id": "93f2a592",
   "metadata": {},
   "outputs": [
    {
     "name": "stdout",
     "output_type": "stream",
     "text": [
      "Fitting 5 folds for each of 5 candidates, totalling 25 fits\n"
     ]
    },
    {
     "name": "stderr",
     "output_type": "stream",
     "text": [
      "[Parallel(n_jobs=-1)]: Using backend LokyBackend with 12 concurrent workers.\n",
      "[Parallel(n_jobs=-1)]: Done   1 tasks      | elapsed:  1.0min\n",
      "[Parallel(n_jobs=-1)]: Done   5 out of  25 | elapsed:  1.1min remaining:  4.3min\n",
      "[Parallel(n_jobs=-1)]: Done   8 out of  25 | elapsed:  1.1min remaining:  2.3min\n",
      "[Parallel(n_jobs=-1)]: Done  11 out of  25 | elapsed:  1.1min remaining:  1.4min\n",
      "[Parallel(n_jobs=-1)]: Done  14 out of  25 | elapsed:  2.1min remaining:  1.6min\n",
      "[Parallel(n_jobs=-1)]: Done  17 out of  25 | elapsed:  2.2min remaining:  1.0min\n",
      "[Parallel(n_jobs=-1)]: Done  20 out of  25 | elapsed:  2.2min remaining:   32.5s\n",
      "[Parallel(n_jobs=-1)]: Done  23 out of  25 | elapsed:  2.2min remaining:   11.4s\n",
      "[Parallel(n_jobs=-1)]: Done  25 out of  25 | elapsed:  2.6min finished\n"
     ]
    },
    {
     "name": "stdout",
     "output_type": "stream",
     "text": [
      "Train Accuracy: 0.6269\tTest Accuracy: 0.5802\n",
      "Multiclass Loss: 1.8964\n",
      "Params  {'knn__n_neighbors': 15}\n"
     ]
    }
   ],
   "source": [
    "gsknn_pipe = Pipeline([\n",
    "    ('knn', KNeighborsClassifier())\n",
    "])\n",
    "gsknn_params = {\n",
    "    'knn__n_neighbors': [3,5,7,11,15]         \n",
    "}\n",
    "gsknn = GridSearchCV(gsknn_pipe,gsknn_params,cv =5,verbose = 10,n_jobs = -1)\n",
    "gsknn.fit(Ztrain,y_train)\n",
    "metrics_output(gsknn,Ztrain,y_train,Ztest,y_test)"
   ]
  },
  {
   "cell_type": "code",
   "execution_count": 63,
   "id": "4b833cd0",
   "metadata": {},
   "outputs": [],
   "source": [
    "rssv_pipe = Pipeline([\n",
    "    ('ss',StandardScaler()),\n",
    "    ('svc', SVC(random_state = 42))\n",
    "])\n",
    "\n",
    "rssv_params = {\n",
    "    'svc__C': loguniform(1e-5,1e+2), # was: np.logspace(-5,2, 10),\n",
    "    'svc__kernel': ['poly','rbf'],\n",
    "    'svc__gamma': ['scale','auto'],\n",
    "    'svc__degree': list(np.linspace(2,10,9)), # same as before because we need integers\n",
    "    'svc__coef0': uniform(0,1), # was: np.linspace(0,1, 5),\n",
    "    'svc__shrinking': [True, False]   \n",
    "}\n",
    "\n",
    "rssv = RandomizedSearchCV(estimator = rssv_pipe,\n",
    "                     param_distributions = rssv_params,\n",
    "                     scoring = 'neg_log_loss',\n",
    "                     n_iter = 2000,\n",
    "                     n_jobs = -1,\n",
    "                     cv = 5,\n",
    "                     verbose = 10)"
   ]
  },
  {
   "cell_type": "code",
   "execution_count": null,
   "id": "1dc0a1ce",
   "metadata": {},
   "outputs": [
    {
     "name": "stdout",
     "output_type": "stream",
     "text": [
      "Fitting 5 folds for each of 2000 candidates, totalling 10000 fits\n"
     ]
    },
    {
     "name": "stderr",
     "output_type": "stream",
     "text": [
      "[Parallel(n_jobs=-1)]: Using backend LokyBackend with 12 concurrent workers.\n"
     ]
    }
   ],
   "source": [
    "rssv.fit(X_train,y_train)"
   ]
  },
  {
   "cell_type": "code",
   "execution_count": 62,
   "id": "49a3306e",
   "metadata": {},
   "outputs": [
    {
     "data": {
      "text/plain": [
       "dict_keys(['explained_variance', 'r2', 'max_error', 'neg_median_absolute_error', 'neg_mean_absolute_error', 'neg_mean_squared_error', 'neg_mean_squared_log_error', 'neg_root_mean_squared_error', 'neg_mean_poisson_deviance', 'neg_mean_gamma_deviance', 'accuracy', 'roc_auc', 'roc_auc_ovr', 'roc_auc_ovo', 'roc_auc_ovr_weighted', 'roc_auc_ovo_weighted', 'balanced_accuracy', 'average_precision', 'neg_log_loss', 'neg_brier_score', 'adjusted_rand_score', 'homogeneity_score', 'completeness_score', 'v_measure_score', 'mutual_info_score', 'adjusted_mutual_info_score', 'normalized_mutual_info_score', 'fowlkes_mallows_score', 'precision', 'precision_macro', 'precision_micro', 'precision_samples', 'precision_weighted', 'recall', 'recall_macro', 'recall_micro', 'recall_samples', 'recall_weighted', 'f1', 'f1_macro', 'f1_micro', 'f1_samples', 'f1_weighted', 'jaccard', 'jaccard_macro', 'jaccard_micro', 'jaccard_samples', 'jaccard_weighted'])"
      ]
     },
     "execution_count": 62,
     "metadata": {},
     "output_type": "execute_result"
    }
   ],
   "source": []
  },
  {
   "cell_type": "code",
   "execution_count": 49,
   "id": "be9846aa",
   "metadata": {},
   "outputs": [
    {
     "data": {
      "text/plain": [
       "SVC(random_state=42)"
      ]
     },
     "execution_count": 49,
     "metadata": {},
     "output_type": "execute_result"
    }
   ],
   "source": [
    "svec = SVC(random_state = 42)\n",
    "svec.fit(Ztrain, y_train)"
   ]
  },
  {
   "cell_type": "code",
   "execution_count": 51,
   "id": "371a898b",
   "metadata": {},
   "outputs": [
    {
     "name": "stdout",
     "output_type": "stream",
     "text": [
      "Train Accuracy: 0.6453\tTest Accuracy: 0.6218\n"
     ]
    },
    {
     "ename": "AttributeError",
     "evalue": "predict_proba is not available when  probability=False",
     "output_type": "error",
     "traceback": [
      "\u001b[1;31m---------------------------------------------------------------------------\u001b[0m",
      "\u001b[1;31mAttributeError\u001b[0m                            Traceback (most recent call last)",
      "\u001b[1;32m<ipython-input-51-525a2242f6bc>\u001b[0m in \u001b[0;36m<module>\u001b[1;34m\u001b[0m\n\u001b[1;32m----> 1\u001b[1;33m \u001b[0mmetrics_output\u001b[0m\u001b[1;33m(\u001b[0m\u001b[0msvec\u001b[0m\u001b[1;33m,\u001b[0m\u001b[0mZtrain\u001b[0m\u001b[1;33m,\u001b[0m\u001b[0my_train\u001b[0m\u001b[1;33m,\u001b[0m\u001b[0mZtest\u001b[0m\u001b[1;33m,\u001b[0m\u001b[0my_test\u001b[0m\u001b[1;33m)\u001b[0m\u001b[1;33m\u001b[0m\u001b[1;33m\u001b[0m\u001b[0m\n\u001b[0m",
      "\u001b[1;32m<ipython-input-50-6320c4358e2a>\u001b[0m in \u001b[0;36mmetrics_output\u001b[1;34m(model, xtrain, ytrain, xtest, ytest)\u001b[0m\n\u001b[0;32m      2\u001b[0m \u001b[1;32mdef\u001b[0m \u001b[0mmetrics_output\u001b[0m\u001b[1;33m(\u001b[0m\u001b[0mmodel\u001b[0m\u001b[1;33m,\u001b[0m\u001b[0mxtrain\u001b[0m\u001b[1;33m,\u001b[0m\u001b[0mytrain\u001b[0m\u001b[1;33m,\u001b[0m\u001b[0mxtest\u001b[0m\u001b[1;33m,\u001b[0m\u001b[0mytest\u001b[0m\u001b[1;33m)\u001b[0m\u001b[1;33m:\u001b[0m\u001b[1;33m\u001b[0m\u001b[1;33m\u001b[0m\u001b[0m\n\u001b[0;32m      3\u001b[0m     \u001b[0mprint\u001b[0m\u001b[1;33m(\u001b[0m\u001b[1;34mf'Train Accuracy: %0.4f\\tTest Accuracy: %0.4f'\u001b[0m \u001b[1;33m%\u001b[0m\u001b[1;33m(\u001b[0m\u001b[0mmodel\u001b[0m\u001b[1;33m.\u001b[0m\u001b[0mscore\u001b[0m\u001b[1;33m(\u001b[0m\u001b[0mxtrain\u001b[0m\u001b[1;33m,\u001b[0m\u001b[0mytrain\u001b[0m\u001b[1;33m)\u001b[0m\u001b[1;33m,\u001b[0m\u001b[0mmodel\u001b[0m\u001b[1;33m.\u001b[0m\u001b[0mscore\u001b[0m\u001b[1;33m(\u001b[0m\u001b[0mxtest\u001b[0m\u001b[1;33m,\u001b[0m\u001b[0mytest\u001b[0m\u001b[1;33m)\u001b[0m\u001b[1;33m)\u001b[0m\u001b[1;33m)\u001b[0m\u001b[1;33m\u001b[0m\u001b[1;33m\u001b[0m\u001b[0m\n\u001b[1;32m----> 4\u001b[1;33m     \u001b[0mmodel_probs\u001b[0m \u001b[1;33m=\u001b[0m \u001b[0mmodel\u001b[0m\u001b[1;33m.\u001b[0m\u001b[0mpredict_proba\u001b[0m\u001b[1;33m(\u001b[0m\u001b[0mX_test\u001b[0m\u001b[1;33m)\u001b[0m\u001b[1;33m\u001b[0m\u001b[1;33m\u001b[0m\u001b[0m\n\u001b[0m\u001b[0;32m      5\u001b[0m     \u001b[0mprint\u001b[0m\u001b[1;33m(\u001b[0m\u001b[1;34mf'Multiclass Loss: %0.4f'\u001b[0m \u001b[1;33m%\u001b[0m \u001b[1;33m(\u001b[0m\u001b[0mmetrics\u001b[0m\u001b[1;33m.\u001b[0m\u001b[0mlog_loss\u001b[0m\u001b[1;33m(\u001b[0m\u001b[0mytest\u001b[0m\u001b[1;33m,\u001b[0m\u001b[0mmodel_probs\u001b[0m\u001b[1;33m)\u001b[0m\u001b[1;33m)\u001b[0m\u001b[1;33m)\u001b[0m\u001b[1;33m\u001b[0m\u001b[1;33m\u001b[0m\u001b[0m\n\u001b[0;32m      6\u001b[0m     \u001b[1;32mtry\u001b[0m\u001b[1;33m:\u001b[0m\u001b[1;33m\u001b[0m\u001b[1;33m\u001b[0m\u001b[0m\n",
      "\u001b[1;32m~\\anaconda3\\lib\\site-packages\\sklearn\\svm\\_base.py\u001b[0m in \u001b[0;36mpredict_proba\u001b[1;34m(self)\u001b[0m\n\u001b[0;32m    655\u001b[0m         \u001b[0mdatasets\u001b[0m\u001b[1;33m.\u001b[0m\u001b[1;33m\u001b[0m\u001b[1;33m\u001b[0m\u001b[0m\n\u001b[0;32m    656\u001b[0m         \"\"\"\n\u001b[1;32m--> 657\u001b[1;33m         \u001b[0mself\u001b[0m\u001b[1;33m.\u001b[0m\u001b[0m_check_proba\u001b[0m\u001b[1;33m(\u001b[0m\u001b[1;33m)\u001b[0m\u001b[1;33m\u001b[0m\u001b[1;33m\u001b[0m\u001b[0m\n\u001b[0m\u001b[0;32m    658\u001b[0m         \u001b[1;32mreturn\u001b[0m \u001b[0mself\u001b[0m\u001b[1;33m.\u001b[0m\u001b[0m_predict_proba\u001b[0m\u001b[1;33m\u001b[0m\u001b[1;33m\u001b[0m\u001b[0m\n\u001b[0;32m    659\u001b[0m \u001b[1;33m\u001b[0m\u001b[0m\n",
      "\u001b[1;32m~\\anaconda3\\lib\\site-packages\\sklearn\\svm\\_base.py\u001b[0m in \u001b[0;36m_check_proba\u001b[1;34m(self)\u001b[0m\n\u001b[0;32m    622\u001b[0m     \u001b[1;32mdef\u001b[0m \u001b[0m_check_proba\u001b[0m\u001b[1;33m(\u001b[0m\u001b[0mself\u001b[0m\u001b[1;33m)\u001b[0m\u001b[1;33m:\u001b[0m\u001b[1;33m\u001b[0m\u001b[1;33m\u001b[0m\u001b[0m\n\u001b[0;32m    623\u001b[0m         \u001b[1;32mif\u001b[0m \u001b[1;32mnot\u001b[0m \u001b[0mself\u001b[0m\u001b[1;33m.\u001b[0m\u001b[0mprobability\u001b[0m\u001b[1;33m:\u001b[0m\u001b[1;33m\u001b[0m\u001b[1;33m\u001b[0m\u001b[0m\n\u001b[1;32m--> 624\u001b[1;33m             raise AttributeError(\"predict_proba is not available when \"\n\u001b[0m\u001b[0;32m    625\u001b[0m                                  \" probability=False\")\n\u001b[0;32m    626\u001b[0m         \u001b[1;32mif\u001b[0m \u001b[0mself\u001b[0m\u001b[1;33m.\u001b[0m\u001b[0m_impl\u001b[0m \u001b[1;32mnot\u001b[0m \u001b[1;32min\u001b[0m \u001b[1;33m(\u001b[0m\u001b[1;34m'c_svc'\u001b[0m\u001b[1;33m,\u001b[0m \u001b[1;34m'nu_svc'\u001b[0m\u001b[1;33m)\u001b[0m\u001b[1;33m:\u001b[0m\u001b[1;33m\u001b[0m\u001b[1;33m\u001b[0m\u001b[0m\n",
      "\u001b[1;31mAttributeError\u001b[0m: predict_proba is not available when  probability=False"
     ]
    }
   ],
   "source": [
    "metrics_output(svec,Ztrain,y_train,Ztest,y_test)"
   ]
  },
  {
   "cell_type": "markdown",
   "id": "dd05bb04",
   "metadata": {},
   "source": [
    "# This is the best result we were able to obtain\n",
    "Random forest using neg_log_loss scoring. A little bit better than the other random forest with wider parameter set (other one was honed to its values) and using desired scoring"
   ]
  },
  {
   "cell_type": "code",
   "execution_count": 52,
   "id": "a7e3a3c1",
   "metadata": {},
   "outputs": [],
   "source": [
    "gsrf_pipe = Pipeline([\n",
    "    ('rf', RandomForestClassifier(random_state=42))\n",
    "])\n",
    "gsrf_params={'rf__n_estimators': [150,200,250,300,350,400,450],\n",
    "             'rf__max_depth': [30,40,50],\n",
    "             'rf__min_samples_split': [3,4,5],\n",
    "             'rf__min_samples_leaf': [1],\n",
    "             'rf__max_features': ['auto']\n",
    "            }\n",
    "gsrf = GridSearchCV(gsrf_pipe,gsrf_params,cv =5,n_jobs = -1,verbose =10,scoring='neg_log_loss')"
   ]
  },
  {
   "cell_type": "code",
   "execution_count": 53,
   "id": "65318a40",
   "metadata": {},
   "outputs": [
    {
     "name": "stdout",
     "output_type": "stream",
     "text": [
      "Fitting 5 folds for each of 63 candidates, totalling 315 fits\n"
     ]
    },
    {
     "name": "stderr",
     "output_type": "stream",
     "text": [
      "[Parallel(n_jobs=-1)]: Using backend LokyBackend with 12 concurrent workers.\n",
      "[Parallel(n_jobs=-1)]: Done   1 tasks      | elapsed:   22.5s\n",
      "[Parallel(n_jobs=-1)]: Done   8 tasks      | elapsed:   30.5s\n",
      "[Parallel(n_jobs=-1)]: Done  17 tasks      | elapsed:  1.0min\n",
      "[Parallel(n_jobs=-1)]: Done  26 tasks      | elapsed:  1.6min\n",
      "[Parallel(n_jobs=-1)]: Done  37 tasks      | elapsed:  2.0min\n",
      "[Parallel(n_jobs=-1)]: Done  48 tasks      | elapsed:  2.4min\n",
      "[Parallel(n_jobs=-1)]: Done  61 tasks      | elapsed:  3.2min\n",
      "[Parallel(n_jobs=-1)]: Done  74 tasks      | elapsed:  3.7min\n",
      "[Parallel(n_jobs=-1)]: Done  89 tasks      | elapsed:  4.3min\n",
      "[Parallel(n_jobs=-1)]: Done 104 tasks      | elapsed:  5.2min\n",
      "[Parallel(n_jobs=-1)]: Done 121 tasks      | elapsed:  6.0min\n",
      "[Parallel(n_jobs=-1)]: Done 138 tasks      | elapsed:  6.9min\n",
      "[Parallel(n_jobs=-1)]: Done 157 tasks      | elapsed:  7.8min\n",
      "[Parallel(n_jobs=-1)]: Done 176 tasks      | elapsed:  8.9min\n",
      "[Parallel(n_jobs=-1)]: Done 197 tasks      | elapsed:  9.8min\n",
      "[Parallel(n_jobs=-1)]: Done 218 tasks      | elapsed: 10.9min\n",
      "[Parallel(n_jobs=-1)]: Done 241 tasks      | elapsed: 12.3min\n",
      "[Parallel(n_jobs=-1)]: Done 264 tasks      | elapsed: 13.5min\n",
      "[Parallel(n_jobs=-1)]: Done 289 tasks      | elapsed: 14.8min\n",
      "[Parallel(n_jobs=-1)]: Done 315 out of 315 | elapsed: 16.3min finished\n"
     ]
    },
    {
     "data": {
      "text/plain": [
       "GridSearchCV(cv=5,\n",
       "             estimator=Pipeline(steps=[('rf',\n",
       "                                        RandomForestClassifier(random_state=42))]),\n",
       "             n_jobs=-1,\n",
       "             param_grid={'rf__max_depth': [30, 40, 50],\n",
       "                         'rf__max_features': ['auto'],\n",
       "                         'rf__min_samples_leaf': [1],\n",
       "                         'rf__min_samples_split': [3, 4, 5],\n",
       "                         'rf__n_estimators': [150, 200, 250, 300, 350, 400,\n",
       "                                              450]},\n",
       "             scoring='neg_log_loss', verbose=10)"
      ]
     },
     "execution_count": 53,
     "metadata": {},
     "output_type": "execute_result"
    }
   ],
   "source": [
    "gsrf.fit(X_train,y_train)"
   ]
  },
  {
   "cell_type": "code",
   "execution_count": 54,
   "id": "8f89d0b2",
   "metadata": {},
   "outputs": [
    {
     "name": "stdout",
     "output_type": "stream",
     "text": [
      "Train Accuracy: -0.4372\tTest Accuracy: -0.8462\n",
      "Multiclass Loss: 0.8462\n",
      "Params  {'rf__max_depth': 30, 'rf__max_features': 'auto', 'rf__min_samples_leaf': 1, 'rf__min_samples_split': 3, 'rf__n_estimators': 400}\n"
     ]
    }
   ],
   "source": [
    "metrics_output(gsrf,X_train,y_train,X_test,y_test)"
   ]
  },
  {
   "cell_type": "code",
   "execution_count": 57,
   "id": "11d1d991",
   "metadata": {},
   "outputs": [
    {
     "name": "stdout",
     "output_type": "stream",
     "text": [
      "Train Accuracy: 0.9231\tTest Accuracy: 0.6496\n",
      "Multiclass Loss: 0.8462\n"
     ]
    }
   ],
   "source": [
    "gsrf_probs = gsrf.predict_proba(X_test)\n",
    "print(f'Train Accuracy: %0.4f\\tTest Accuracy: %0.4f' %(metrics.accuracy_score(y_train,gsrf.predict(X_train)),metrics.accuracy_score(y_test,gsrf.predict(X_test))))\n",
    "print(f'Multiclass Loss: %0.4f' % (metrics.log_loss(y_test,gsrf_probs)))"
   ]
  },
  {
   "cell_type": "code",
   "execution_count": 55,
   "id": "9baaccb1",
   "metadata": {},
   "outputs": [],
   "source": [
    "# gssv_pipe = Pipeline([\n",
    "#     ('ss',StandardScaler()),\n",
    "#     ('svc', SVC(random_state = 42))\n",
    "# ])\n",
    "\n",
    "# gssv_params = {\n",
    "#     'svc__C': np.logspace(-5,2, 8),\n",
    "#     'svc__kernel': ['linear','rbf'],\n",
    "# }\n",
    "\n",
    "# gssv = GridSearchCV(gssv_pipe,gssv_params,\n",
    "#                      scoring = 'neg_log_loss',\n",
    "#                      n_jobs = -1,\n",
    "#                      cv = 5,\n",
    "#                      verbose = 10)"
   ]
  },
  {
   "cell_type": "code",
   "execution_count": 56,
   "id": "223041b0",
   "metadata": {},
   "outputs": [
    {
     "name": "stdout",
     "output_type": "stream",
     "text": [
      "Fitting 5 folds for each of 5 candidates, totalling 25 fits\n"
     ]
    },
    {
     "name": "stderr",
     "output_type": "stream",
     "text": [
      "[Parallel(n_jobs=-1)]: Using backend LokyBackend with 12 concurrent workers.\n",
      "[Parallel(n_jobs=-1)]: Done   1 tasks      | elapsed:   57.3s\n",
      "[Parallel(n_jobs=-1)]: Done   5 out of  25 | elapsed:   59.3s remaining:  4.0min\n",
      "[Parallel(n_jobs=-1)]: Done   8 out of  25 | elapsed:   59.8s remaining:  2.1min\n",
      "[Parallel(n_jobs=-1)]: Done  11 out of  25 | elapsed:  1.0min remaining:  1.3min\n",
      "[Parallel(n_jobs=-1)]: Done  14 out of  25 | elapsed:  1.9min remaining:  1.5min\n",
      "[Parallel(n_jobs=-1)]: Done  17 out of  25 | elapsed:  2.0min remaining:   56.0s\n",
      "[Parallel(n_jobs=-1)]: Done  20 out of  25 | elapsed:  2.0min remaining:   29.8s\n",
      "[Parallel(n_jobs=-1)]: Done  23 out of  25 | elapsed:  2.0min remaining:   10.4s\n",
      "[Parallel(n_jobs=-1)]: Done  25 out of  25 | elapsed:  2.4min finished\n"
     ]
    },
    {
     "name": "stdout",
     "output_type": "stream",
     "text": [
      "Train Accuracy: 0.1833\tTest Accuracy: 0.1867\n",
      "Multiclass Loss: 1.8964\n",
      "Params  {'knn__n_neighbors': 15}\n"
     ]
    }
   ],
   "source": [
    "gsknn_pipe = Pipeline([\n",
    "    ('knn', KNeighborsClassifier())\n",
    "])\n",
    "gsknn_params = {\n",
    "    'knn__n_neighbors': [3,5,7,11,15]         \n",
    "}\n",
    "gsknn = GridSearchCV(gsknn_pipe,gsknn_params,cv =5,verbose = 10,n_jobs = -1,scoring='neg_log_loss')\n",
    "gsknn.fit(Ztrain,y_train)\n",
    "metrics_loss(gsknn,Ztrain,y_train,Ztest,y_test)"
   ]
  },
  {
   "cell_type": "code",
   "execution_count": 81,
   "id": "9504cdfe",
   "metadata": {},
   "outputs": [
    {
     "name": "stdout",
     "output_type": "stream",
     "text": [
      "Fitting 5 folds for each of 1 candidates, totalling 5 fits\n"
     ]
    },
    {
     "name": "stderr",
     "output_type": "stream",
     "text": [
      "[Parallel(n_jobs=-1)]: Using backend LokyBackend with 12 concurrent workers.\n",
      "[Parallel(n_jobs=-1)]: Done   2 out of   5 | elapsed:   15.3s remaining:   23.0s\n",
      "[Parallel(n_jobs=-1)]: Done   3 out of   5 | elapsed:   15.3s remaining:   10.2s\n",
      "[Parallel(n_jobs=-1)]: Done   5 out of   5 | elapsed:   15.4s remaining:    0.0s\n",
      "[Parallel(n_jobs=-1)]: Done   5 out of   5 | elapsed:   15.4s finished\n"
     ]
    },
    {
     "data": {
      "text/plain": [
       "GridSearchCV(cv=5,\n",
       "             estimator=Pipeline(steps=[('rf',\n",
       "                                        RandomForestClassifier(random_state=42))]),\n",
       "             n_jobs=-1,\n",
       "             param_grid={'rf__max_depth': [40], 'rf__max_features': ['auto'],\n",
       "                         'rf__min_samples_leaf': [1],\n",
       "                         'rf__min_samples_split': [5],\n",
       "                         'rf__n_estimators': [300]},\n",
       "             scoring='neg_log_loss', verbose=10)"
      ]
     },
     "execution_count": 81,
     "metadata": {},
     "output_type": "execute_result"
    }
   ],
   "source": [
    "gsrf_pipe = Pipeline([\n",
    "    ('rf', RandomForestClassifier(random_state=42))\n",
    "])\n",
    "gsrf_params={'rf__max_depth': [40], 'rf__max_features': ['auto'], \n",
    "             'rf__min_samples_leaf': [1], 'rf__min_samples_split': [5], \n",
    "             'rf__n_estimators': [300]\n",
    "            }\n",
    "gsrf = GridSearchCV(gsrf_pipe,gsrf_params,cv =5,n_jobs = -1,verbose =10,scoring='neg_log_loss')\n"
   ]
  },
  {
   "cell_type": "code",
   "execution_count": 82,
   "id": "3fe6aa7d",
   "metadata": {},
   "outputs": [
    {
     "data": {
      "text/plain": [
       "<sklearn.metrics._plot.confusion_matrix.ConfusionMatrixDisplay at 0x167b9018940>"
      ]
     },
     "execution_count": 82,
     "metadata": {},
     "output_type": "execute_result"
    },
    {
     "data": {
      "image/png": "[encoded data removed]",
      "text/plain": [
       "<Figure size 432x288 with 2 Axes>"
      ]
     },
     "metadata": {
      "needs_background": "light"
     },
     "output_type": "display_data"
    }
   ],
   "source": [
    "plot_confusion_matrix(gsrf, X_test, y_test, cmap='Blues')"
   ]
  },
  {
   "cell_type": "code",
   "execution_count": null,
   "id": "09b287dc",
   "metadata": {},
   "outputs": [],
   "source": [
    "'rf__max_depth': 40, 'rf__max_features': 'auto', 'rf__min_samples_leaf': 1, 'rf__min_samples_split': 5, 'rf__n_estimators': 300}"
   ]
  },
  {
   "cell_type": "code",
   "execution_count": 315,
   "id": "c76ae463",
   "metadata": {},
   "outputs": [
    {
     "data": {
      "text/plain": [
       "RandomForestClassifier(max_depth=40, min_samples_split=5, n_estimators=300)"
      ]
     },
     "execution_count": 315,
     "metadata": {},
     "output_type": "execute_result"
    }
   ],
   "source": [
    "rf = RandomForestClassifier(max_depth=40,min_samples_split= 5,n_estimators=300)\n",
    "rf.fit(X_train,y_train)"
   ]
  },
  {
   "cell_type": "code",
   "execution_count": 317,
   "id": "62ee9bef",
   "metadata": {},
   "outputs": [
    {
     "name": "stdout",
     "output_type": "stream",
     "text": [
      "Train Accuracy: 0.9243\tTest Accuracy: 0.6609\n",
      "Multiclass Loss: 0.8219\n"
     ]
    }
   ],
   "source": [
    "metrics_output(rf,X_train,y_train,X_test,y_test)"
   ]
  },
  {
   "cell_type": "code",
   "execution_count": 273,
   "id": "e47181f6",
   "metadata": {},
   "outputs": [],
   "source": [
    "#Load in data\n",
    "anim_test = pd.read_csv('../shelter-animal-outcomes/test.csv')"
   ]
  },
  {
   "cell_type": "code",
   "execution_count": 274,
   "id": "6a753609",
   "metadata": {},
   "outputs": [],
   "source": [
    "anim_test['has_name'] = anim_test['Name'].isnull()\n",
    "anim_test['has_name'] = anim_test['has_name'].map(lambda x: 0 if x else 1)"
   ]
  },
  {
   "cell_type": "code",
   "execution_count": 275,
   "id": "047cc2ef",
   "metadata": {},
   "outputs": [],
   "source": [
    "anim_test.drop(columns='Name',inplace = True)"
   ]
  },
  {
   "cell_type": "code",
   "execution_count": 276,
   "id": "c4b9d6bc",
   "metadata": {},
   "outputs": [],
   "source": [
    "#Change Dog/Cat to 0/1\n",
    "anim_test['AnimalType'] = anim_test['AnimalType'].map(lambda x: 1 if x == 'Dog' else 0)"
   ]
  },
  {
   "cell_type": "code",
   "execution_count": 277,
   "id": "ec35080e",
   "metadata": {},
   "outputs": [],
   "source": [
    "#Fill empties with the Unknown Category\n",
    "anim_test['SexuponOutcome'].fillna('Unknown',inplace=True)"
   ]
  },
  {
   "cell_type": "code",
   "execution_count": 278,
   "id": "c4b136eb",
   "metadata": {},
   "outputs": [],
   "source": [
    "#Split the first part into whether is spayed or neutered\n",
    "anim_test['spay'] = anim_test['SexuponOutcome'].map(lambda x: x.split()[0])"
   ]
  },
  {
   "cell_type": "code",
   "execution_count": 279,
   "id": "eebea9c0",
   "metadata": {},
   "outputs": [],
   "source": [
    "#Combine spay/neuter difference since its redundant with gender\n",
    "anim_test['spay'] = anim_test['spay'].map(lambda x: 'fixed' if x == 'Neutered' or x == 'Spayed' else x)"
   ]
  },
  {
   "cell_type": "code",
   "execution_count": 280,
   "id": "09f98ee7",
   "metadata": {},
   "outputs": [],
   "source": [
    "#dummify, want to drop unknown\n",
    "anim_test = pd.get_dummies(anim_test,columns = ['spay'])"
   ]
  },
  {
   "cell_type": "code",
   "execution_count": 281,
   "id": "b735a443",
   "metadata": {},
   "outputs": [
    {
     "data": {
      "text/html": [
       "<div>\n",
       "<style scoped>\n",
       "    .dataframe tbody tr th:only-of-type {\n",
       "        vertical-align: middle;\n",
       "    }\n",
       "\n",
       "    .dataframe tbody tr th {\n",
       "        vertical-align: top;\n",
       "    }\n",
       "\n",
       "    .dataframe thead th {\n",
       "        text-align: right;\n",
       "    }\n",
       "</style>\n",
       "<table border=\"1\" class=\"dataframe\">\n",
       "  <thead>\n",
       "    <tr style=\"text-align: right;\">\n",
       "      <th></th>\n",
       "      <th>ID</th>\n",
       "      <th>DateTime</th>\n",
       "      <th>AnimalType</th>\n",
       "      <th>SexuponOutcome</th>\n",
       "      <th>AgeuponOutcome</th>\n",
       "      <th>Breed</th>\n",
       "      <th>Color</th>\n",
       "      <th>has_name</th>\n",
       "      <th>spay_Intact</th>\n",
       "      <th>spay_fixed</th>\n",
       "    </tr>\n",
       "  </thead>\n",
       "  <tbody>\n",
       "    <tr>\n",
       "      <th>0</th>\n",
       "      <td>1</td>\n",
       "      <td>2015-10-12 12:15:00</td>\n",
       "      <td>1</td>\n",
       "      <td>Intact Female</td>\n",
       "      <td>10 months</td>\n",
       "      <td>Labrador Retriever Mix</td>\n",
       "      <td>Red/White</td>\n",
       "      <td>1</td>\n",
       "      <td>1</td>\n",
       "      <td>0</td>\n",
       "    </tr>\n",
       "    <tr>\n",
       "      <th>1</th>\n",
       "      <td>2</td>\n",
       "      <td>2014-07-26 17:59:00</td>\n",
       "      <td>1</td>\n",
       "      <td>Spayed Female</td>\n",
       "      <td>2 years</td>\n",
       "      <td>German Shepherd/Siberian Husky</td>\n",
       "      <td>Black/Tan</td>\n",
       "      <td>1</td>\n",
       "      <td>0</td>\n",
       "      <td>1</td>\n",
       "    </tr>\n",
       "    <tr>\n",
       "      <th>2</th>\n",
       "      <td>3</td>\n",
       "      <td>2016-01-13 12:20:00</td>\n",
       "      <td>0</td>\n",
       "      <td>Neutered Male</td>\n",
       "      <td>1 year</td>\n",
       "      <td>Domestic Shorthair Mix</td>\n",
       "      <td>Brown Tabby</td>\n",
       "      <td>1</td>\n",
       "      <td>0</td>\n",
       "      <td>1</td>\n",
       "    </tr>\n",
       "    <tr>\n",
       "      <th>3</th>\n",
       "      <td>4</td>\n",
       "      <td>2013-12-28 18:12:00</td>\n",
       "      <td>1</td>\n",
       "      <td>Intact Male</td>\n",
       "      <td>4 months</td>\n",
       "      <td>Collie Smooth Mix</td>\n",
       "      <td>Tricolor</td>\n",
       "      <td>1</td>\n",
       "      <td>1</td>\n",
       "      <td>0</td>\n",
       "    </tr>\n",
       "    <tr>\n",
       "      <th>4</th>\n",
       "      <td>5</td>\n",
       "      <td>2015-09-24 17:59:00</td>\n",
       "      <td>1</td>\n",
       "      <td>Neutered Male</td>\n",
       "      <td>2 years</td>\n",
       "      <td>Miniature Poodle Mix</td>\n",
       "      <td>White</td>\n",
       "      <td>1</td>\n",
       "      <td>0</td>\n",
       "      <td>1</td>\n",
       "    </tr>\n",
       "    <tr>\n",
       "      <th>...</th>\n",
       "      <td>...</td>\n",
       "      <td>...</td>\n",
       "      <td>...</td>\n",
       "      <td>...</td>\n",
       "      <td>...</td>\n",
       "      <td>...</td>\n",
       "      <td>...</td>\n",
       "      <td>...</td>\n",
       "      <td>...</td>\n",
       "      <td>...</td>\n",
       "    </tr>\n",
       "    <tr>\n",
       "      <th>11451</th>\n",
       "      <td>11452</td>\n",
       "      <td>2014-07-08 14:50:00</td>\n",
       "      <td>0</td>\n",
       "      <td>Neutered Male</td>\n",
       "      <td>2 months</td>\n",
       "      <td>Domestic Shorthair Mix</td>\n",
       "      <td>Black</td>\n",
       "      <td>0</td>\n",
       "      <td>0</td>\n",
       "      <td>1</td>\n",
       "    </tr>\n",
       "    <tr>\n",
       "      <th>11452</th>\n",
       "      <td>11453</td>\n",
       "      <td>2014-10-21 12:57:00</td>\n",
       "      <td>0</td>\n",
       "      <td>Intact Female</td>\n",
       "      <td>2 weeks</td>\n",
       "      <td>Domestic Shorthair Mix</td>\n",
       "      <td>Blue</td>\n",
       "      <td>0</td>\n",
       "      <td>1</td>\n",
       "      <td>0</td>\n",
       "    </tr>\n",
       "    <tr>\n",
       "      <th>11453</th>\n",
       "      <td>11454</td>\n",
       "      <td>2014-09-29 09:00:00</td>\n",
       "      <td>0</td>\n",
       "      <td>Intact Female</td>\n",
       "      <td>1 year</td>\n",
       "      <td>Domestic Shorthair Mix</td>\n",
       "      <td>Calico</td>\n",
       "      <td>0</td>\n",
       "      <td>1</td>\n",
       "      <td>0</td>\n",
       "    </tr>\n",
       "    <tr>\n",
       "      <th>11454</th>\n",
       "      <td>11455</td>\n",
       "      <td>2015-09-05 17:16:00</td>\n",
       "      <td>1</td>\n",
       "      <td>Neutered Male</td>\n",
       "      <td>6 years</td>\n",
       "      <td>German Shepherd Mix</td>\n",
       "      <td>Black/Tan</td>\n",
       "      <td>1</td>\n",
       "      <td>0</td>\n",
       "      <td>1</td>\n",
       "    </tr>\n",
       "    <tr>\n",
       "      <th>11455</th>\n",
       "      <td>11456</td>\n",
       "      <td>2014-07-12 18:40:00</td>\n",
       "      <td>1</td>\n",
       "      <td>Intact Male</td>\n",
       "      <td>4 years</td>\n",
       "      <td>Labrador Retriever</td>\n",
       "      <td>Cream</td>\n",
       "      <td>1</td>\n",
       "      <td>1</td>\n",
       "      <td>0</td>\n",
       "    </tr>\n",
       "  </tbody>\n",
       "</table>\n",
       "<p>11456 rows × 10 columns</p>\n",
       "</div>"
      ],
      "text/plain": [
       "          ID             DateTime  AnimalType SexuponOutcome AgeuponOutcome  \\\n",
       "0          1  2015-10-12 12:15:00           1  Intact Female      10 months   \n",
       "1          2  2014-07-26 17:59:00           1  Spayed Female        2 years   \n",
       "2          3  2016-01-13 12:20:00           0  Neutered Male         1 year   \n",
       "3          4  2013-12-28 18:12:00           1    Intact Male       4 months   \n",
       "4          5  2015-09-24 17:59:00           1  Neutered Male        2 years   \n",
       "...      ...                  ...         ...            ...            ...   \n",
       "11451  11452  2014-07-08 14:50:00           0  Neutered Male       2 months   \n",
       "11452  11453  2014-10-21 12:57:00           0  Intact Female        2 weeks   \n",
       "11453  11454  2014-09-29 09:00:00           0  Intact Female         1 year   \n",
       "11454  11455  2015-09-05 17:16:00           1  Neutered Male        6 years   \n",
       "11455  11456  2014-07-12 18:40:00           1    Intact Male        4 years   \n",
       "\n",
       "                                Breed        Color  has_name  spay_Intact  \\\n",
       "0              Labrador Retriever Mix    Red/White         1            1   \n",
       "1      German Shepherd/Siberian Husky    Black/Tan         1            0   \n",
       "2              Domestic Shorthair Mix  Brown Tabby         1            0   \n",
       "3                   Collie Smooth Mix     Tricolor         1            1   \n",
       "4                Miniature Poodle Mix        White         1            0   \n",
       "...                               ...          ...       ...          ...   \n",
       "11451          Domestic Shorthair Mix        Black         0            0   \n",
       "11452          Domestic Shorthair Mix         Blue         0            1   \n",
       "11453          Domestic Shorthair Mix       Calico         0            1   \n",
       "11454             German Shepherd Mix    Black/Tan         1            0   \n",
       "11455              Labrador Retriever        Cream         1            1   \n",
       "\n",
       "       spay_fixed  \n",
       "0               0  \n",
       "1               1  \n",
       "2               1  \n",
       "3               0  \n",
       "4               1  \n",
       "...           ...  \n",
       "11451           1  \n",
       "11452           0  \n",
       "11453           0  \n",
       "11454           1  \n",
       "11455           0  \n",
       "\n",
       "[11456 rows x 10 columns]"
      ]
     },
     "execution_count": 281,
     "metadata": {},
     "output_type": "execute_result"
    }
   ],
   "source": [
    "anim_test.drop(columns = 'spay_Unknown')"
   ]
  },
  {
   "cell_type": "code",
   "execution_count": 282,
   "id": "1924a796",
   "metadata": {},
   "outputs": [],
   "source": [
    "#This time doing the gender half, dummify and drop\n",
    "anim_test['gender'] = anim_test['SexuponOutcome'].map(lambda x: x if x == 'Unknown' else x.split()[1])"
   ]
  },
  {
   "cell_type": "code",
   "execution_count": 283,
   "id": "0470f0a0",
   "metadata": {},
   "outputs": [],
   "source": [
    "anim_test.drop(columns='SexuponOutcome',inplace = True)"
   ]
  },
  {
   "cell_type": "code",
   "execution_count": 284,
   "id": "0da72bdc",
   "metadata": {},
   "outputs": [],
   "source": [
    "anim_test = pd.get_dummies(anim_test,columns = ['gender'])"
   ]
  },
  {
   "cell_type": "code",
   "execution_count": 285,
   "id": "c9bc8ad1",
   "metadata": {},
   "outputs": [],
   "source": [
    "anim_test.drop(columns = 'gender_Unknown',inplace = True)"
   ]
  },
  {
   "cell_type": "code",
   "execution_count": 286,
   "id": "bc21e0e1",
   "metadata": {},
   "outputs": [],
   "source": [
    "anim_test.drop(columns = 'spay_Unknown',inplace = True)"
   ]
  },
  {
   "cell_type": "code",
   "execution_count": 287,
   "id": "e3591a9c",
   "metadata": {},
   "outputs": [
    {
     "data": {
      "text/html": [
       "<div>\n",
       "<style scoped>\n",
       "    .dataframe tbody tr th:only-of-type {\n",
       "        vertical-align: middle;\n",
       "    }\n",
       "\n",
       "    .dataframe tbody tr th {\n",
       "        vertical-align: top;\n",
       "    }\n",
       "\n",
       "    .dataframe thead th {\n",
       "        text-align: right;\n",
       "    }\n",
       "</style>\n",
       "<table border=\"1\" class=\"dataframe\">\n",
       "  <thead>\n",
       "    <tr style=\"text-align: right;\">\n",
       "      <th></th>\n",
       "      <th>ID</th>\n",
       "      <th>AnimalType</th>\n",
       "      <th>AgeuponOutcome</th>\n",
       "      <th>Breed</th>\n",
       "      <th>Color</th>\n",
       "      <th>has_name</th>\n",
       "      <th>spay_Intact</th>\n",
       "      <th>spay_fixed</th>\n",
       "      <th>gender_Female</th>\n",
       "      <th>gender_Male</th>\n",
       "      <th>year</th>\n",
       "      <th>month</th>\n",
       "      <th>day</th>\n",
       "      <th>hour</th>\n",
       "    </tr>\n",
       "  </thead>\n",
       "  <tbody>\n",
       "    <tr>\n",
       "      <th>0</th>\n",
       "      <td>1</td>\n",
       "      <td>1</td>\n",
       "      <td>10 months</td>\n",
       "      <td>Labrador Retriever Mix</td>\n",
       "      <td>Red/White</td>\n",
       "      <td>1</td>\n",
       "      <td>1</td>\n",
       "      <td>0</td>\n",
       "      <td>1</td>\n",
       "      <td>0</td>\n",
       "      <td>2015</td>\n",
       "      <td>10</td>\n",
       "      <td>12</td>\n",
       "      <td>12</td>\n",
       "    </tr>\n",
       "    <tr>\n",
       "      <th>1</th>\n",
       "      <td>2</td>\n",
       "      <td>1</td>\n",
       "      <td>2 years</td>\n",
       "      <td>German Shepherd/Siberian Husky</td>\n",
       "      <td>Black/Tan</td>\n",
       "      <td>1</td>\n",
       "      <td>0</td>\n",
       "      <td>1</td>\n",
       "      <td>1</td>\n",
       "      <td>0</td>\n",
       "      <td>2014</td>\n",
       "      <td>7</td>\n",
       "      <td>26</td>\n",
       "      <td>17</td>\n",
       "    </tr>\n",
       "    <tr>\n",
       "      <th>2</th>\n",
       "      <td>3</td>\n",
       "      <td>0</td>\n",
       "      <td>1 year</td>\n",
       "      <td>Domestic Shorthair Mix</td>\n",
       "      <td>Brown Tabby</td>\n",
       "      <td>1</td>\n",
       "      <td>0</td>\n",
       "      <td>1</td>\n",
       "      <td>0</td>\n",
       "      <td>1</td>\n",
       "      <td>2016</td>\n",
       "      <td>1</td>\n",
       "      <td>13</td>\n",
       "      <td>12</td>\n",
       "    </tr>\n",
       "    <tr>\n",
       "      <th>3</th>\n",
       "      <td>4</td>\n",
       "      <td>1</td>\n",
       "      <td>4 months</td>\n",
       "      <td>Collie Smooth Mix</td>\n",
       "      <td>Tricolor</td>\n",
       "      <td>1</td>\n",
       "      <td>1</td>\n",
       "      <td>0</td>\n",
       "      <td>0</td>\n",
       "      <td>1</td>\n",
       "      <td>2013</td>\n",
       "      <td>12</td>\n",
       "      <td>28</td>\n",
       "      <td>18</td>\n",
       "    </tr>\n",
       "    <tr>\n",
       "      <th>4</th>\n",
       "      <td>5</td>\n",
       "      <td>1</td>\n",
       "      <td>2 years</td>\n",
       "      <td>Miniature Poodle Mix</td>\n",
       "      <td>White</td>\n",
       "      <td>1</td>\n",
       "      <td>0</td>\n",
       "      <td>1</td>\n",
       "      <td>0</td>\n",
       "      <td>1</td>\n",
       "      <td>2015</td>\n",
       "      <td>9</td>\n",
       "      <td>24</td>\n",
       "      <td>17</td>\n",
       "    </tr>\n",
       "  </tbody>\n",
       "</table>\n",
       "</div>"
      ],
      "text/plain": [
       "   ID  AnimalType AgeuponOutcome                           Breed        Color  \\\n",
       "0   1           1      10 months          Labrador Retriever Mix    Red/White   \n",
       "1   2           1        2 years  German Shepherd/Siberian Husky    Black/Tan   \n",
       "2   3           0         1 year          Domestic Shorthair Mix  Brown Tabby   \n",
       "3   4           1       4 months               Collie Smooth Mix     Tricolor   \n",
       "4   5           1        2 years            Miniature Poodle Mix        White   \n",
       "\n",
       "   has_name  spay_Intact  spay_fixed  gender_Female  gender_Male  year  month  \\\n",
       "0         1            1           0              1            0  2015     10   \n",
       "1         1            0           1              1            0  2014      7   \n",
       "2         1            0           1              0            1  2016      1   \n",
       "3         1            1           0              0            1  2013     12   \n",
       "4         1            0           1              0            1  2015      9   \n",
       "\n",
       "   day  hour  \n",
       "0   12    12  \n",
       "1   26    17  \n",
       "2   13    12  \n",
       "3   28    18  \n",
       "4   24    17  "
      ]
     },
     "execution_count": 287,
     "metadata": {},
     "output_type": "execute_result"
    }
   ],
   "source": [
    "#make date time to year, month, day, hour\n",
    "anim_test['DateTime'] = pd.to_datetime(anim_test['DateTime'])\n",
    "anim_test['year'] = pd.DatetimeIndex(anim_test['DateTime']).year\n",
    "anim_test['month'] = pd.DatetimeIndex(anim_test['DateTime']).month\n",
    "anim_test['day'] = pd.DatetimeIndex(anim_test['DateTime']).day\n",
    "anim_test['hour'] = pd.DatetimeIndex(anim_test['DateTime']).hour\n",
    "anim_test.drop(columns = 'DateTime',inplace = True)\n",
    "anim_test.head()"
   ]
  },
  {
   "cell_type": "code",
   "execution_count": 288,
   "id": "b7edc5ca",
   "metadata": {},
   "outputs": [],
   "source": [
    "#convert age to years, make take halfway between it and next interval (eg. 1 year = 365 + 180)\n",
    "def agemath(x):\n",
    "    try:\n",
    "        if x.split()[1].startswith('day'):\n",
    "            return int(x.split()[0])\n",
    "        if x.split()[1].startswith('wee'):\n",
    "            return int(x.split()[0])*7 + 3\n",
    "        if x.split()[1].startswith('mont'):\n",
    "            return int(x.split()[0])*30 + 15\n",
    "        if x.split()[1].startswith('yea'):\n",
    "            return int(x.split()[0])*365 + 180\n",
    "    except:\n",
    "        return np.nan\n",
    "anim_test['Agedays'] = anim_test['AgeuponOutcome'].map(agemath)"
   ]
  },
  {
   "cell_type": "code",
   "execution_count": 289,
   "id": "fcee01ab",
   "metadata": {},
   "outputs": [],
   "source": [
    "#fill with average\n",
    "anim_test['Agedays'].fillna(anim_test['Agedays'].mean(),inplace = True)"
   ]
  },
  {
   "cell_type": "code",
   "execution_count": 290,
   "id": "6f1c078d",
   "metadata": {},
   "outputs": [],
   "source": [
    "#take primary anim_testal color\n",
    "anim_test['primary_col'] = anim_test['Color'].map(lambda x: x.split('/')[0].split()[0])"
   ]
  },
  {
   "cell_type": "code",
   "execution_count": 291,
   "id": "52903efa",
   "metadata": {},
   "outputs": [],
   "source": [
    "#make secondary color\n",
    "def seccol(x):\n",
    "    try:\n",
    "        return x.split('/')[1].split()[0]\n",
    "    except:\n",
    "        return 'none'\n",
    "\n",
    "anim_test['sec_col'] = anim_test['Color'].map(seccol)"
   ]
  },
  {
   "cell_type": "code",
   "execution_count": 292,
   "id": "ec62250c",
   "metadata": {},
   "outputs": [],
   "source": [
    "#make map of different pattern types\n",
    "\n",
    "anim_test['tabby'] = anim_test['Color'].map(lambda x: 1 if 'Tabby' in x else 0)\n",
    "anim_test['brindle'] = anim_test['Color'].map(lambda x: 1 if 'Brindle' in x else 0)\n",
    "anim_test['point'] = anim_test['Color'].map(lambda x: 1 if 'Point' in x else 0)\n",
    "anim_test['smoke'] = anim_test['Color'].map(lambda x: 1 if 'Smoke' in x else 0)\n",
    "anim_test['tiger'] = anim_test['Color'].map(lambda x: 1 if 'Tiger' in x else 0)\n",
    "anim_test['tick'] = anim_test['Color'].map(lambda x: 1 if 'Tick' in x else 0)\n",
    "anim_test['merle'] = anim_test['Color'].map(lambda x: 1 if 'Merle' in x else 0)\n",
    "anim_test['cream'] = anim_test['Color'].map(lambda x: 1 if 'Cream' in x else 0)\n"
   ]
  },
  {
   "cell_type": "code",
   "execution_count": null,
   "id": "b90136a0",
   "metadata": {},
   "outputs": [],
   "source": []
  },
  {
   "cell_type": "code",
   "execution_count": 293,
   "id": "f06d8210",
   "metadata": {},
   "outputs": [],
   "source": [
    "#mark mix breeds, list primary breed\n",
    "anim_test['mix'] = anim_test['Breed'].map(lambda x: 1 if 'Mix' in x else 0)\n",
    "anim_test['prim_breed'] = anim_test['Breed'].map(lambda x: x.split('/')[0].split(' Mix')[0])"
   ]
  },
  {
   "cell_type": "code",
   "execution_count": 294,
   "id": "f90366f5",
   "metadata": {},
   "outputs": [],
   "source": [
    "anim_test['red_breeds'] = anim_test['Breed'].map(lambda x: x.split(' Mix')[0] if x not in lowmult_breed else 'other')"
   ]
  },
  {
   "cell_type": "code",
   "execution_count": 295,
   "id": "18776042",
   "metadata": {},
   "outputs": [],
   "source": [
    "#dummify a lot\n",
    "anim_test = pd.get_dummies(anim_test,columns=['prim_breed'],drop_first = True)"
   ]
  },
  {
   "cell_type": "code",
   "execution_count": 296,
   "id": "bda399a3",
   "metadata": {},
   "outputs": [],
   "source": [
    "anim_test = pd.get_dummies(anim_test,columns=['red_breeds'],drop_first = True)"
   ]
  },
  {
   "cell_type": "code",
   "execution_count": 297,
   "id": "c66cb41f",
   "metadata": {},
   "outputs": [],
   "source": [
    "anim_test = pd.get_dummies(anim_test,columns=['primary_col'],drop_first = True)"
   ]
  },
  {
   "cell_type": "code",
   "execution_count": 298,
   "id": "6a0db7b2",
   "metadata": {},
   "outputs": [],
   "source": [
    "anim_test = pd.get_dummies(anim_test,columns=['sec_col'],drop_first = True)"
   ]
  },
  {
   "cell_type": "code",
   "execution_count": 299,
   "id": "632b50f6",
   "metadata": {},
   "outputs": [
    {
     "data": {
      "text/html": [
       "<div>\n",
       "<style scoped>\n",
       "    .dataframe tbody tr th:only-of-type {\n",
       "        vertical-align: middle;\n",
       "    }\n",
       "\n",
       "    .dataframe tbody tr th {\n",
       "        vertical-align: top;\n",
       "    }\n",
       "\n",
       "    .dataframe thead th {\n",
       "        text-align: right;\n",
       "    }\n",
       "</style>\n",
       "<table border=\"1\" class=\"dataframe\">\n",
       "  <thead>\n",
       "    <tr style=\"text-align: right;\">\n",
       "      <th></th>\n",
       "      <th>ID</th>\n",
       "      <th>AnimalType</th>\n",
       "      <th>AgeuponOutcome</th>\n",
       "      <th>Breed</th>\n",
       "      <th>Color</th>\n",
       "      <th>has_name</th>\n",
       "      <th>spay_Intact</th>\n",
       "      <th>spay_fixed</th>\n",
       "      <th>gender_Female</th>\n",
       "      <th>gender_Male</th>\n",
       "      <th>...</th>\n",
       "      <th>sec_col_Orange</th>\n",
       "      <th>sec_col_Red</th>\n",
       "      <th>sec_col_Seal</th>\n",
       "      <th>sec_col_Silver</th>\n",
       "      <th>sec_col_Tan</th>\n",
       "      <th>sec_col_Tortie</th>\n",
       "      <th>sec_col_Tricolor</th>\n",
       "      <th>sec_col_White</th>\n",
       "      <th>sec_col_Yellow</th>\n",
       "      <th>sec_col_none</th>\n",
       "    </tr>\n",
       "  </thead>\n",
       "  <tbody>\n",
       "    <tr>\n",
       "      <th>0</th>\n",
       "      <td>1</td>\n",
       "      <td>1</td>\n",
       "      <td>10 months</td>\n",
       "      <td>Labrador Retriever Mix</td>\n",
       "      <td>Red/White</td>\n",
       "      <td>1</td>\n",
       "      <td>1</td>\n",
       "      <td>0</td>\n",
       "      <td>1</td>\n",
       "      <td>0</td>\n",
       "      <td>...</td>\n",
       "      <td>0</td>\n",
       "      <td>0</td>\n",
       "      <td>0</td>\n",
       "      <td>0</td>\n",
       "      <td>0</td>\n",
       "      <td>0</td>\n",
       "      <td>0</td>\n",
       "      <td>1</td>\n",
       "      <td>0</td>\n",
       "      <td>0</td>\n",
       "    </tr>\n",
       "    <tr>\n",
       "      <th>1</th>\n",
       "      <td>2</td>\n",
       "      <td>1</td>\n",
       "      <td>2 years</td>\n",
       "      <td>German Shepherd/Siberian Husky</td>\n",
       "      <td>Black/Tan</td>\n",
       "      <td>1</td>\n",
       "      <td>0</td>\n",
       "      <td>1</td>\n",
       "      <td>1</td>\n",
       "      <td>0</td>\n",
       "      <td>...</td>\n",
       "      <td>0</td>\n",
       "      <td>0</td>\n",
       "      <td>0</td>\n",
       "      <td>0</td>\n",
       "      <td>1</td>\n",
       "      <td>0</td>\n",
       "      <td>0</td>\n",
       "      <td>0</td>\n",
       "      <td>0</td>\n",
       "      <td>0</td>\n",
       "    </tr>\n",
       "    <tr>\n",
       "      <th>2</th>\n",
       "      <td>3</td>\n",
       "      <td>0</td>\n",
       "      <td>1 year</td>\n",
       "      <td>Domestic Shorthair Mix</td>\n",
       "      <td>Brown Tabby</td>\n",
       "      <td>1</td>\n",
       "      <td>0</td>\n",
       "      <td>1</td>\n",
       "      <td>0</td>\n",
       "      <td>1</td>\n",
       "      <td>...</td>\n",
       "      <td>0</td>\n",
       "      <td>0</td>\n",
       "      <td>0</td>\n",
       "      <td>0</td>\n",
       "      <td>0</td>\n",
       "      <td>0</td>\n",
       "      <td>0</td>\n",
       "      <td>0</td>\n",
       "      <td>0</td>\n",
       "      <td>1</td>\n",
       "    </tr>\n",
       "    <tr>\n",
       "      <th>3</th>\n",
       "      <td>4</td>\n",
       "      <td>1</td>\n",
       "      <td>4 months</td>\n",
       "      <td>Collie Smooth Mix</td>\n",
       "      <td>Tricolor</td>\n",
       "      <td>1</td>\n",
       "      <td>1</td>\n",
       "      <td>0</td>\n",
       "      <td>0</td>\n",
       "      <td>1</td>\n",
       "      <td>...</td>\n",
       "      <td>0</td>\n",
       "      <td>0</td>\n",
       "      <td>0</td>\n",
       "      <td>0</td>\n",
       "      <td>0</td>\n",
       "      <td>0</td>\n",
       "      <td>0</td>\n",
       "      <td>0</td>\n",
       "      <td>0</td>\n",
       "      <td>1</td>\n",
       "    </tr>\n",
       "    <tr>\n",
       "      <th>4</th>\n",
       "      <td>5</td>\n",
       "      <td>1</td>\n",
       "      <td>2 years</td>\n",
       "      <td>Miniature Poodle Mix</td>\n",
       "      <td>White</td>\n",
       "      <td>1</td>\n",
       "      <td>0</td>\n",
       "      <td>1</td>\n",
       "      <td>0</td>\n",
       "      <td>1</td>\n",
       "      <td>...</td>\n",
       "      <td>0</td>\n",
       "      <td>0</td>\n",
       "      <td>0</td>\n",
       "      <td>0</td>\n",
       "      <td>0</td>\n",
       "      <td>0</td>\n",
       "      <td>0</td>\n",
       "      <td>0</td>\n",
       "      <td>0</td>\n",
       "      <td>1</td>\n",
       "    </tr>\n",
       "  </tbody>\n",
       "</table>\n",
       "<p>5 rows × 1071 columns</p>\n",
       "</div>"
      ],
      "text/plain": [
       "   ID  AnimalType AgeuponOutcome                           Breed        Color  \\\n",
       "0   1           1      10 months          Labrador Retriever Mix    Red/White   \n",
       "1   2           1        2 years  German Shepherd/Siberian Husky    Black/Tan   \n",
       "2   3           0         1 year          Domestic Shorthair Mix  Brown Tabby   \n",
       "3   4           1       4 months               Collie Smooth Mix     Tricolor   \n",
       "4   5           1        2 years            Miniature Poodle Mix        White   \n",
       "\n",
       "   has_name  spay_Intact  spay_fixed  gender_Female  gender_Male  ...  \\\n",
       "0         1            1           0              1            0  ...   \n",
       "1         1            0           1              1            0  ...   \n",
       "2         1            0           1              0            1  ...   \n",
       "3         1            1           0              0            1  ...   \n",
       "4         1            0           1              0            1  ...   \n",
       "\n",
       "   sec_col_Orange  sec_col_Red  sec_col_Seal  sec_col_Silver  sec_col_Tan  \\\n",
       "0               0            0             0               0            0   \n",
       "1               0            0             0               0            1   \n",
       "2               0            0             0               0            0   \n",
       "3               0            0             0               0            0   \n",
       "4               0            0             0               0            0   \n",
       "\n",
       "   sec_col_Tortie  sec_col_Tricolor  sec_col_White  sec_col_Yellow  \\\n",
       "0               0                 0              1               0   \n",
       "1               0                 0              0               0   \n",
       "2               0                 0              0               0   \n",
       "3               0                 0              0               0   \n",
       "4               0                 0              0               0   \n",
       "\n",
       "   sec_col_none  \n",
       "0             0  \n",
       "1             0  \n",
       "2             1  \n",
       "3             1  \n",
       "4             1  \n",
       "\n",
       "[5 rows x 1071 columns]"
      ]
     },
     "execution_count": 299,
     "metadata": {},
     "output_type": "execute_result"
    }
   ],
   "source": [
    "anim_test.head()"
   ]
  },
  {
   "cell_type": "code",
   "execution_count": 303,
   "id": "c2b35ffe",
   "metadata": {},
   "outputs": [
    {
     "name": "stderr",
     "output_type": "stream",
     "text": [
      "<ipython-input-303-47b835f4442d>:5: SettingWithCopyWarning: \n",
      "A value is trying to be set on a copy of a slice from a DataFrame.\n",
      "Try using .loc[row_indexer,col_indexer] = value instead\n",
      "\n",
      "See the caveats in the documentation: https://pandas.pydata.org/pandas-docs/stable/user_guide/indexing.html#returning-a-view-versus-a-copy\n",
      "  X[col] = anim_test[col]\n",
      "<ipython-input-303-47b835f4442d>:7: SettingWithCopyWarning: \n",
      "A value is trying to be set on a copy of a slice from a DataFrame.\n",
      "Try using .loc[row_indexer,col_indexer] = value instead\n",
      "\n",
      "See the caveats in the documentation: https://pandas.pydata.org/pandas-docs/stable/user_guide/indexing.html#returning-a-view-versus-a-copy\n",
      "  X[col] = 0\n",
      "<ipython-input-303-47b835f4442d>:5: PerformanceWarning: DataFrame is highly fragmented.  This is usually the result of calling `frame.insert` many times, which has poor performance.  Consider using pd.concat instead.  To get a de-fragmented frame, use `newframe = frame.copy()`\n",
      "  X[col] = anim_test[col]\n",
      "<ipython-input-303-47b835f4442d>:7: PerformanceWarning: DataFrame is highly fragmented.  This is usually the result of calling `frame.insert` many times, which has poor performance.  Consider using pd.concat instead.  To get a de-fragmented frame, use `newframe = frame.copy()`\n",
      "  X[col] = 0\n"
     ]
    },
    {
     "data": {
      "text/plain": [
       "(11456, 290)"
      ]
     },
     "execution_count": 303,
     "metadata": {},
     "output_type": "execute_result"
    }
   ],
   "source": [
    "#X = anim_test.drop(columns=['ID','AgeuponOutcome','Breed','Color']+red_breed_list)\n",
    "X = anim_test[['AnimalType']]\n",
    "for col in X_train.columns:\n",
    "    try:\n",
    "        X[col] = anim_test[col]\n",
    "    except:\n",
    "        X[col] = 0\n",
    "X.shape"
   ]
  },
  {
   "cell_type": "code",
   "execution_count": 304,
   "id": "ab7a638c",
   "metadata": {},
   "outputs": [
    {
     "data": {
      "text/html": [
       "<div>\n",
       "<style scoped>\n",
       "    .dataframe tbody tr th:only-of-type {\n",
       "        vertical-align: middle;\n",
       "    }\n",
       "\n",
       "    .dataframe tbody tr th {\n",
       "        vertical-align: top;\n",
       "    }\n",
       "\n",
       "    .dataframe thead th {\n",
       "        text-align: right;\n",
       "    }\n",
       "</style>\n",
       "<table border=\"1\" class=\"dataframe\">\n",
       "  <thead>\n",
       "    <tr style=\"text-align: right;\">\n",
       "      <th></th>\n",
       "      <th>AnimalType</th>\n",
       "      <th>has_name</th>\n",
       "      <th>spay_Intact</th>\n",
       "      <th>spay_fixed</th>\n",
       "      <th>gender_Female</th>\n",
       "      <th>gender_Male</th>\n",
       "      <th>year</th>\n",
       "      <th>month</th>\n",
       "      <th>day</th>\n",
       "      <th>hour</th>\n",
       "      <th>...</th>\n",
       "      <th>sec_col_Pink</th>\n",
       "      <th>sec_col_Red</th>\n",
       "      <th>sec_col_Seal</th>\n",
       "      <th>sec_col_Silver</th>\n",
       "      <th>sec_col_Tan</th>\n",
       "      <th>sec_col_Tortie</th>\n",
       "      <th>sec_col_Tricolor</th>\n",
       "      <th>sec_col_White</th>\n",
       "      <th>sec_col_Yellow</th>\n",
       "      <th>sec_col_none</th>\n",
       "    </tr>\n",
       "  </thead>\n",
       "  <tbody>\n",
       "    <tr>\n",
       "      <th>0</th>\n",
       "      <td>1</td>\n",
       "      <td>1</td>\n",
       "      <td>1</td>\n",
       "      <td>0</td>\n",
       "      <td>1</td>\n",
       "      <td>0</td>\n",
       "      <td>2015</td>\n",
       "      <td>10</td>\n",
       "      <td>12</td>\n",
       "      <td>12</td>\n",
       "      <td>...</td>\n",
       "      <td>0</td>\n",
       "      <td>0</td>\n",
       "      <td>0</td>\n",
       "      <td>0</td>\n",
       "      <td>0</td>\n",
       "      <td>0</td>\n",
       "      <td>0</td>\n",
       "      <td>1</td>\n",
       "      <td>0</td>\n",
       "      <td>0</td>\n",
       "    </tr>\n",
       "    <tr>\n",
       "      <th>1</th>\n",
       "      <td>1</td>\n",
       "      <td>1</td>\n",
       "      <td>0</td>\n",
       "      <td>1</td>\n",
       "      <td>1</td>\n",
       "      <td>0</td>\n",
       "      <td>2014</td>\n",
       "      <td>7</td>\n",
       "      <td>26</td>\n",
       "      <td>17</td>\n",
       "      <td>...</td>\n",
       "      <td>0</td>\n",
       "      <td>0</td>\n",
       "      <td>0</td>\n",
       "      <td>0</td>\n",
       "      <td>1</td>\n",
       "      <td>0</td>\n",
       "      <td>0</td>\n",
       "      <td>0</td>\n",
       "      <td>0</td>\n",
       "      <td>0</td>\n",
       "    </tr>\n",
       "    <tr>\n",
       "      <th>2</th>\n",
       "      <td>0</td>\n",
       "      <td>1</td>\n",
       "      <td>0</td>\n",
       "      <td>1</td>\n",
       "      <td>0</td>\n",
       "      <td>1</td>\n",
       "      <td>2016</td>\n",
       "      <td>1</td>\n",
       "      <td>13</td>\n",
       "      <td>12</td>\n",
       "      <td>...</td>\n",
       "      <td>0</td>\n",
       "      <td>0</td>\n",
       "      <td>0</td>\n",
       "      <td>0</td>\n",
       "      <td>0</td>\n",
       "      <td>0</td>\n",
       "      <td>0</td>\n",
       "      <td>0</td>\n",
       "      <td>0</td>\n",
       "      <td>1</td>\n",
       "    </tr>\n",
       "    <tr>\n",
       "      <th>3</th>\n",
       "      <td>1</td>\n",
       "      <td>1</td>\n",
       "      <td>1</td>\n",
       "      <td>0</td>\n",
       "      <td>0</td>\n",
       "      <td>1</td>\n",
       "      <td>2013</td>\n",
       "      <td>12</td>\n",
       "      <td>28</td>\n",
       "      <td>18</td>\n",
       "      <td>...</td>\n",
       "      <td>0</td>\n",
       "      <td>0</td>\n",
       "      <td>0</td>\n",
       "      <td>0</td>\n",
       "      <td>0</td>\n",
       "      <td>0</td>\n",
       "      <td>0</td>\n",
       "      <td>0</td>\n",
       "      <td>0</td>\n",
       "      <td>1</td>\n",
       "    </tr>\n",
       "    <tr>\n",
       "      <th>4</th>\n",
       "      <td>1</td>\n",
       "      <td>1</td>\n",
       "      <td>0</td>\n",
       "      <td>1</td>\n",
       "      <td>0</td>\n",
       "      <td>1</td>\n",
       "      <td>2015</td>\n",
       "      <td>9</td>\n",
       "      <td>24</td>\n",
       "      <td>17</td>\n",
       "      <td>...</td>\n",
       "      <td>0</td>\n",
       "      <td>0</td>\n",
       "      <td>0</td>\n",
       "      <td>0</td>\n",
       "      <td>0</td>\n",
       "      <td>0</td>\n",
       "      <td>0</td>\n",
       "      <td>0</td>\n",
       "      <td>0</td>\n",
       "      <td>1</td>\n",
       "    </tr>\n",
       "  </tbody>\n",
       "</table>\n",
       "<p>5 rows × 290 columns</p>\n",
       "</div>"
      ],
      "text/plain": [
       "   AnimalType  has_name  spay_Intact  spay_fixed  gender_Female  gender_Male  \\\n",
       "0           1         1            1           0              1            0   \n",
       "1           1         1            0           1              1            0   \n",
       "2           0         1            0           1              0            1   \n",
       "3           1         1            1           0              0            1   \n",
       "4           1         1            0           1              0            1   \n",
       "\n",
       "   year  month  day  hour  ...  sec_col_Pink  sec_col_Red  sec_col_Seal  \\\n",
       "0  2015     10   12    12  ...             0            0             0   \n",
       "1  2014      7   26    17  ...             0            0             0   \n",
       "2  2016      1   13    12  ...             0            0             0   \n",
       "3  2013     12   28    18  ...             0            0             0   \n",
       "4  2015      9   24    17  ...             0            0             0   \n",
       "\n",
       "   sec_col_Silver  sec_col_Tan  sec_col_Tortie  sec_col_Tricolor  \\\n",
       "0               0            0               0                 0   \n",
       "1               0            1               0                 0   \n",
       "2               0            0               0                 0   \n",
       "3               0            0               0                 0   \n",
       "4               0            0               0                 0   \n",
       "\n",
       "   sec_col_White  sec_col_Yellow  sec_col_none  \n",
       "0              1               0             0  \n",
       "1              0               0             0  \n",
       "2              0               0             1  \n",
       "3              0               0             1  \n",
       "4              0               0             1  \n",
       "\n",
       "[5 rows x 290 columns]"
      ]
     },
     "execution_count": 304,
     "metadata": {},
     "output_type": "execute_result"
    }
   ],
   "source": [
    "X.head()"
   ]
  },
  {
   "cell_type": "code",
   "execution_count": 305,
   "id": "4d31f209",
   "metadata": {},
   "outputs": [
    {
     "data": {
      "text/html": [
       "<div>\n",
       "<style scoped>\n",
       "    .dataframe tbody tr th:only-of-type {\n",
       "        vertical-align: middle;\n",
       "    }\n",
       "\n",
       "    .dataframe tbody tr th {\n",
       "        vertical-align: top;\n",
       "    }\n",
       "\n",
       "    .dataframe thead th {\n",
       "        text-align: right;\n",
       "    }\n",
       "</style>\n",
       "<table border=\"1\" class=\"dataframe\">\n",
       "  <thead>\n",
       "    <tr style=\"text-align: right;\">\n",
       "      <th></th>\n",
       "      <th>AnimalType</th>\n",
       "      <th>has_name</th>\n",
       "      <th>spay_Intact</th>\n",
       "      <th>spay_fixed</th>\n",
       "      <th>gender_Female</th>\n",
       "      <th>gender_Male</th>\n",
       "      <th>year</th>\n",
       "      <th>month</th>\n",
       "      <th>day</th>\n",
       "      <th>hour</th>\n",
       "      <th>...</th>\n",
       "      <th>sec_col_Pink</th>\n",
       "      <th>sec_col_Red</th>\n",
       "      <th>sec_col_Seal</th>\n",
       "      <th>sec_col_Silver</th>\n",
       "      <th>sec_col_Tan</th>\n",
       "      <th>sec_col_Tortie</th>\n",
       "      <th>sec_col_Tricolor</th>\n",
       "      <th>sec_col_White</th>\n",
       "      <th>sec_col_Yellow</th>\n",
       "      <th>sec_col_none</th>\n",
       "    </tr>\n",
       "  </thead>\n",
       "  <tbody>\n",
       "    <tr>\n",
       "      <th>4490</th>\n",
       "      <td>0</td>\n",
       "      <td>1</td>\n",
       "      <td>0</td>\n",
       "      <td>1</td>\n",
       "      <td>0</td>\n",
       "      <td>1</td>\n",
       "      <td>2014</td>\n",
       "      <td>10</td>\n",
       "      <td>1</td>\n",
       "      <td>15</td>\n",
       "      <td>...</td>\n",
       "      <td>0</td>\n",
       "      <td>0</td>\n",
       "      <td>0</td>\n",
       "      <td>0</td>\n",
       "      <td>0</td>\n",
       "      <td>0</td>\n",
       "      <td>0</td>\n",
       "      <td>1</td>\n",
       "      <td>0</td>\n",
       "      <td>0</td>\n",
       "    </tr>\n",
       "    <tr>\n",
       "      <th>15829</th>\n",
       "      <td>0</td>\n",
       "      <td>0</td>\n",
       "      <td>0</td>\n",
       "      <td>1</td>\n",
       "      <td>1</td>\n",
       "      <td>0</td>\n",
       "      <td>2015</td>\n",
       "      <td>1</td>\n",
       "      <td>6</td>\n",
       "      <td>12</td>\n",
       "      <td>...</td>\n",
       "      <td>0</td>\n",
       "      <td>0</td>\n",
       "      <td>0</td>\n",
       "      <td>0</td>\n",
       "      <td>0</td>\n",
       "      <td>0</td>\n",
       "      <td>0</td>\n",
       "      <td>0</td>\n",
       "      <td>0</td>\n",
       "      <td>0</td>\n",
       "    </tr>\n",
       "    <tr>\n",
       "      <th>18441</th>\n",
       "      <td>1</td>\n",
       "      <td>1</td>\n",
       "      <td>0</td>\n",
       "      <td>1</td>\n",
       "      <td>0</td>\n",
       "      <td>1</td>\n",
       "      <td>2015</td>\n",
       "      <td>12</td>\n",
       "      <td>20</td>\n",
       "      <td>15</td>\n",
       "      <td>...</td>\n",
       "      <td>0</td>\n",
       "      <td>0</td>\n",
       "      <td>0</td>\n",
       "      <td>0</td>\n",
       "      <td>0</td>\n",
       "      <td>0</td>\n",
       "      <td>0</td>\n",
       "      <td>0</td>\n",
       "      <td>0</td>\n",
       "      <td>0</td>\n",
       "    </tr>\n",
       "    <tr>\n",
       "      <th>26562</th>\n",
       "      <td>1</td>\n",
       "      <td>0</td>\n",
       "      <td>0</td>\n",
       "      <td>1</td>\n",
       "      <td>1</td>\n",
       "      <td>0</td>\n",
       "      <td>2014</td>\n",
       "      <td>7</td>\n",
       "      <td>22</td>\n",
       "      <td>18</td>\n",
       "      <td>...</td>\n",
       "      <td>0</td>\n",
       "      <td>0</td>\n",
       "      <td>0</td>\n",
       "      <td>0</td>\n",
       "      <td>0</td>\n",
       "      <td>0</td>\n",
       "      <td>0</td>\n",
       "      <td>0</td>\n",
       "      <td>0</td>\n",
       "      <td>1</td>\n",
       "    </tr>\n",
       "    <tr>\n",
       "      <th>6880</th>\n",
       "      <td>0</td>\n",
       "      <td>1</td>\n",
       "      <td>0</td>\n",
       "      <td>1</td>\n",
       "      <td>1</td>\n",
       "      <td>0</td>\n",
       "      <td>2014</td>\n",
       "      <td>2</td>\n",
       "      <td>4</td>\n",
       "      <td>14</td>\n",
       "      <td>...</td>\n",
       "      <td>0</td>\n",
       "      <td>0</td>\n",
       "      <td>0</td>\n",
       "      <td>0</td>\n",
       "      <td>0</td>\n",
       "      <td>0</td>\n",
       "      <td>0</td>\n",
       "      <td>1</td>\n",
       "      <td>0</td>\n",
       "      <td>0</td>\n",
       "    </tr>\n",
       "  </tbody>\n",
       "</table>\n",
       "<p>5 rows × 290 columns</p>\n",
       "</div>"
      ],
      "text/plain": [
       "       AnimalType  has_name  spay_Intact  spay_fixed  gender_Female  \\\n",
       "4490            0         1            0           1              0   \n",
       "15829           0         0            0           1              1   \n",
       "18441           1         1            0           1              0   \n",
       "26562           1         0            0           1              1   \n",
       "6880            0         1            0           1              1   \n",
       "\n",
       "       gender_Male  year  month  day  hour  ...  sec_col_Pink  sec_col_Red  \\\n",
       "4490             1  2014     10    1    15  ...             0            0   \n",
       "15829            0  2015      1    6    12  ...             0            0   \n",
       "18441            1  2015     12   20    15  ...             0            0   \n",
       "26562            0  2014      7   22    18  ...             0            0   \n",
       "6880             0  2014      2    4    14  ...             0            0   \n",
       "\n",
       "       sec_col_Seal  sec_col_Silver  sec_col_Tan  sec_col_Tortie  \\\n",
       "4490              0               0            0               0   \n",
       "15829             0               0            0               0   \n",
       "18441             0               0            0               0   \n",
       "26562             0               0            0               0   \n",
       "6880              0               0            0               0   \n",
       "\n",
       "       sec_col_Tricolor  sec_col_White  sec_col_Yellow  sec_col_none  \n",
       "4490                  0              1               0             0  \n",
       "15829                 0              0               0             0  \n",
       "18441                 0              0               0             0  \n",
       "26562                 0              0               0             1  \n",
       "6880                  0              1               0             0  \n",
       "\n",
       "[5 rows x 290 columns]"
      ]
     },
     "execution_count": 305,
     "metadata": {},
     "output_type": "execute_result"
    }
   ],
   "source": [
    "X_train.head()"
   ]
  },
  {
   "cell_type": "code",
   "execution_count": 319,
   "id": "e49657c4",
   "metadata": {},
   "outputs": [
    {
     "data": {
      "text/plain": [
       "array([[1.07155517e-01, 2.52941176e-03, 5.11551519e-02, 2.16400949e-01,\n",
       "        6.22758970e-01],\n",
       "       [5.46142246e-01, 2.44392134e-04, 2.80554613e-02, 3.43083023e-01,\n",
       "        8.24748771e-02],\n",
       "       [5.66319634e-01, 0.00000000e+00, 1.08333625e-02, 7.80500987e-02,\n",
       "        3.44796905e-01],\n",
       "       ...,\n",
       "       [1.11878307e-02, 3.33333333e-03, 7.01479497e-02, 1.48809524e-05,\n",
       "        9.15316005e-01],\n",
       "       [3.35654881e-01, 4.64439151e-04, 2.17915064e-02, 5.72611428e-01,\n",
       "        6.94777459e-02],\n",
       "       [8.04268190e-02, 6.38095238e-03, 2.90160511e-01, 3.52254114e-01,\n",
       "        2.70777604e-01]])"
      ]
     },
     "execution_count": 319,
     "metadata": {},
     "output_type": "execute_result"
    }
   ],
   "source": [
    "preds = rf.predict_proba(X)\n",
    "preds"
   ]
  },
  {
   "cell_type": "code",
   "execution_count": 325,
   "id": "806eabb6",
   "metadata": {},
   "outputs": [
    {
     "data": {
      "text/html": [
       "<div>\n",
       "<style scoped>\n",
       "    .dataframe tbody tr th:only-of-type {\n",
       "        vertical-align: middle;\n",
       "    }\n",
       "\n",
       "    .dataframe tbody tr th {\n",
       "        vertical-align: top;\n",
       "    }\n",
       "\n",
       "    .dataframe thead th {\n",
       "        text-align: right;\n",
       "    }\n",
       "</style>\n",
       "<table border=\"1\" class=\"dataframe\">\n",
       "  <thead>\n",
       "    <tr style=\"text-align: right;\">\n",
       "      <th></th>\n",
       "      <th>ID</th>\n",
       "    </tr>\n",
       "  </thead>\n",
       "  <tbody>\n",
       "    <tr>\n",
       "      <th>0</th>\n",
       "      <td>1</td>\n",
       "    </tr>\n",
       "    <tr>\n",
       "      <th>1</th>\n",
       "      <td>2</td>\n",
       "    </tr>\n",
       "    <tr>\n",
       "      <th>2</th>\n",
       "      <td>3</td>\n",
       "    </tr>\n",
       "    <tr>\n",
       "      <th>3</th>\n",
       "      <td>4</td>\n",
       "    </tr>\n",
       "    <tr>\n",
       "      <th>4</th>\n",
       "      <td>5</td>\n",
       "    </tr>\n",
       "  </tbody>\n",
       "</table>\n",
       "</div>"
      ],
      "text/plain": [
       "   ID\n",
       "0   1\n",
       "1   2\n",
       "2   3\n",
       "3   4\n",
       "4   5"
      ]
     },
     "execution_count": 325,
     "metadata": {},
     "output_type": "execute_result"
    }
   ],
   "source": [
    "results = pd.DataFrame(list(range(1,X.shape[0]+1)),columns=['ID'])\n",
    "results.head()"
   ]
  },
  {
   "cell_type": "code",
   "execution_count": 326,
   "id": "79d66cff",
   "metadata": {},
   "outputs": [
    {
     "data": {
      "text/html": [
       "<div>\n",
       "<style scoped>\n",
       "    .dataframe tbody tr th:only-of-type {\n",
       "        vertical-align: middle;\n",
       "    }\n",
       "\n",
       "    .dataframe tbody tr th {\n",
       "        vertical-align: top;\n",
       "    }\n",
       "\n",
       "    .dataframe thead th {\n",
       "        text-align: right;\n",
       "    }\n",
       "</style>\n",
       "<table border=\"1\" class=\"dataframe\">\n",
       "  <thead>\n",
       "    <tr style=\"text-align: right;\">\n",
       "      <th></th>\n",
       "      <th>ID</th>\n",
       "      <th>Adoption</th>\n",
       "      <th>Died</th>\n",
       "      <th>Euthanasia</th>\n",
       "      <th>Return_to_owner</th>\n",
       "      <th>Transfer</th>\n",
       "    </tr>\n",
       "  </thead>\n",
       "  <tbody>\n",
       "    <tr>\n",
       "      <th>0</th>\n",
       "      <td>1</td>\n",
       "      <td>0.107156</td>\n",
       "      <td>0.002529</td>\n",
       "      <td>0.051155</td>\n",
       "      <td>0.216401</td>\n",
       "      <td>0.622759</td>\n",
       "    </tr>\n",
       "    <tr>\n",
       "      <th>1</th>\n",
       "      <td>2</td>\n",
       "      <td>0.546142</td>\n",
       "      <td>0.000244</td>\n",
       "      <td>0.028055</td>\n",
       "      <td>0.343083</td>\n",
       "      <td>0.082475</td>\n",
       "    </tr>\n",
       "    <tr>\n",
       "      <th>2</th>\n",
       "      <td>3</td>\n",
       "      <td>0.566320</td>\n",
       "      <td>0.000000</td>\n",
       "      <td>0.010833</td>\n",
       "      <td>0.078050</td>\n",
       "      <td>0.344797</td>\n",
       "    </tr>\n",
       "    <tr>\n",
       "      <th>3</th>\n",
       "      <td>4</td>\n",
       "      <td>0.119975</td>\n",
       "      <td>0.011115</td>\n",
       "      <td>0.061651</td>\n",
       "      <td>0.210874</td>\n",
       "      <td>0.596385</td>\n",
       "    </tr>\n",
       "    <tr>\n",
       "      <th>4</th>\n",
       "      <td>5</td>\n",
       "      <td>0.505035</td>\n",
       "      <td>0.000487</td>\n",
       "      <td>0.005849</td>\n",
       "      <td>0.383137</td>\n",
       "      <td>0.105493</td>\n",
       "    </tr>\n",
       "  </tbody>\n",
       "</table>\n",
       "</div>"
      ],
      "text/plain": [
       "   ID  Adoption      Died  Euthanasia  Return_to_owner  Transfer\n",
       "0   1  0.107156  0.002529    0.051155         0.216401  0.622759\n",
       "1   2  0.546142  0.000244    0.028055         0.343083  0.082475\n",
       "2   3  0.566320  0.000000    0.010833         0.078050  0.344797\n",
       "3   4  0.119975  0.011115    0.061651         0.210874  0.596385\n",
       "4   5  0.505035  0.000487    0.005849         0.383137  0.105493"
      ]
     },
     "execution_count": 326,
     "metadata": {},
     "output_type": "execute_result"
    }
   ],
   "source": [
    "results = pd.concat([results,pd.DataFrame(preds,columns=['Adoption','Died','Euthanasia','Return_to_owner','Transfer'])],axis=1)\n",
    "results.head()"
   ]
  },
  {
   "cell_type": "code",
   "execution_count": null,
   "id": "a05a27c8",
   "metadata": {},
   "outputs": [],
   "source": []
  },
  {
   "cell_type": "code",
   "execution_count": 327,
   "id": "aac3a2ec",
   "metadata": {},
   "outputs": [],
   "source": [
    "results.to_csv('../data_out/submission.csv',index=False)"
   ]
  },
  {
   "cell_type": "code",
   "execution_count": null,
   "id": "f6830929",
   "metadata": {},
   "outputs": [],
   "source": []
  }
 ],
 "metadata": {
  "kernelspec": {
   "display_name": "Python 3",
   "language": "python",
   "name": "python3"
  },
  "language_info": {
   "codemirror_mode": {
    "name": "ipython",
    "version": 3
   },
   "file_extension": ".py",
   "mimetype": "text/x-python",
   "name": "python",
   "nbconvert_exporter": "python",
   "pygments_lexer": "ipython3",
   "version": "3.8.8"
  }
 },
 "nbformat": 4,
 "nbformat_minor": 5
}
