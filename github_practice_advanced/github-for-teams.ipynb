{
 "cells": [
  {
   "cell_type": "markdown",
   "metadata": {
    "slideshow": {
     "slide_type": "notes"
    }
   },
   "source": [
    "> **Jupyter slideshow:** This notebook can be displayed as slides. To view it as a slideshow in your browser type in the console:\n",
    "\n",
    "\n",
    "> `> jupyter nbconvert [this_notebook.ipynb] --to slides --post serve`\n",
    "\n",
    "\n",
    "> To toggle off the slideshow cell formatting, click the `CellToolbar` button, then `View --> Cell Toolbar --> None`"
   ]
  },
  {
   "cell_type": "markdown",
   "metadata": {
    "slideshow": {
     "slide_type": "slide"
    }
   },
   "source": [
    "<img src=\"http://imgur.com/1ZcRyrc.png\" style=\"float: left; margin: 20px; height: 55px\">\n",
    "\n",
    "# Github for Teams\n",
    "\n",
    "_Authors: Richard Harris (CHI)_\n",
    "\n",
    "---\n",
    "\n",
    "### Learning Objectives\n",
    "- Use branches to isolate changes tied to specific features\n",
    "- Efficiently and correctly resolve merge conflicts\n",
    "- Fetch changes from a remote without merging them into your own\n",
    "- Explain how rebase combines two branches"
   ]
  },
  {
   "cell_type": "markdown",
   "metadata": {
    "slideshow": {
     "slide_type": "slide"
    }
   },
   "source": [
    "### Lesson Guide\n",
    "- [Opening](#opening)\n",
    "- [Introduction: Merging](#introduction-merging)\n",
    "- [Demo: `fetch`, `checkout`, `merge` from the command line](#demo-fetch-checkout-merge-from-the-command-line)\n",
    "- [Independent Practice: Resolve your Merge Conflict](#independent-practice-resolve-your-merge-conflict)\n",
    "- [Rebasing](#rebasing)\n",
    "- [Discussion: Team Workflows](#discussion-team-workflows)\n",
    "- [Additional Resources](#additional-resources)\n"
   ]
  },
  {
   "cell_type": "markdown",
   "metadata": {
    "slideshow": {
     "slide_type": "slide"
    }
   },
   "source": [
    "<a id=\"opening\"></a>\n",
    "## Opening\n",
    "---\n",
    "\n",
    "Git and Github are used to keep track of work contributions made by various team members on a centralized product. It allows collaborators to keep various versions of work-in-progress code separate from stable versions. \n",
    "\n",
    "At the core of this separation of concerns are the mechanisms called **'Forking'** and **'Branching'**."
   ]
  },
  {
   "cell_type": "markdown",
   "metadata": {
    "slideshow": {
     "slide_type": "slide"
    }
   },
   "source": [
    "<a id=\"introduction-merging\"></a>\n",
    "## Introduction: Merging\n",
    "---\n",
    "\n",
    "**Branch**\n",
    "- A feature branch is used to isolate features that are in progress\n",
    "- Introduce the [git branch documentation](http://www.git-scm.com/docs/git-branch)\n",
    "  * How to create and checkout a branch\n",
    "  * How to list branches\n",
    "  * How to remove a branch\n",
    "\n",
    "![](./assets/images/first2commits.png)"
   ]
  },
  {
   "cell_type": "markdown",
   "metadata": {
    "slideshow": {
     "slide_type": "slide"
    }
   },
   "source": [
    "Now, open a pull request for Student 1 and show how to merge into Master. Success!\n",
    "\n",
    "Next, do the same for Student 2.\n",
    "\n",
    "![](./assets/images/noautomerge.png)\n",
    "\n",
    "We can't merge this in because Student 1 and Student 2 worked on the same files and now we have different versions of the files we're trying to combine.  Let's create pull request anyway and sort this out."
   ]
  },
  {
   "cell_type": "markdown",
   "metadata": {
    "slideshow": {
     "slide_type": "slide"
    }
   },
   "source": [
    "<a id=\"demo-fetch-checkout-merge-from-the-command-line\"></a>\n",
    "## Demo: `fetch`, `checkout`, `merge` from the command line\n",
    "---\n",
    "\n",
    "Remember when we said GitHub is really helpful? Check it out:\n",
    "\n",
    "![](./assets/images/mergedirections.png)"
   ]
  },
  {
   "cell_type": "markdown",
   "metadata": {
    "slideshow": {
     "slide_type": "slide"
    }
   },
   "source": [
    "Simply follow the directions to make this work!\n",
    "\n",
    "```bash\n",
    "git fetch origin\n",
    "git checkout -b Student2 origin/Student2\n",
    "git merge master\n",
    "```\n",
    "\n",
    "In the simplest terms, `git pull` is just like running `git fetch` followed by `git merge`:\n",
    "\n",
    "\n",
    "> _\"When you fetch, Git gathers any commits from the target branch that do not exist in your current branch and stores them in your local repository. However, it does not merge them with your current branch. This is particularly useful if you need to keep your repository up to date, but are working on something that might break if you update your files. To integrate the commits into your master branch, you use merge.\"_\n",
    "\n",
    "> ~ StackOverflow.com\n",
    "\n",
    "```bash\n",
    "Auto-merging model.py\n",
    "CONFLICT (content): Merge conflict in model.py\n",
    "Automatic merge failed; fix conflicts and then commit the result.\n",
    "```"
   ]
  },
  {
   "cell_type": "markdown",
   "metadata": {
    "slideshow": {
     "slide_type": "slide"
    }
   },
   "source": [
    "<a id=\"independent-practice-resolve-your-merge-conflict\"></a>\n",
    "## Independent Practice: Resolve your Merge Conflict\n",
    "---\n",
    "\n",
    "Uh-oh! Looks like we hit a merge conflict. You'll need to work with your partner to resolve the conflicts. Git will mark the conflicts in the working tree for us - your terminal will list the problems.\n",
    "\n",
    "Start by opening the problem files with your text editor, then edit the files by choosing which version you want to keep. Delete all the \"extra stuff\" git adds to show you the merge conflicts, including: `<<<<<<<`, `=======`, `HEAD`, `master`, etc.\n",
    "\n",
    "Next:\n",
    "\n",
    "```bash\n",
    "git add .\n",
    "git commit -m 'your message'\n",
    "git checkout master\n",
    "git merge --no-ff Student2\n",
    "git push origin master\n",
    "```"
   ]
  },
  {
   "cell_type": "markdown",
   "metadata": {
    "slideshow": {
     "slide_type": "slide"
    }
   },
   "source": [
    "**Introduce:** The Nuclear Option\n",
    " - If you ever get completely screwed up, use `git reset --hard HEAD`\n",
    "   * **THIS WILL CAUSE YOU TO LOSE ANY CHANGES!!**\n",
    " - Or you can always remove and re-clone\n",
    "\n",
    "**Note:** When pulling or merging branches, you can always decide ahead of time whether or not you want to keep your changes or their changes in the case that there are conflicts by using the `-X` flag (`-X theirs` keeps their changes if there are conflicts, `-X ours` keeps our changes over theirs if there is a conflict).\n",
    "\n",
    "If you do run into a merge conflict, the `git merge --abort` command will take you back to your state pre-merge so you can decide what to do next."
   ]
  },
  {
   "cell_type": "markdown",
   "metadata": {
    "slideshow": {
     "slide_type": "slide"
    }
   },
   "source": [
    "<a id=\"rebasing\"></a>\n",
    "## Rebasing\n",
    "---\n",
    "\n",
    "While merging represents one possible path for combining different branches, there is another common path called `rebase`.\n",
    "\n",
    "Rebasing works differently than merging. Rather than combining the finished data from two different branches via a single commit, it combines the two branches _themselves_, rearranging them and effectively re-writing history.\n",
    "\n",
    "Here's what a rebase looks like. Suppose we have two branches, like this.\n",
    "\n",
    "![Rebasing - Separate Branches](./assets/images/separatebranches.png)\n",
    "\n",
    "One day, someone makes a commit onto the `master` branch. We want to include those changes into our feature branch, so that our code doesn't conflict with theirs.\n",
    "\n",
    "![Rebasing - Master is Ahead](./assets/images/masterahead.png)"
   ]
  },
  {
   "cell_type": "markdown",
   "metadata": {
    "slideshow": {
     "slide_type": "slide"
    }
   },
   "source": [
    "From our feature branch, if we run the command `git rebase master`, we can tell git to rewrite the history of our feature branch as if the new commit on `master` had __always been there__.\n",
    "\n",
    "![Rebasing - In Action](./assets/images/rebasing.png)\n",
    "\n",
    "Rebase is extremely useful for cleaning up your commit history, but it also carries risk; when you rebase, you are *discarding* your old commits and replacing them with new (though admittedly, similar) commits.\n",
    "\n",
    "This can seriously screw up a fellow collaborator if you're working in a shared repo. The golden rule for `git rebase` is \"only rebase **before** sharing your code, **never** after.\"\n",
    "\n",
    "Like `git merge`, `git rebase` can sometimes run into merge conflicts that need to be resolved. The procedure for doing this is basically the same; once you fix the conflicts, run `git rebase --continue` to complete the rebase."
   ]
  },
  {
   "cell_type": "markdown",
   "metadata": {
    "slideshow": {
     "slide_type": "slide"
    }
   },
   "source": [
    "<a id=\"discussion-team-workflows\"></a>\n",
    "## Discussion: Team Workflows\n",
    "---\n",
    "\n",
    "So far, we've only talked about `rebase` in the context of working alone. Here are a few examples of actual, real-life git workflows - using both rebase and merge - that might get used in the field.\n",
    "\n",
    "### Single-Remote Workflows\n",
    "One thing all of these approaches have in common is the necessity of staying on top of changes within a single shared repository.\n",
    "\n",
    "This is usually accomplished by running `git fetch`, which pulls updates from origin, and merging those updates; alternatively, you could use `git pull` to do both at once.\n",
    "\n",
    "### Centralized Workflow\n",
    "**How It Works**: The remote repo has one single branch on it, `master`. All collaborators have separate clones of this repo. They can each work independently on separate things. However, before they push, they need to run `git fetch`/`git pull` (with the `--rebase` flag) to make sure that their master branch isn't out of date.\n",
    "\n",
    "### Feature Branch Workflow\n",
    "\n",
    "**How It Works**: This workflow is very similar to the 'Centralized' workflow. The biggest difference is that there are branches (which helps to keep feature-related commits isolated), and that instead of pushing changes up directly, collaborators:\n",
    "\n",
    "- push up changes to a new remote branch rather than master, and\n",
    "- submit a pull request to ask for them to be added to the remote repo's `master` branch."
   ]
  },
  {
   "cell_type": "markdown",
   "metadata": {
    "slideshow": {
     "slide_type": "slide"
    }
   },
   "source": [
    "### 'Gitflow' Workflow\n",
    "\n",
    "**How It Works**: Similar to the Feature Branch workflows, but with more rigidly-defined branches. For example:\n",
    "\n",
    "- Historical Branches : `master` stores official releases, while `develop` serves as a living 'integration branch' that ties together all the standalone features.\n",
    "- Release Branches : 'release' branches might exist for any given release, to keep all of those materials together.\n",
    "- Feature Branches : pretty much the same as in the prior model.\n",
    "- Maintenance/'Hotfix' Branches : branches used to quickly patch issues with production code.\n",
    "\n",
    "### Distributed Workflows\n",
    "These approaches all use multiple remote repos; typically, everyone has their own fork of the 'original' project (the version of the repo that's publicly visible and is managed by the project maintainer), and changes are submitted via pull request.\n",
    "\n",
    "### Integration Manager Workflow\n",
    "\n",
    "**How It Works**: One collaborator plays the role of 'Integration Manager'. This means that they are responsible for managing the official repository and either accepting or rejecting pull requests as they come in.\n",
    "\n",
    "### Dictator/Lieutenants Workflow\n",
    "\n",
    "**How It Works**: This workflow is very similar to the Integration Manager Workflow. The biggest difference is that rather than submitting all pull requests to a single integration manager, pull requests are funneled through 'Lieutenants', who all report to the 'Dictator'. Only the Dictator has write access to the official repo."
   ]
  },
  {
   "cell_type": "markdown",
   "metadata": {
    "slideshow": {
     "slide_type": "slide"
    }
   },
   "source": [
    "<a id=\"additional-resources\"></a>\n",
    "## Additional Resources\n",
    "---\n",
    "\n",
    "- [Atlassian - Git Workflow Diagrams](https://www.atlassian.com/git/tutorials/comparing-workflows/centralized-workflow)\n",
    "- [Git Branching Workflow Discussion](https://git-scm.com/book/en/v2/Git-Branching-Branching-Workflows)"
   ]
  }
 ],
 "metadata": {
  "celltoolbar": "Slideshow",
  "kernelspec": {
   "display_name": "Python 3",
   "language": "python",
   "name": "python3"
  },
  "language_info": {
   "codemirror_mode": {
    "name": "ipython",
    "version": 3
   },
   "file_extension": ".py",
   "mimetype": "text/x-python",
   "name": "python",
   "nbconvert_exporter": "python",
   "pygments_lexer": "ipython3",
   "version": "3.7.3"
  }
 },
 "nbformat": 4,
 "nbformat_minor": 4
}
